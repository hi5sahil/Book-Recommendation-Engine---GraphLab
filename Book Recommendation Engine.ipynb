{
 "cells": [
  {
   "cell_type": "code",
   "execution_count": 1,
   "metadata": {
    "collapsed": true
   },
   "outputs": [],
   "source": [
    "import numpy as np\n",
    "import pandas as pd\n",
    "from IPython.display import display, HTML"
   ]
  },
  {
   "cell_type": "code",
   "execution_count": 2,
   "metadata": {
    "collapsed": false
   },
   "outputs": [
    {
     "data": {
      "text/html": [
       "<div>\n",
       "<table border=\"1\" class=\"dataframe\">\n",
       "  <thead>\n",
       "    <tr style=\"text-align: right;\">\n",
       "      <th></th>\n",
       "      <th>User-ID</th>\n",
       "      <th>ISBN</th>\n",
       "      <th>Book-Rating</th>\n",
       "    </tr>\n",
       "  </thead>\n",
       "  <tbody>\n",
       "    <tr>\n",
       "      <th>0</th>\n",
       "      <td>276725</td>\n",
       "      <td>034545104X</td>\n",
       "      <td>0</td>\n",
       "    </tr>\n",
       "    <tr>\n",
       "      <th>1</th>\n",
       "      <td>276726</td>\n",
       "      <td>0155061224</td>\n",
       "      <td>5</td>\n",
       "    </tr>\n",
       "    <tr>\n",
       "      <th>2</th>\n",
       "      <td>276727</td>\n",
       "      <td>0446520802</td>\n",
       "      <td>0</td>\n",
       "    </tr>\n",
       "    <tr>\n",
       "      <th>3</th>\n",
       "      <td>276729</td>\n",
       "      <td>052165615X</td>\n",
       "      <td>3</td>\n",
       "    </tr>\n",
       "    <tr>\n",
       "      <th>4</th>\n",
       "      <td>276729</td>\n",
       "      <td>0521795028</td>\n",
       "      <td>6</td>\n",
       "    </tr>\n",
       "  </tbody>\n",
       "</table>\n",
       "</div>"
      ],
      "text/plain": [
       "   User-ID        ISBN  Book-Rating\n",
       "0   276725  034545104X            0\n",
       "1   276726  0155061224            5\n",
       "2   276727  0446520802            0\n",
       "3   276729  052165615X            3\n",
       "4   276729  0521795028            6"
      ]
     },
     "execution_count": 2,
     "metadata": {},
     "output_type": "execute_result"
    }
   ],
   "source": [
    "ratings = pd.read_csv('BX-Book-Ratings.csv',sep=';')\n",
    "ratings.head()"
   ]
  },
  {
   "cell_type": "code",
   "execution_count": 3,
   "metadata": {
    "collapsed": false
   },
   "outputs": [
    {
     "data": {
      "text/html": [
       "<div>\n",
       "<table border=\"1\" class=\"dataframe\">\n",
       "  <thead>\n",
       "    <tr style=\"text-align: right;\">\n",
       "      <th></th>\n",
       "      <th>User-ID</th>\n",
       "      <th>ISBN</th>\n",
       "      <th>Book-Rating</th>\n",
       "    </tr>\n",
       "  </thead>\n",
       "  <tbody>\n",
       "  </tbody>\n",
       "</table>\n",
       "</div>"
      ],
      "text/plain": [
       "Empty DataFrame\n",
       "Columns: [User-ID, ISBN, Book-Rating]\n",
       "Index: []"
      ]
     },
     "execution_count": 3,
     "metadata": {},
     "output_type": "execute_result"
    }
   ],
   "source": [
    "#No negative ratings\n",
    "ratings[ratings['Book-Rating']<0].head()"
   ]
  },
  {
   "cell_type": "code",
   "execution_count": 4,
   "metadata": {
    "collapsed": false
   },
   "outputs": [
    {
     "data": {
      "text/html": [
       "<div>\n",
       "<table border=\"1\" class=\"dataframe\">\n",
       "  <thead>\n",
       "    <tr style=\"text-align: right;\">\n",
       "      <th></th>\n",
       "      <th>User-ID</th>\n",
       "      <th>ISBN</th>\n",
       "      <th>Book-Rating</th>\n",
       "    </tr>\n",
       "  </thead>\n",
       "  <tbody>\n",
       "    <tr>\n",
       "      <th>289554</th>\n",
       "      <td>69188</td>\n",
       "      <td>0060911239</td>\n",
       "      <td>0</td>\n",
       "    </tr>\n",
       "    <tr>\n",
       "      <th>289555</th>\n",
       "      <td>69188</td>\n",
       "      <td>0060929499</td>\n",
       "      <td>8</td>\n",
       "    </tr>\n",
       "    <tr>\n",
       "      <th>289556</th>\n",
       "      <td>69188</td>\n",
       "      <td>0060969989</td>\n",
       "      <td>8</td>\n",
       "    </tr>\n",
       "    <tr>\n",
       "      <th>289557</th>\n",
       "      <td>69188</td>\n",
       "      <td>014027684X</td>\n",
       "      <td>9</td>\n",
       "    </tr>\n",
       "    <tr>\n",
       "      <th>289558</th>\n",
       "      <td>69188</td>\n",
       "      <td>014029628X</td>\n",
       "      <td>9</td>\n",
       "    </tr>\n",
       "  </tbody>\n",
       "</table>\n",
       "</div>"
      ],
      "text/plain": [
       "        User-ID        ISBN  Book-Rating\n",
       "289554    69188  0060911239            0\n",
       "289555    69188  0060929499            8\n",
       "289556    69188  0060969989            8\n",
       "289557    69188  014027684X            9\n",
       "289558    69188  014029628X            9"
      ]
     },
     "execution_count": 4,
     "metadata": {},
     "output_type": "execute_result"
    }
   ],
   "source": [
    "ratings[ratings['User-ID']==69188].head()  "
   ]
  },
  {
   "cell_type": "code",
   "execution_count": 5,
   "metadata": {
    "collapsed": false
   },
   "outputs": [
    {
     "data": {
      "text/html": [
       "<div>\n",
       "<table border=\"1\" class=\"dataframe\">\n",
       "  <thead>\n",
       "    <tr style=\"text-align: right;\">\n",
       "      <th></th>\n",
       "      <th>User-ID</th>\n",
       "      <th>Location</th>\n",
       "      <th>Age</th>\n",
       "    </tr>\n",
       "  </thead>\n",
       "  <tbody>\n",
       "    <tr>\n",
       "      <th>0</th>\n",
       "      <td>1</td>\n",
       "      <td>nyc, new york, usa</td>\n",
       "      <td>NaN</td>\n",
       "    </tr>\n",
       "    <tr>\n",
       "      <th>1</th>\n",
       "      <td>2</td>\n",
       "      <td>stockton, california, usa</td>\n",
       "      <td>18.0</td>\n",
       "    </tr>\n",
       "    <tr>\n",
       "      <th>2</th>\n",
       "      <td>3</td>\n",
       "      <td>moscow, yukon territory, russia</td>\n",
       "      <td>NaN</td>\n",
       "    </tr>\n",
       "    <tr>\n",
       "      <th>3</th>\n",
       "      <td>4</td>\n",
       "      <td>porto, v.n.gaia, portugal</td>\n",
       "      <td>17.0</td>\n",
       "    </tr>\n",
       "    <tr>\n",
       "      <th>4</th>\n",
       "      <td>5</td>\n",
       "      <td>farnborough, hants, united kingdom</td>\n",
       "      <td>NaN</td>\n",
       "    </tr>\n",
       "  </tbody>\n",
       "</table>\n",
       "</div>"
      ],
      "text/plain": [
       "   User-ID                            Location   Age\n",
       "0        1                  nyc, new york, usa   NaN\n",
       "1        2           stockton, california, usa  18.0\n",
       "2        3     moscow, yukon territory, russia   NaN\n",
       "3        4           porto, v.n.gaia, portugal  17.0\n",
       "4        5  farnborough, hants, united kingdom   NaN"
      ]
     },
     "execution_count": 5,
     "metadata": {},
     "output_type": "execute_result"
    }
   ],
   "source": [
    "users = pd.read_csv('BX-Users.csv',sep=';')\n",
    "users.head()"
   ]
  },
  {
   "cell_type": "code",
   "execution_count": 30,
   "metadata": {
    "collapsed": false
   },
   "outputs": [
    {
     "name": "stderr",
     "output_type": "stream",
     "text": [
      "C:\\Users\\Sahil Gupta\\Anaconda2\\envs\\gl-env\\lib\\site-packages\\ipykernel\\__main__.py:1: ParserWarning: Falling back to the 'python' engine because the 'c' engine does not support regex separators; you can avoid this warning by specifying engine='python'.\n",
      "  if __name__ == '__main__':\n"
     ]
    },
    {
     "data": {
      "text/html": [
       "<div>\n",
       "<table border=\"1\" class=\"dataframe\">\n",
       "  <thead>\n",
       "    <tr style=\"text-align: right;\">\n",
       "      <th></th>\n",
       "      <th>\"ISBN</th>\n",
       "      <th>Book-Title</th>\n",
       "      <th>Book-Author</th>\n",
       "      <th>Year-Of-Publication</th>\n",
       "      <th>Publisher</th>\n",
       "      <th>Image-URL-S</th>\n",
       "      <th>Image-URL-M</th>\n",
       "      <th>Image-URL-L\"</th>\n",
       "    </tr>\n",
       "  </thead>\n",
       "  <tbody>\n",
       "    <tr>\n",
       "      <th>0</th>\n",
       "      <td>\"0195153448</td>\n",
       "      <td>Classical Mythology</td>\n",
       "      <td>Mark P. O. Morford</td>\n",
       "      <td>2002</td>\n",
       "      <td>Oxford University Press</td>\n",
       "      <td>http://images.amazon.com/images/P/0195153448.0...</td>\n",
       "      <td>http://images.amazon.com/images/P/0195153448.0...</td>\n",
       "      <td>http://images.amazon.com/images/P/0195153448.0...</td>\n",
       "    </tr>\n",
       "    <tr>\n",
       "      <th>1</th>\n",
       "      <td>\"0002005018</td>\n",
       "      <td>Clara Callan</td>\n",
       "      <td>Richard Bruce Wright</td>\n",
       "      <td>2001</td>\n",
       "      <td>HarperFlamingo Canada</td>\n",
       "      <td>http://images.amazon.com/images/P/0002005018.0...</td>\n",
       "      <td>http://images.amazon.com/images/P/0002005018.0...</td>\n",
       "      <td>http://images.amazon.com/images/P/0002005018.0...</td>\n",
       "    </tr>\n",
       "    <tr>\n",
       "      <th>2</th>\n",
       "      <td>\"0060973129</td>\n",
       "      <td>Decision in Normandy</td>\n",
       "      <td>Carlo D'Este</td>\n",
       "      <td>1991</td>\n",
       "      <td>HarperPerennial</td>\n",
       "      <td>http://images.amazon.com/images/P/0060973129.0...</td>\n",
       "      <td>http://images.amazon.com/images/P/0060973129.0...</td>\n",
       "      <td>http://images.amazon.com/images/P/0060973129.0...</td>\n",
       "    </tr>\n",
       "    <tr>\n",
       "      <th>3</th>\n",
       "      <td>\"0374157065</td>\n",
       "      <td>Flu: The Story of the Great Influenza Pandemic...</td>\n",
       "      <td>Gina Bari Kolata</td>\n",
       "      <td>1999</td>\n",
       "      <td>Farrar Straus Giroux</td>\n",
       "      <td>http://images.amazon.com/images/P/0374157065.0...</td>\n",
       "      <td>http://images.amazon.com/images/P/0374157065.0...</td>\n",
       "      <td>http://images.amazon.com/images/P/0374157065.0...</td>\n",
       "    </tr>\n",
       "    <tr>\n",
       "      <th>4</th>\n",
       "      <td>\"0393045218</td>\n",
       "      <td>The Mummies of Urumchi</td>\n",
       "      <td>E. J. W. Barber</td>\n",
       "      <td>1999</td>\n",
       "      <td>W. W. Norton &amp;amp; Company</td>\n",
       "      <td>http://images.amazon.com/images/P/0393045218.0...</td>\n",
       "      <td>http://images.amazon.com/images/P/0393045218.0...</td>\n",
       "      <td>http://images.amazon.com/images/P/0393045218.0...</td>\n",
       "    </tr>\n",
       "  </tbody>\n",
       "</table>\n",
       "</div>"
      ],
      "text/plain": [
       "         \"ISBN                                         Book-Title  \\\n",
       "0  \"0195153448                                Classical Mythology   \n",
       "1  \"0002005018                                       Clara Callan   \n",
       "2  \"0060973129                               Decision in Normandy   \n",
       "3  \"0374157065  Flu: The Story of the Great Influenza Pandemic...   \n",
       "4  \"0393045218                             The Mummies of Urumchi   \n",
       "\n",
       "            Book-Author  Year-Of-Publication                   Publisher  \\\n",
       "0    Mark P. O. Morford                 2002     Oxford University Press   \n",
       "1  Richard Bruce Wright                 2001       HarperFlamingo Canada   \n",
       "2          Carlo D'Este                 1991             HarperPerennial   \n",
       "3      Gina Bari Kolata                 1999        Farrar Straus Giroux   \n",
       "4       E. J. W. Barber                 1999  W. W. Norton &amp; Company   \n",
       "\n",
       "                                         Image-URL-S  \\\n",
       "0  http://images.amazon.com/images/P/0195153448.0...   \n",
       "1  http://images.amazon.com/images/P/0002005018.0...   \n",
       "2  http://images.amazon.com/images/P/0060973129.0...   \n",
       "3  http://images.amazon.com/images/P/0374157065.0...   \n",
       "4  http://images.amazon.com/images/P/0393045218.0...   \n",
       "\n",
       "                                         Image-URL-M  \\\n",
       "0  http://images.amazon.com/images/P/0195153448.0...   \n",
       "1  http://images.amazon.com/images/P/0002005018.0...   \n",
       "2  http://images.amazon.com/images/P/0060973129.0...   \n",
       "3  http://images.amazon.com/images/P/0374157065.0...   \n",
       "4  http://images.amazon.com/images/P/0393045218.0...   \n",
       "\n",
       "                                        Image-URL-L\"  \n",
       "0  http://images.amazon.com/images/P/0195153448.0...  \n",
       "1  http://images.amazon.com/images/P/0002005018.0...  \n",
       "2  http://images.amazon.com/images/P/0060973129.0...  \n",
       "3  http://images.amazon.com/images/P/0374157065.0...  \n",
       "4  http://images.amazon.com/images/P/0393045218.0...  "
      ]
     },
     "execution_count": 30,
     "metadata": {},
     "output_type": "execute_result"
    }
   ],
   "source": [
    "books = pd.read_csv('BX-Books.csv',sep='\";\"')\n",
    "books.head()"
   ]
  },
  {
   "cell_type": "code",
   "execution_count": 33,
   "metadata": {
    "collapsed": false
   },
   "outputs": [],
   "source": [
    "books.columns = [col.replace(\"\\\"\",\"\") for col in books.columns]"
   ]
  },
  {
   "cell_type": "code",
   "execution_count": 34,
   "metadata": {
    "collapsed": false
   },
   "outputs": [],
   "source": [
    "books['ISBN'] = [val.replace(\"\\\"\",\"\") for val in books['ISBN']]"
   ]
  },
  {
   "cell_type": "code",
   "execution_count": 35,
   "metadata": {
    "collapsed": false
   },
   "outputs": [
    {
     "data": {
      "text/plain": [
       "0    0195153448\n",
       "1    0002005018\n",
       "2    0060973129\n",
       "3    0374157065\n",
       "4    0393045218\n",
       "Name: ISBN, dtype: object"
      ]
     },
     "execution_count": 35,
     "metadata": {},
     "output_type": "execute_result"
    }
   ],
   "source": [
    "books['ISBN'].head()"
   ]
  },
  {
   "cell_type": "code",
   "execution_count": 36,
   "metadata": {
    "collapsed": true
   },
   "outputs": [],
   "source": [
    "books['Image-URL-L'] = [val.replace(\"\\\"\",\"\") for val in books['Image-URL-L']]"
   ]
  },
  {
   "cell_type": "code",
   "execution_count": 37,
   "metadata": {
    "collapsed": false
   },
   "outputs": [
    {
     "data": {
      "text/plain": [
       "0    http://images.amazon.com/images/P/0195153448.0...\n",
       "1    http://images.amazon.com/images/P/0002005018.0...\n",
       "2    http://images.amazon.com/images/P/0060973129.0...\n",
       "3    http://images.amazon.com/images/P/0374157065.0...\n",
       "4    http://images.amazon.com/images/P/0393045218.0...\n",
       "Name: Image-URL-L, dtype: object"
      ]
     },
     "execution_count": 37,
     "metadata": {},
     "output_type": "execute_result"
    }
   ],
   "source": [
    "books['Image-URL-L'].head()"
   ]
  },
  {
   "cell_type": "code",
   "execution_count": 38,
   "metadata": {
    "collapsed": false
   },
   "outputs": [],
   "source": [
    "# Create a new conda environment with Python 2.7.x\n",
    "#!conda create -n gl-env python=2.7 anaconda=4.0.0\n",
    "\n",
    "# Activate the conda environment\n",
    "#!activate gl-env"
   ]
  },
  {
   "cell_type": "code",
   "execution_count": 14,
   "metadata": {
    "collapsed": false
   },
   "outputs": [],
   "source": [
    "#!python -m pip install --upgrade pip"
   ]
  },
  {
   "cell_type": "code",
   "execution_count": 15,
   "metadata": {
    "collapsed": false
   },
   "outputs": [],
   "source": [
    "#!pip install --upgrade --no-cache-dir https://get.graphlab.com/GraphLab-Create/2.1/gupta376@umn.edu/4715-4040-4813-090E-5214-4B52-7359-CB73/GraphLab-Create-License.tar.gz"
   ]
  },
  {
   "cell_type": "code",
   "execution_count": 16,
   "metadata": {
    "collapsed": false
   },
   "outputs": [],
   "source": [
    "import graphlab"
   ]
  },
  {
   "cell_type": "code",
   "execution_count": 17,
   "metadata": {
    "collapsed": false
   },
   "outputs": [],
   "source": [
    "#graphlab.get_dependencies()"
   ]
  },
  {
   "cell_type": "code",
   "execution_count": 18,
   "metadata": {
    "collapsed": true
   },
   "outputs": [],
   "source": [
    "from sklearn.cross_validation import cross_val_score, train_test_split"
   ]
  },
  {
   "cell_type": "code",
   "execution_count": 19,
   "metadata": {
    "collapsed": false
   },
   "outputs": [],
   "source": [
    "## Train the model (fit the data)\n",
    "train_data, test_data = train_test_split(ratings, train_size=0.95, random_state=100)"
   ]
  },
  {
   "cell_type": "code",
   "execution_count": 20,
   "metadata": {
    "collapsed": false
   },
   "outputs": [
    {
     "data": {
      "text/html": [
       "<div>\n",
       "<table border=\"1\" class=\"dataframe\">\n",
       "  <thead>\n",
       "    <tr style=\"text-align: right;\">\n",
       "      <th></th>\n",
       "      <th>User-ID</th>\n",
       "      <th>ISBN</th>\n",
       "      <th>Book-Rating</th>\n",
       "    </tr>\n",
       "  </thead>\n",
       "  <tbody>\n",
       "    <tr>\n",
       "      <th>238955</th>\n",
       "      <td>55492</td>\n",
       "      <td>0373484143</td>\n",
       "      <td>0</td>\n",
       "    </tr>\n",
       "    <tr>\n",
       "      <th>368161</th>\n",
       "      <td>88499</td>\n",
       "      <td>076790592X</td>\n",
       "      <td>9</td>\n",
       "    </tr>\n",
       "    <tr>\n",
       "      <th>124453</th>\n",
       "      <td>28591</td>\n",
       "      <td>0451411307</td>\n",
       "      <td>0</td>\n",
       "    </tr>\n",
       "    <tr>\n",
       "      <th>1006318</th>\n",
       "      <td>241666</td>\n",
       "      <td>0060198125</td>\n",
       "      <td>0</td>\n",
       "    </tr>\n",
       "    <tr>\n",
       "      <th>687490</th>\n",
       "      <td>167471</td>\n",
       "      <td>1861263317</td>\n",
       "      <td>0</td>\n",
       "    </tr>\n",
       "  </tbody>\n",
       "</table>\n",
       "</div>"
      ],
      "text/plain": [
       "         User-ID        ISBN  Book-Rating\n",
       "238955     55492  0373484143            0\n",
       "368161     88499  076790592X            9\n",
       "124453     28591  0451411307            0\n",
       "1006318   241666  0060198125            0\n",
       "687490    167471  1861263317            0"
      ]
     },
     "execution_count": 20,
     "metadata": {},
     "output_type": "execute_result"
    }
   ],
   "source": [
    "train_data.head()"
   ]
  },
  {
   "cell_type": "code",
   "execution_count": 21,
   "metadata": {
    "collapsed": false
   },
   "outputs": [
    {
     "name": "stdout",
     "output_type": "stream",
     "text": [
      "This non-commercial license of GraphLab Create for academic use is assigned to gupta376@umn.edu and will expire on December 12, 2017.\n"
     ]
    },
    {
     "name": "stderr",
     "output_type": "stream",
     "text": [
      "[INFO] graphlab.cython.cy_server: GraphLab Create v2.1 started. Logging: C:\\Users\\SAHILG~1\\AppData\\Local\\Temp\\graphlab_server_1483465715.log.0\n"
     ]
    }
   ],
   "source": [
    "sf = graphlab.SFrame(train_data)\n",
    "sfTest = graphlab.SFrame(test_data)"
   ]
  },
  {
   "cell_type": "code",
   "execution_count": 31,
   "metadata": {
    "collapsed": false
   },
   "outputs": [
    {
     "data": {
      "text/html": [
       "<pre>Recsys training: model = popularity</pre>"
      ],
      "text/plain": [
       "Recsys training: model = popularity"
      ]
     },
     "metadata": {},
     "output_type": "display_data"
    },
    {
     "data": {
      "text/html": [
       "<pre>Preparing data set.</pre>"
      ],
      "text/plain": [
       "Preparing data set."
      ]
     },
     "metadata": {},
     "output_type": "display_data"
    },
    {
     "data": {
      "text/html": [
       "<pre>    Data has 1092291 observations with 102300 users and 330476 items.</pre>"
      ],
      "text/plain": [
       "    Data has 1092291 observations with 102300 users and 330476 items."
      ]
     },
     "metadata": {},
     "output_type": "display_data"
    },
    {
     "data": {
      "text/html": [
       "<pre>    Data prepared in: 1.44484s</pre>"
      ],
      "text/plain": [
       "    Data prepared in: 1.44484s"
      ]
     },
     "metadata": {},
     "output_type": "display_data"
    },
    {
     "data": {
      "text/html": [
       "<pre>1092291 observations to process; with 330476 unique items.</pre>"
      ],
      "text/plain": [
       "1092291 observations to process; with 330476 unique items."
      ]
     },
     "metadata": {},
     "output_type": "display_data"
    }
   ],
   "source": [
    "popularity_model = graphlab.popularity_recommender.create(sf, user_id='User-ID', item_id='ISBN', target='Book-Rating')"
   ]
  },
  {
   "cell_type": "code",
   "execution_count": 61,
   "metadata": {
    "collapsed": false
   },
   "outputs": [
    {
     "name": "stdout",
     "output_type": "stream",
     "text": [
      "+---------+------------+-------+------+\n",
      "| User-ID |    ISBN    | score | rank |\n",
      "+---------+------------+-------+------+\n",
      "|    1    | 0679415327 |  10.0 |  1   |\n",
      "|    1    | 0971938830 |  10.0 |  2   |\n",
      "|    1    | 0486424650 |  10.0 |  3   |\n",
      "|    1    | 0785270639 |  10.0 |  4   |\n",
      "|    1    | 3492223303 |  10.0 |  5   |\n",
      "|    2    | 0679415327 |  10.0 |  1   |\n",
      "|    2    | 0971938830 |  10.0 |  2   |\n",
      "|    2    | 0486424650 |  10.0 |  3   |\n",
      "|    2    | 0785270639 |  10.0 |  4   |\n",
      "|    2    | 3492223303 |  10.0 |  5   |\n",
      "+---------+------------+-------+------+\n",
      "[45 rows x 4 columns]\n",
      "\n"
     ]
    }
   ],
   "source": [
    "popularity_recomm = popularity_model.recommend(users=range(1,10),k=5)\n",
    "popularity_recomm.print_rows(num_rows=10)"
   ]
  },
  {
   "cell_type": "code",
   "execution_count": 62,
   "metadata": {
    "collapsed": true
   },
   "outputs": [],
   "source": [
    "aggr = pd.merge(graphlab.SFrame.to_dataframe(popularity_recomm), books[['ISBN','Book-Title']], on = ['ISBN'], how='inner')"
   ]
  },
  {
   "cell_type": "code",
   "execution_count": 63,
   "metadata": {
    "collapsed": false
   },
   "outputs": [
    {
     "data": {
      "text/html": [
       "<div>\n",
       "<table border=\"1\" class=\"dataframe\">\n",
       "  <thead>\n",
       "    <tr style=\"text-align: right;\">\n",
       "      <th></th>\n",
       "      <th>User-ID</th>\n",
       "      <th>ISBN</th>\n",
       "      <th>score</th>\n",
       "      <th>rank</th>\n",
       "      <th>Book-Title</th>\n",
       "    </tr>\n",
       "  </thead>\n",
       "  <tbody>\n",
       "    <tr>\n",
       "      <th>0</th>\n",
       "      <td>1</td>\n",
       "      <td>0679415327</td>\n",
       "      <td>10.0</td>\n",
       "      <td>1</td>\n",
       "      <td>A Place of My Own: The Education of an Amateur...</td>\n",
       "    </tr>\n",
       "    <tr>\n",
       "      <th>1</th>\n",
       "      <td>2</td>\n",
       "      <td>0679415327</td>\n",
       "      <td>10.0</td>\n",
       "      <td>1</td>\n",
       "      <td>A Place of My Own: The Education of an Amateur...</td>\n",
       "    </tr>\n",
       "    <tr>\n",
       "      <th>2</th>\n",
       "      <td>3</td>\n",
       "      <td>0679415327</td>\n",
       "      <td>10.0</td>\n",
       "      <td>1</td>\n",
       "      <td>A Place of My Own: The Education of an Amateur...</td>\n",
       "    </tr>\n",
       "    <tr>\n",
       "      <th>3</th>\n",
       "      <td>4</td>\n",
       "      <td>0679415327</td>\n",
       "      <td>10.0</td>\n",
       "      <td>1</td>\n",
       "      <td>A Place of My Own: The Education of an Amateur...</td>\n",
       "    </tr>\n",
       "    <tr>\n",
       "      <th>4</th>\n",
       "      <td>5</td>\n",
       "      <td>0679415327</td>\n",
       "      <td>10.0</td>\n",
       "      <td>1</td>\n",
       "      <td>A Place of My Own: The Education of an Amateur...</td>\n",
       "    </tr>\n",
       "    <tr>\n",
       "      <th>5</th>\n",
       "      <td>6</td>\n",
       "      <td>0679415327</td>\n",
       "      <td>10.0</td>\n",
       "      <td>1</td>\n",
       "      <td>A Place of My Own: The Education of an Amateur...</td>\n",
       "    </tr>\n",
       "    <tr>\n",
       "      <th>6</th>\n",
       "      <td>7</td>\n",
       "      <td>0679415327</td>\n",
       "      <td>10.0</td>\n",
       "      <td>1</td>\n",
       "      <td>A Place of My Own: The Education of an Amateur...</td>\n",
       "    </tr>\n",
       "    <tr>\n",
       "      <th>7</th>\n",
       "      <td>8</td>\n",
       "      <td>0679415327</td>\n",
       "      <td>10.0</td>\n",
       "      <td>1</td>\n",
       "      <td>A Place of My Own: The Education of an Amateur...</td>\n",
       "    </tr>\n",
       "    <tr>\n",
       "      <th>8</th>\n",
       "      <td>9</td>\n",
       "      <td>0679415327</td>\n",
       "      <td>10.0</td>\n",
       "      <td>1</td>\n",
       "      <td>A Place of My Own: The Education of an Amateur...</td>\n",
       "    </tr>\n",
       "    <tr>\n",
       "      <th>9</th>\n",
       "      <td>1</td>\n",
       "      <td>0971938830</td>\n",
       "      <td>10.0</td>\n",
       "      <td>2</td>\n",
       "      <td>The Authentic Annals of the Early Hebrews</td>\n",
       "    </tr>\n",
       "    <tr>\n",
       "      <th>10</th>\n",
       "      <td>2</td>\n",
       "      <td>0971938830</td>\n",
       "      <td>10.0</td>\n",
       "      <td>2</td>\n",
       "      <td>The Authentic Annals of the Early Hebrews</td>\n",
       "    </tr>\n",
       "    <tr>\n",
       "      <th>11</th>\n",
       "      <td>3</td>\n",
       "      <td>0971938830</td>\n",
       "      <td>10.0</td>\n",
       "      <td>2</td>\n",
       "      <td>The Authentic Annals of the Early Hebrews</td>\n",
       "    </tr>\n",
       "    <tr>\n",
       "      <th>12</th>\n",
       "      <td>4</td>\n",
       "      <td>0971938830</td>\n",
       "      <td>10.0</td>\n",
       "      <td>2</td>\n",
       "      <td>The Authentic Annals of the Early Hebrews</td>\n",
       "    </tr>\n",
       "    <tr>\n",
       "      <th>13</th>\n",
       "      <td>5</td>\n",
       "      <td>0971938830</td>\n",
       "      <td>10.0</td>\n",
       "      <td>2</td>\n",
       "      <td>The Authentic Annals of the Early Hebrews</td>\n",
       "    </tr>\n",
       "    <tr>\n",
       "      <th>14</th>\n",
       "      <td>6</td>\n",
       "      <td>0971938830</td>\n",
       "      <td>10.0</td>\n",
       "      <td>2</td>\n",
       "      <td>The Authentic Annals of the Early Hebrews</td>\n",
       "    </tr>\n",
       "    <tr>\n",
       "      <th>15</th>\n",
       "      <td>7</td>\n",
       "      <td>0971938830</td>\n",
       "      <td>10.0</td>\n",
       "      <td>2</td>\n",
       "      <td>The Authentic Annals of the Early Hebrews</td>\n",
       "    </tr>\n",
       "    <tr>\n",
       "      <th>16</th>\n",
       "      <td>8</td>\n",
       "      <td>0971938830</td>\n",
       "      <td>10.0</td>\n",
       "      <td>2</td>\n",
       "      <td>The Authentic Annals of the Early Hebrews</td>\n",
       "    </tr>\n",
       "    <tr>\n",
       "      <th>17</th>\n",
       "      <td>9</td>\n",
       "      <td>0971938830</td>\n",
       "      <td>10.0</td>\n",
       "      <td>2</td>\n",
       "      <td>The Authentic Annals of the Early Hebrews</td>\n",
       "    </tr>\n",
       "    <tr>\n",
       "      <th>18</th>\n",
       "      <td>1</td>\n",
       "      <td>0486424650</td>\n",
       "      <td>10.0</td>\n",
       "      <td>3</td>\n",
       "      <td>The Communist Manifesto and Other Revolutionar...</td>\n",
       "    </tr>\n",
       "    <tr>\n",
       "      <th>19</th>\n",
       "      <td>2</td>\n",
       "      <td>0486424650</td>\n",
       "      <td>10.0</td>\n",
       "      <td>3</td>\n",
       "      <td>The Communist Manifesto and Other Revolutionar...</td>\n",
       "    </tr>\n",
       "    <tr>\n",
       "      <th>20</th>\n",
       "      <td>3</td>\n",
       "      <td>0486424650</td>\n",
       "      <td>10.0</td>\n",
       "      <td>3</td>\n",
       "      <td>The Communist Manifesto and Other Revolutionar...</td>\n",
       "    </tr>\n",
       "    <tr>\n",
       "      <th>21</th>\n",
       "      <td>4</td>\n",
       "      <td>0486424650</td>\n",
       "      <td>10.0</td>\n",
       "      <td>3</td>\n",
       "      <td>The Communist Manifesto and Other Revolutionar...</td>\n",
       "    </tr>\n",
       "    <tr>\n",
       "      <th>22</th>\n",
       "      <td>5</td>\n",
       "      <td>0486424650</td>\n",
       "      <td>10.0</td>\n",
       "      <td>3</td>\n",
       "      <td>The Communist Manifesto and Other Revolutionar...</td>\n",
       "    </tr>\n",
       "    <tr>\n",
       "      <th>23</th>\n",
       "      <td>6</td>\n",
       "      <td>0486424650</td>\n",
       "      <td>10.0</td>\n",
       "      <td>3</td>\n",
       "      <td>The Communist Manifesto and Other Revolutionar...</td>\n",
       "    </tr>\n",
       "    <tr>\n",
       "      <th>24</th>\n",
       "      <td>7</td>\n",
       "      <td>0486424650</td>\n",
       "      <td>10.0</td>\n",
       "      <td>3</td>\n",
       "      <td>The Communist Manifesto and Other Revolutionar...</td>\n",
       "    </tr>\n",
       "    <tr>\n",
       "      <th>25</th>\n",
       "      <td>8</td>\n",
       "      <td>0486424650</td>\n",
       "      <td>10.0</td>\n",
       "      <td>3</td>\n",
       "      <td>The Communist Manifesto and Other Revolutionar...</td>\n",
       "    </tr>\n",
       "    <tr>\n",
       "      <th>26</th>\n",
       "      <td>9</td>\n",
       "      <td>0486424650</td>\n",
       "      <td>10.0</td>\n",
       "      <td>3</td>\n",
       "      <td>The Communist Manifesto and Other Revolutionar...</td>\n",
       "    </tr>\n",
       "    <tr>\n",
       "      <th>27</th>\n",
       "      <td>1</td>\n",
       "      <td>0785270639</td>\n",
       "      <td>10.0</td>\n",
       "      <td>4</td>\n",
       "      <td>Living Simply In God's Abundance Strength And ...</td>\n",
       "    </tr>\n",
       "    <tr>\n",
       "      <th>28</th>\n",
       "      <td>2</td>\n",
       "      <td>0785270639</td>\n",
       "      <td>10.0</td>\n",
       "      <td>4</td>\n",
       "      <td>Living Simply In God's Abundance Strength And ...</td>\n",
       "    </tr>\n",
       "    <tr>\n",
       "      <th>29</th>\n",
       "      <td>3</td>\n",
       "      <td>0785270639</td>\n",
       "      <td>10.0</td>\n",
       "      <td>4</td>\n",
       "      <td>Living Simply In God's Abundance Strength And ...</td>\n",
       "    </tr>\n",
       "    <tr>\n",
       "      <th>30</th>\n",
       "      <td>4</td>\n",
       "      <td>0785270639</td>\n",
       "      <td>10.0</td>\n",
       "      <td>4</td>\n",
       "      <td>Living Simply In God's Abundance Strength And ...</td>\n",
       "    </tr>\n",
       "    <tr>\n",
       "      <th>31</th>\n",
       "      <td>5</td>\n",
       "      <td>0785270639</td>\n",
       "      <td>10.0</td>\n",
       "      <td>4</td>\n",
       "      <td>Living Simply In God's Abundance Strength And ...</td>\n",
       "    </tr>\n",
       "    <tr>\n",
       "      <th>32</th>\n",
       "      <td>6</td>\n",
       "      <td>0785270639</td>\n",
       "      <td>10.0</td>\n",
       "      <td>4</td>\n",
       "      <td>Living Simply In God's Abundance Strength And ...</td>\n",
       "    </tr>\n",
       "    <tr>\n",
       "      <th>33</th>\n",
       "      <td>7</td>\n",
       "      <td>0785270639</td>\n",
       "      <td>10.0</td>\n",
       "      <td>4</td>\n",
       "      <td>Living Simply In God's Abundance Strength And ...</td>\n",
       "    </tr>\n",
       "    <tr>\n",
       "      <th>34</th>\n",
       "      <td>8</td>\n",
       "      <td>0785270639</td>\n",
       "      <td>10.0</td>\n",
       "      <td>4</td>\n",
       "      <td>Living Simply In God's Abundance Strength And ...</td>\n",
       "    </tr>\n",
       "    <tr>\n",
       "      <th>35</th>\n",
       "      <td>9</td>\n",
       "      <td>0785270639</td>\n",
       "      <td>10.0</td>\n",
       "      <td>4</td>\n",
       "      <td>Living Simply In God's Abundance Strength And ...</td>\n",
       "    </tr>\n",
       "  </tbody>\n",
       "</table>\n",
       "</div>"
      ],
      "text/plain": [
       "    User-ID        ISBN  score  rank  \\\n",
       "0         1  0679415327   10.0     1   \n",
       "1         2  0679415327   10.0     1   \n",
       "2         3  0679415327   10.0     1   \n",
       "3         4  0679415327   10.0     1   \n",
       "4         5  0679415327   10.0     1   \n",
       "5         6  0679415327   10.0     1   \n",
       "6         7  0679415327   10.0     1   \n",
       "7         8  0679415327   10.0     1   \n",
       "8         9  0679415327   10.0     1   \n",
       "9         1  0971938830   10.0     2   \n",
       "10        2  0971938830   10.0     2   \n",
       "11        3  0971938830   10.0     2   \n",
       "12        4  0971938830   10.0     2   \n",
       "13        5  0971938830   10.0     2   \n",
       "14        6  0971938830   10.0     2   \n",
       "15        7  0971938830   10.0     2   \n",
       "16        8  0971938830   10.0     2   \n",
       "17        9  0971938830   10.0     2   \n",
       "18        1  0486424650   10.0     3   \n",
       "19        2  0486424650   10.0     3   \n",
       "20        3  0486424650   10.0     3   \n",
       "21        4  0486424650   10.0     3   \n",
       "22        5  0486424650   10.0     3   \n",
       "23        6  0486424650   10.0     3   \n",
       "24        7  0486424650   10.0     3   \n",
       "25        8  0486424650   10.0     3   \n",
       "26        9  0486424650   10.0     3   \n",
       "27        1  0785270639   10.0     4   \n",
       "28        2  0785270639   10.0     4   \n",
       "29        3  0785270639   10.0     4   \n",
       "30        4  0785270639   10.0     4   \n",
       "31        5  0785270639   10.0     4   \n",
       "32        6  0785270639   10.0     4   \n",
       "33        7  0785270639   10.0     4   \n",
       "34        8  0785270639   10.0     4   \n",
       "35        9  0785270639   10.0     4   \n",
       "\n",
       "                                           Book-Title  \n",
       "0   A Place of My Own: The Education of an Amateur...  \n",
       "1   A Place of My Own: The Education of an Amateur...  \n",
       "2   A Place of My Own: The Education of an Amateur...  \n",
       "3   A Place of My Own: The Education of an Amateur...  \n",
       "4   A Place of My Own: The Education of an Amateur...  \n",
       "5   A Place of My Own: The Education of an Amateur...  \n",
       "6   A Place of My Own: The Education of an Amateur...  \n",
       "7   A Place of My Own: The Education of an Amateur...  \n",
       "8   A Place of My Own: The Education of an Amateur...  \n",
       "9           The Authentic Annals of the Early Hebrews  \n",
       "10          The Authentic Annals of the Early Hebrews  \n",
       "11          The Authentic Annals of the Early Hebrews  \n",
       "12          The Authentic Annals of the Early Hebrews  \n",
       "13          The Authentic Annals of the Early Hebrews  \n",
       "14          The Authentic Annals of the Early Hebrews  \n",
       "15          The Authentic Annals of the Early Hebrews  \n",
       "16          The Authentic Annals of the Early Hebrews  \n",
       "17          The Authentic Annals of the Early Hebrews  \n",
       "18  The Communist Manifesto and Other Revolutionar...  \n",
       "19  The Communist Manifesto and Other Revolutionar...  \n",
       "20  The Communist Manifesto and Other Revolutionar...  \n",
       "21  The Communist Manifesto and Other Revolutionar...  \n",
       "22  The Communist Manifesto and Other Revolutionar...  \n",
       "23  The Communist Manifesto and Other Revolutionar...  \n",
       "24  The Communist Manifesto and Other Revolutionar...  \n",
       "25  The Communist Manifesto and Other Revolutionar...  \n",
       "26  The Communist Manifesto and Other Revolutionar...  \n",
       "27  Living Simply In God's Abundance Strength And ...  \n",
       "28  Living Simply In God's Abundance Strength And ...  \n",
       "29  Living Simply In God's Abundance Strength And ...  \n",
       "30  Living Simply In God's Abundance Strength And ...  \n",
       "31  Living Simply In God's Abundance Strength And ...  \n",
       "32  Living Simply In God's Abundance Strength And ...  \n",
       "33  Living Simply In God's Abundance Strength And ...  \n",
       "34  Living Simply In God's Abundance Strength And ...  \n",
       "35  Living Simply In God's Abundance Strength And ...  "
      ]
     },
     "metadata": {},
     "output_type": "display_data"
    }
   ],
   "source": [
    "display(aggr)"
   ]
  },
  {
   "cell_type": "code",
   "execution_count": 32,
   "metadata": {
    "collapsed": false
   },
   "outputs": [
    {
     "data": {
      "text/plain": [
       "{'rmse_by_item': Columns:\n",
       " \tISBN\tstr\n",
       " \tcount\tint\n",
       " \trmse\tfloat\n",
       " \n",
       " Rows: 40456\n",
       " \n",
       " Data:\n",
       " +------------+-------+---------------+\n",
       " |    ISBN    | count |      rmse     |\n",
       " +------------+-------+---------------+\n",
       " | 0263737330 |   1   | 2.86717550543 |\n",
       " | 037312189X |   1   |      0.0      |\n",
       " | 0345274563 |   1   | 2.92307692308 |\n",
       " | 0333387287 |   1   | 2.86717550543 |\n",
       " | 050552239X |   1   |      0.0      |\n",
       " | 0743410602 |   1   |  2.5652173913 |\n",
       " | 0590212877 |   1   | 2.33333333333 |\n",
       " | 043957742X |   1   |      0.0      |\n",
       " | 0743417844 |   1   |      0.0      |\n",
       " | 0312929994 |   1   |     2.625     |\n",
       " +------------+-------+---------------+\n",
       " [40456 rows x 3 columns]\n",
       " Note: Only the head of the SFrame is printed.\n",
       " You can use print_rows(num_rows=m, num_columns=n) to print more rows and columns.,\n",
       " 'rmse_by_user': Columns:\n",
       " \tUser-ID\tint\n",
       " \tcount\tint\n",
       " \trmse\tfloat\n",
       " \n",
       " Rows: 17780\n",
       " \n",
       " Data:\n",
       " +---------+-------+---------------+\n",
       " | User-ID | count |      rmse     |\n",
       " +---------+-------+---------------+\n",
       " |  237313 |   1   |      2.4      |\n",
       " |  43116  |   1   | 3.43323863636 |\n",
       " |  115341 |   1   | 5.36170212766 |\n",
       " |  69188  |   1   |      5.0      |\n",
       " |  118012 |   1   | 3.66666666667 |\n",
       " |  66750  |   1   | 1.11428571429 |\n",
       " |  97741  |   1   |      1.0      |\n",
       " |  230692 |   1   |      1.5      |\n",
       " |  135535 |   1   |     2.875     |\n",
       " |  36992  |   2   | 2.63200857442 |\n",
       " +---------+-------+---------------+\n",
       " [17780 rows x 3 columns]\n",
       " Note: Only the head of the SFrame is printed.\n",
       " You can use print_rows(num_rows=m, num_columns=n) to print more rows and columns.,\n",
       " 'rmse_overall': 4.073509434250113}"
      ]
     },
     "execution_count": 32,
     "metadata": {},
     "output_type": "execute_result"
    }
   ],
   "source": [
    "popularity_model.evaluate_rmse(sfTest, target='Book-Rating')"
   ]
  },
  {
   "cell_type": "code",
   "execution_count": 22,
   "metadata": {
    "collapsed": false
   },
   "outputs": [
    {
     "data": {
      "text/html": [
       "<pre>Recsys training: model = item_similarity</pre>"
      ],
      "text/plain": [
       "Recsys training: model = item_similarity"
      ]
     },
     "metadata": {},
     "output_type": "display_data"
    },
    {
     "data": {
      "text/html": [
       "<pre>Preparing data set.</pre>"
      ],
      "text/plain": [
       "Preparing data set."
      ]
     },
     "metadata": {},
     "output_type": "display_data"
    },
    {
     "data": {
      "text/html": [
       "<pre>    Data has 862335 observations with 89722 users and 286804 items.</pre>"
      ],
      "text/plain": [
       "    Data has 862335 observations with 89722 users and 286804 items."
      ]
     },
     "metadata": {},
     "output_type": "display_data"
    },
    {
     "data": {
      "text/html": [
       "<pre>    Data prepared in: 1.12007s</pre>"
      ],
      "text/plain": [
       "    Data prepared in: 1.12007s"
      ]
     },
     "metadata": {},
     "output_type": "display_data"
    },
    {
     "data": {
      "text/html": [
       "<pre>Training model from provided data.</pre>"
      ],
      "text/plain": [
       "Training model from provided data."
      ]
     },
     "metadata": {},
     "output_type": "display_data"
    },
    {
     "data": {
      "text/html": [
       "<pre>Gathering per-item and per-user statistics.</pre>"
      ],
      "text/plain": [
       "Gathering per-item and per-user statistics."
      ]
     },
     "metadata": {},
     "output_type": "display_data"
    },
    {
     "data": {
      "text/html": [
       "<pre>+--------------------------------+------------+</pre>"
      ],
      "text/plain": [
       "+--------------------------------+------------+"
      ]
     },
     "metadata": {},
     "output_type": "display_data"
    },
    {
     "data": {
      "text/html": [
       "<pre>| Elapsed Time (Item Statistics) | % Complete |</pre>"
      ],
      "text/plain": [
       "| Elapsed Time (Item Statistics) | % Complete |"
      ]
     },
     "metadata": {},
     "output_type": "display_data"
    },
    {
     "data": {
      "text/html": [
       "<pre>+--------------------------------+------------+</pre>"
      ],
      "text/plain": [
       "+--------------------------------+------------+"
      ]
     },
     "metadata": {},
     "output_type": "display_data"
    },
    {
     "data": {
      "text/html": [
       "<pre>| 15.546ms                       | 1          |</pre>"
      ],
      "text/plain": [
       "| 15.546ms                       | 1          |"
      ]
     },
     "metadata": {},
     "output_type": "display_data"
    },
    {
     "data": {
      "text/html": [
       "<pre>| 58.887ms                       | 100        |</pre>"
      ],
      "text/plain": [
       "| 58.887ms                       | 100        |"
      ]
     },
     "metadata": {},
     "output_type": "display_data"
    },
    {
     "data": {
      "text/html": [
       "<pre>+--------------------------------+------------+</pre>"
      ],
      "text/plain": [
       "+--------------------------------+------------+"
      ]
     },
     "metadata": {},
     "output_type": "display_data"
    },
    {
     "data": {
      "text/html": [
       "<pre>Setting up lookup tables.</pre>"
      ],
      "text/plain": [
       "Setting up lookup tables."
      ]
     },
     "metadata": {},
     "output_type": "display_data"
    },
    {
     "data": {
      "text/html": [
       "<pre>Processing data in one pass using sparse lookup tables.</pre>"
      ],
      "text/plain": [
       "Processing data in one pass using sparse lookup tables."
      ]
     },
     "metadata": {},
     "output_type": "display_data"
    },
    {
     "data": {
      "text/html": [
       "<pre>+-------------------------------------+------------------+-----------------+</pre>"
      ],
      "text/plain": [
       "+-------------------------------------+------------------+-----------------+"
      ]
     },
     "metadata": {},
     "output_type": "display_data"
    },
    {
     "data": {
      "text/html": [
       "<pre>| Elapsed Time (Constructing Lookups) | Total % Complete | Items Processed |</pre>"
      ],
      "text/plain": [
       "| Elapsed Time (Constructing Lookups) | Total % Complete | Items Processed |"
      ]
     },
     "metadata": {},
     "output_type": "display_data"
    },
    {
     "data": {
      "text/html": [
       "<pre>+-------------------------------------+------------------+-----------------+</pre>"
      ],
      "text/plain": [
       "+-------------------------------------+------------------+-----------------+"
      ]
     },
     "metadata": {},
     "output_type": "display_data"
    },
    {
     "data": {
      "text/html": [
       "<pre>| 2.55s                               | 0                | 20              |</pre>"
      ],
      "text/plain": [
       "| 2.55s                               | 0                | 20              |"
      ]
     },
     "metadata": {},
     "output_type": "display_data"
    },
    {
     "data": {
      "text/html": [
       "<pre>| 3.57s                               | 4.5              | 12960           |</pre>"
      ],
      "text/plain": [
       "| 3.57s                               | 4.5              | 12960           |"
      ]
     },
     "metadata": {},
     "output_type": "display_data"
    },
    {
     "data": {
      "text/html": [
       "<pre>| 4.57s                               | 8.5              | 25031           |</pre>"
      ],
      "text/plain": [
       "| 4.57s                               | 8.5              | 25031           |"
      ]
     },
     "metadata": {},
     "output_type": "display_data"
    },
    {
     "data": {
      "text/html": [
       "<pre>| 5.54s                               | 12.5             | 36496           |</pre>"
      ],
      "text/plain": [
       "| 5.54s                               | 12.5             | 36496           |"
      ]
     },
     "metadata": {},
     "output_type": "display_data"
    },
    {
     "data": {
      "text/html": [
       "<pre>| 6.56s                               | 16.5             | 47869           |</pre>"
      ],
      "text/plain": [
       "| 6.56s                               | 16.5             | 47869           |"
      ]
     },
     "metadata": {},
     "output_type": "display_data"
    },
    {
     "data": {
      "text/html": [
       "<pre>| 7.71s                               | 18.25            | 53054           |</pre>"
      ],
      "text/plain": [
       "| 7.71s                               | 18.25            | 53054           |"
      ]
     },
     "metadata": {},
     "output_type": "display_data"
    },
    {
     "data": {
      "text/html": [
       "<pre>| 8.58s                               | 19.75            | 57117           |</pre>"
      ],
      "text/plain": [
       "| 8.58s                               | 19.75            | 57117           |"
      ]
     },
     "metadata": {},
     "output_type": "display_data"
    },
    {
     "data": {
      "text/html": [
       "<pre>| 9.54s                               | 32.25            | 93053           |</pre>"
      ],
      "text/plain": [
       "| 9.54s                               | 32.25            | 93053           |"
      ]
     },
     "metadata": {},
     "output_type": "display_data"
    },
    {
     "data": {
      "text/html": [
       "<pre>| 10.52s                              | 35.25            | 101152          |</pre>"
      ],
      "text/plain": [
       "| 10.52s                              | 35.25            | 101152          |"
      ]
     },
     "metadata": {},
     "output_type": "display_data"
    },
    {
     "data": {
      "text/html": [
       "<pre>| 11.67s                              | 41               | 118188          |</pre>"
      ],
      "text/plain": [
       "| 11.67s                              | 41               | 118188          |"
      ]
     },
     "metadata": {},
     "output_type": "display_data"
    },
    {
     "data": {
      "text/html": [
       "<pre>| 12.52s                              | 42               | 121162          |</pre>"
      ],
      "text/plain": [
       "| 12.52s                              | 42               | 121162          |"
      ]
     },
     "metadata": {},
     "output_type": "display_data"
    },
    {
     "data": {
      "text/html": [
       "<pre>| 13.52s                              | 42.75            | 123145          |</pre>"
      ],
      "text/plain": [
       "| 13.52s                              | 42.75            | 123145          |"
      ]
     },
     "metadata": {},
     "output_type": "display_data"
    },
    {
     "data": {
      "text/html": [
       "<pre>| 14.74s                              | 43.5             | 124866          |</pre>"
      ],
      "text/plain": [
       "| 14.74s                              | 43.5             | 124866          |"
      ]
     },
     "metadata": {},
     "output_type": "display_data"
    },
    {
     "data": {
      "text/html": [
       "<pre>| 15.53s                              | 43.75            | 125713          |</pre>"
      ],
      "text/plain": [
       "| 15.53s                              | 43.75            | 125713          |"
      ]
     },
     "metadata": {},
     "output_type": "display_data"
    },
    {
     "data": {
      "text/html": [
       "<pre>| 16.51s                              | 44.25            | 127012          |</pre>"
      ],
      "text/plain": [
       "| 16.51s                              | 44.25            | 127012          |"
      ]
     },
     "metadata": {},
     "output_type": "display_data"
    },
    {
     "data": {
      "text/html": [
       "<pre>| 17.54s                              | 44.25            | 127161          |</pre>"
      ],
      "text/plain": [
       "| 17.54s                              | 44.25            | 127161          |"
      ]
     },
     "metadata": {},
     "output_type": "display_data"
    },
    {
     "data": {
      "text/html": [
       "<pre>| 18.50s                              | 45               | 129751          |</pre>"
      ],
      "text/plain": [
       "| 18.50s                              | 45               | 129751          |"
      ]
     },
     "metadata": {},
     "output_type": "display_data"
    },
    {
     "data": {
      "text/html": [
       "<pre>| 19.49s                              | 47               | 135154          |</pre>"
      ],
      "text/plain": [
       "| 19.49s                              | 47               | 135154          |"
      ]
     },
     "metadata": {},
     "output_type": "display_data"
    },
    {
     "data": {
      "text/html": [
       "<pre>| 20.49s                              | 50.5             | 145329          |</pre>"
      ],
      "text/plain": [
       "| 20.49s                              | 50.5             | 145329          |"
      ]
     },
     "metadata": {},
     "output_type": "display_data"
    },
    {
     "data": {
      "text/html": [
       "<pre>| 23.18s                              | 55.25            | 158973          |</pre>"
      ],
      "text/plain": [
       "| 23.18s                              | 55.25            | 158973          |"
      ]
     },
     "metadata": {},
     "output_type": "display_data"
    },
    {
     "data": {
      "text/html": [
       "<pre>| 24.33s                              | 57.5             | 165171          |</pre>"
      ],
      "text/plain": [
       "| 24.33s                              | 57.5             | 165171          |"
      ]
     },
     "metadata": {},
     "output_type": "display_data"
    },
    {
     "data": {
      "text/html": [
       "<pre>| 26.36s                              | 63.5             | 182784          |</pre>"
      ],
      "text/plain": [
       "| 26.36s                              | 63.5             | 182784          |"
      ]
     },
     "metadata": {},
     "output_type": "display_data"
    },
    {
     "data": {
      "text/html": [
       "<pre>| 28.15s                              | 67.25            | 193051          |</pre>"
      ],
      "text/plain": [
       "| 28.15s                              | 67.25            | 193051          |"
      ]
     },
     "metadata": {},
     "output_type": "display_data"
    },
    {
     "data": {
      "text/html": [
       "<pre>| 28.48s                              | 67.75            | 194483          |</pre>"
      ],
      "text/plain": [
       "| 28.48s                              | 67.75            | 194483          |"
      ]
     },
     "metadata": {},
     "output_type": "display_data"
    },
    {
     "data": {
      "text/html": [
       "<pre>| 31.23s                              | 73.5             | 210957          |</pre>"
      ],
      "text/plain": [
       "| 31.23s                              | 73.5             | 210957          |"
      ]
     },
     "metadata": {},
     "output_type": "display_data"
    },
    {
     "data": {
      "text/html": [
       "<pre>| 35.84s                              | 78               | 223901          |</pre>"
      ],
      "text/plain": [
       "| 35.84s                              | 78               | 223901          |"
      ]
     },
     "metadata": {},
     "output_type": "display_data"
    },
    {
     "data": {
      "text/html": [
       "<pre>| 37.99s                              | 78.75            | 226323          |</pre>"
      ],
      "text/plain": [
       "| 37.99s                              | 78.75            | 226323          |"
      ]
     },
     "metadata": {},
     "output_type": "display_data"
    },
    {
     "data": {
      "text/html": [
       "<pre>| 41.20s                              | 79.75            | 228962          |</pre>"
      ],
      "text/plain": [
       "| 41.20s                              | 79.75            | 228962          |"
      ]
     },
     "metadata": {},
     "output_type": "display_data"
    },
    {
     "data": {
      "text/html": [
       "<pre>| 42.26s                              | 79.75            | 229279          |</pre>"
      ],
      "text/plain": [
       "| 42.26s                              | 79.75            | 229279          |"
      ]
     },
     "metadata": {},
     "output_type": "display_data"
    },
    {
     "data": {
      "text/html": [
       "<pre>| 52.56s                              | 81.25            | 233157          |</pre>"
      ],
      "text/plain": [
       "| 52.56s                              | 81.25            | 233157          |"
      ]
     },
     "metadata": {},
     "output_type": "display_data"
    },
    {
     "data": {
      "text/html": [
       "<pre>| 53.79s                              | 81.5             | 233851          |</pre>"
      ],
      "text/plain": [
       "| 53.79s                              | 81.5             | 233851          |"
      ]
     },
     "metadata": {},
     "output_type": "display_data"
    },
    {
     "data": {
      "text/html": [
       "<pre>| 57.07s                              | 81.5             | 233862          |</pre>"
      ],
      "text/plain": [
       "| 57.07s                              | 81.5             | 233862          |"
      ]
     },
     "metadata": {},
     "output_type": "display_data"
    },
    {
     "data": {
      "text/html": [
       "<pre>| 58.48s                              | 81.5             | 234145          |</pre>"
      ],
      "text/plain": [
       "| 58.48s                              | 81.5             | 234145          |"
      ]
     },
     "metadata": {},
     "output_type": "display_data"
    },
    {
     "data": {
      "text/html": [
       "<pre>| 1m 0s                               | 81.75            | 234545          |</pre>"
      ],
      "text/plain": [
       "| 1m 0s                               | 81.75            | 234545          |"
      ]
     },
     "metadata": {},
     "output_type": "display_data"
    },
    {
     "data": {
      "text/html": [
       "<pre>| 1m 1s                               | 81.75            | 234651          |</pre>"
      ],
      "text/plain": [
       "| 1m 1s                               | 81.75            | 234651          |"
      ]
     },
     "metadata": {},
     "output_type": "display_data"
    },
    {
     "data": {
      "text/html": [
       "<pre>| 1m 5s                               | 82.25            | 235992          |</pre>"
      ],
      "text/plain": [
       "| 1m 5s                               | 82.25            | 235992          |"
      ]
     },
     "metadata": {},
     "output_type": "display_data"
    },
    {
     "data": {
      "text/html": [
       "<pre>| 1m 13s                              | 82.25            | 235992          |</pre>"
      ],
      "text/plain": [
       "| 1m 13s                              | 82.25            | 235992          |"
      ]
     },
     "metadata": {},
     "output_type": "display_data"
    },
    {
     "data": {
      "text/html": [
       "<pre>| 1m 19s                              | 82.25            | 236493          |</pre>"
      ],
      "text/plain": [
       "| 1m 19s                              | 82.25            | 236493          |"
      ]
     },
     "metadata": {},
     "output_type": "display_data"
    },
    {
     "data": {
      "text/html": [
       "<pre>| 1m 22s                              | 82.5             | 236626          |</pre>"
      ],
      "text/plain": [
       "| 1m 22s                              | 82.5             | 236626          |"
      ]
     },
     "metadata": {},
     "output_type": "display_data"
    },
    {
     "data": {
      "text/html": [
       "<pre>| 1m 37s                              | 82.75            | 237526          |</pre>"
      ],
      "text/plain": [
       "| 1m 37s                              | 82.75            | 237526          |"
      ]
     },
     "metadata": {},
     "output_type": "display_data"
    },
    {
     "data": {
      "text/html": [
       "<pre>| 1m 54s                              | 83.5             | 239676          |</pre>"
      ],
      "text/plain": [
       "| 1m 54s                              | 83.5             | 239676          |"
      ]
     },
     "metadata": {},
     "output_type": "display_data"
    },
    {
     "data": {
      "text/html": [
       "<pre>| 1m 59s                              | 83.75            | 240229          |</pre>"
      ],
      "text/plain": [
       "| 1m 59s                              | 83.75            | 240229          |"
      ]
     },
     "metadata": {},
     "output_type": "display_data"
    },
    {
     "data": {
      "text/html": [
       "<pre>| 2m 1s                               | 83.75            | 240319          |</pre>"
      ],
      "text/plain": [
       "| 2m 1s                               | 83.75            | 240319          |"
      ]
     },
     "metadata": {},
     "output_type": "display_data"
    },
    {
     "data": {
      "text/html": [
       "<pre>| 2m 4s                               | 83.75            | 240441          |</pre>"
      ],
      "text/plain": [
       "| 2m 4s                               | 83.75            | 240441          |"
      ]
     },
     "metadata": {},
     "output_type": "display_data"
    },
    {
     "data": {
      "text/html": [
       "<pre>| 3m 32s                              | 84.5             | 242661          |</pre>"
      ],
      "text/plain": [
       "| 3m 32s                              | 84.5             | 242661          |"
      ]
     },
     "metadata": {},
     "output_type": "display_data"
    },
    {
     "data": {
      "text/html": [
       "<pre>| 3m 33s                              | 84.5             | 242873          |</pre>"
      ],
      "text/plain": [
       "| 3m 33s                              | 84.5             | 242873          |"
      ]
     },
     "metadata": {},
     "output_type": "display_data"
    },
    {
     "data": {
      "text/html": [
       "<pre>| 3m 46s                              | 84.5             | 242873          |</pre>"
      ],
      "text/plain": [
       "| 3m 46s                              | 84.5             | 242873          |"
      ]
     },
     "metadata": {},
     "output_type": "display_data"
    },
    {
     "data": {
      "text/html": [
       "<pre>| 3m 49s                              | 84.5             | 242919          |</pre>"
      ],
      "text/plain": [
       "| 3m 49s                              | 84.5             | 242919          |"
      ]
     },
     "metadata": {},
     "output_type": "display_data"
    },
    {
     "data": {
      "text/html": [
       "<pre>| 4m 1s                               | 84.75            | 243107          |</pre>"
      ],
      "text/plain": [
       "| 4m 1s                               | 84.75            | 243107          |"
      ]
     },
     "metadata": {},
     "output_type": "display_data"
    },
    {
     "data": {
      "text/html": [
       "<pre>| 5m 43s                              | 85.25            | 244512          |</pre>"
      ],
      "text/plain": [
       "| 5m 43s                              | 85.25            | 244512          |"
      ]
     },
     "metadata": {},
     "output_type": "display_data"
    },
    {
     "data": {
      "text/html": [
       "<pre>| 5m 50s                              | 85.25            | 244538          |</pre>"
      ],
      "text/plain": [
       "| 5m 50s                              | 85.25            | 244538          |"
      ]
     },
     "metadata": {},
     "output_type": "display_data"
    },
    {
     "data": {
      "text/html": [
       "<pre>| 5m 52s                              | 85.25            | 244538          |</pre>"
      ],
      "text/plain": [
       "| 5m 52s                              | 85.25            | 244538          |"
      ]
     },
     "metadata": {},
     "output_type": "display_data"
    },
    {
     "data": {
      "text/html": [
       "<pre>| 5m 54s                              | 85.25            | 244567          |</pre>"
      ],
      "text/plain": [
       "| 5m 54s                              | 85.25            | 244567          |"
      ]
     },
     "metadata": {},
     "output_type": "display_data"
    },
    {
     "data": {
      "text/html": [
       "<pre>| 5m 56s                              | 85.25            | 244567          |</pre>"
      ],
      "text/plain": [
       "| 5m 56s                              | 85.25            | 244567          |"
      ]
     },
     "metadata": {},
     "output_type": "display_data"
    },
    {
     "data": {
      "text/html": [
       "<pre>| 6m 3s                               | 85.25            | 244624          |</pre>"
      ],
      "text/plain": [
       "| 6m 3s                               | 85.25            | 244624          |"
      ]
     },
     "metadata": {},
     "output_type": "display_data"
    },
    {
     "data": {
      "text/html": [
       "<pre>| 6m 14s                              | 85.25            | 244700          |</pre>"
      ],
      "text/plain": [
       "| 6m 14s                              | 85.25            | 244700          |"
      ]
     },
     "metadata": {},
     "output_type": "display_data"
    },
    {
     "data": {
      "text/html": [
       "<pre>| 6m 45s                              | 85.5             | 245269          |</pre>"
      ],
      "text/plain": [
       "| 6m 45s                              | 85.5             | 245269          |"
      ]
     },
     "metadata": {},
     "output_type": "display_data"
    },
    {
     "data": {
      "text/html": [
       "<pre>| 6m 46s                              | 85.5             | 245285          |</pre>"
      ],
      "text/plain": [
       "| 6m 46s                              | 85.5             | 245285          |"
      ]
     },
     "metadata": {},
     "output_type": "display_data"
    },
    {
     "data": {
      "text/html": [
       "<pre>| 6m 48s                              | 85.5             | 245422          |</pre>"
      ],
      "text/plain": [
       "| 6m 48s                              | 85.5             | 245422          |"
      ]
     },
     "metadata": {},
     "output_type": "display_data"
    },
    {
     "data": {
      "text/html": [
       "<pre>| 6m 50s                              | 85.5             | 245609          |</pre>"
      ],
      "text/plain": [
       "| 6m 50s                              | 85.5             | 245609          |"
      ]
     },
     "metadata": {},
     "output_type": "display_data"
    },
    {
     "data": {
      "text/html": [
       "<pre>| 6m 53s                              | 85.5             | 245862          |</pre>"
      ],
      "text/plain": [
       "| 6m 53s                              | 85.5             | 245862          |"
      ]
     },
     "metadata": {},
     "output_type": "display_data"
    },
    {
     "data": {
      "text/html": [
       "<pre>| 6m 57s                              | 85.75            | 246259          |</pre>"
      ],
      "text/plain": [
       "| 6m 57s                              | 85.75            | 246259          |"
      ]
     },
     "metadata": {},
     "output_type": "display_data"
    },
    {
     "data": {
      "text/html": [
       "<pre>| 7m 17s                              | 86.25            | 247876          |</pre>"
      ],
      "text/plain": [
       "| 7m 17s                              | 86.25            | 247876          |"
      ]
     },
     "metadata": {},
     "output_type": "display_data"
    },
    {
     "data": {
      "text/html": [
       "<pre>| 7m 19s                              | 86.25            | 248021          |</pre>"
      ],
      "text/plain": [
       "| 7m 19s                              | 86.25            | 248021          |"
      ]
     },
     "metadata": {},
     "output_type": "display_data"
    },
    {
     "data": {
      "text/html": [
       "<pre>| 7m 19s                              | 86.5             | 248144          |</pre>"
      ],
      "text/plain": [
       "| 7m 19s                              | 86.5             | 248144          |"
      ]
     },
     "metadata": {},
     "output_type": "display_data"
    },
    {
     "data": {
      "text/html": [
       "<pre>| 7m 21s                              | 86.5             | 248150          |</pre>"
      ],
      "text/plain": [
       "| 7m 21s                              | 86.5             | 248150          |"
      ]
     },
     "metadata": {},
     "output_type": "display_data"
    },
    {
     "data": {
      "text/html": [
       "<pre>| 7m 22s                              | 86.5             | 248209          |</pre>"
      ],
      "text/plain": [
       "| 7m 22s                              | 86.5             | 248209          |"
      ]
     },
     "metadata": {},
     "output_type": "display_data"
    },
    {
     "data": {
      "text/html": [
       "<pre>| 7m 24s                              | 86.5             | 248264          |</pre>"
      ],
      "text/plain": [
       "| 7m 24s                              | 86.5             | 248264          |"
      ]
     },
     "metadata": {},
     "output_type": "display_data"
    },
    {
     "data": {
      "text/html": [
       "<pre>| 7m 38s                              | 86.5             | 248760          |</pre>"
      ],
      "text/plain": [
       "| 7m 38s                              | 86.5             | 248760          |"
      ]
     },
     "metadata": {},
     "output_type": "display_data"
    },
    {
     "data": {
      "text/html": [
       "<pre>| 7m 41s                              | 86.75            | 248843          |</pre>"
      ],
      "text/plain": [
       "| 7m 41s                              | 86.75            | 248843          |"
      ]
     },
     "metadata": {},
     "output_type": "display_data"
    },
    {
     "data": {
      "text/html": [
       "<pre>| 7m 44s                              | 86.75            | 248937          |</pre>"
      ],
      "text/plain": [
       "| 7m 44s                              | 86.75            | 248937          |"
      ]
     },
     "metadata": {},
     "output_type": "display_data"
    },
    {
     "data": {
      "text/html": [
       "<pre>| 7m 45s                              | 86.75            | 249007          |</pre>"
      ],
      "text/plain": [
       "| 7m 45s                              | 86.75            | 249007          |"
      ]
     },
     "metadata": {},
     "output_type": "display_data"
    },
    {
     "data": {
      "text/html": [
       "<pre>| 7m 48s                              | 87               | 249705          |</pre>"
      ],
      "text/plain": [
       "| 7m 48s                              | 87               | 249705          |"
      ]
     },
     "metadata": {},
     "output_type": "display_data"
    },
    {
     "data": {
      "text/html": [
       "<pre>| 8m 21s                              | 87               | 249705          |</pre>"
      ],
      "text/plain": [
       "| 8m 21s                              | 87               | 249705          |"
      ]
     },
     "metadata": {},
     "output_type": "display_data"
    },
    {
     "data": {
      "text/html": [
       "<pre>| 8m 23s                              | 87               | 249765          |</pre>"
      ],
      "text/plain": [
       "| 8m 23s                              | 87               | 249765          |"
      ]
     },
     "metadata": {},
     "output_type": "display_data"
    },
    {
     "data": {
      "text/html": [
       "<pre>| 8m 24s                              | 87               | 249832          |</pre>"
      ],
      "text/plain": [
       "| 8m 24s                              | 87               | 249832          |"
      ]
     },
     "metadata": {},
     "output_type": "display_data"
    },
    {
     "data": {
      "text/html": [
       "<pre>| 8m 27s                              | 87               | 249835          |</pre>"
      ],
      "text/plain": [
       "| 8m 27s                              | 87               | 249835          |"
      ]
     },
     "metadata": {},
     "output_type": "display_data"
    },
    {
     "data": {
      "text/html": [
       "<pre>| 8m 29s                              | 87.5             | 251033          |</pre>"
      ],
      "text/plain": [
       "| 8m 29s                              | 87.5             | 251033          |"
      ]
     },
     "metadata": {},
     "output_type": "display_data"
    },
    {
     "data": {
      "text/html": [
       "<pre>| 9m 52s                              | 87.5             | 251033          |</pre>"
      ],
      "text/plain": [
       "| 9m 52s                              | 87.5             | 251033          |"
      ]
     },
     "metadata": {},
     "output_type": "display_data"
    },
    {
     "data": {
      "text/html": [
       "<pre>| 9m 53s                              | 87.5             | 251068          |</pre>"
      ],
      "text/plain": [
       "| 9m 53s                              | 87.5             | 251068          |"
      ]
     },
     "metadata": {},
     "output_type": "display_data"
    },
    {
     "data": {
      "text/html": [
       "<pre>| 9m 54s                              | 87.5             | 251296          |</pre>"
      ],
      "text/plain": [
       "| 9m 54s                              | 87.5             | 251296          |"
      ]
     },
     "metadata": {},
     "output_type": "display_data"
    },
    {
     "data": {
      "text/html": [
       "<pre>| 10m 9s                              | 87.75            | 252312          |</pre>"
      ],
      "text/plain": [
       "| 10m 9s                              | 87.75            | 252312          |"
      ]
     },
     "metadata": {},
     "output_type": "display_data"
    },
    {
     "data": {
      "text/html": [
       "<pre>| 11m 29s                             | 89.25            | 256049          |</pre>"
      ],
      "text/plain": [
       "| 11m 29s                             | 89.25            | 256049          |"
      ]
     },
     "metadata": {},
     "output_type": "display_data"
    },
    {
     "data": {
      "text/html": [
       "<pre>| 12m 45s                             | 89.25            | 256051          |</pre>"
      ],
      "text/plain": [
       "| 12m 45s                             | 89.25            | 256051          |"
      ]
     },
     "metadata": {},
     "output_type": "display_data"
    },
    {
     "data": {
      "text/html": [
       "<pre>| 12m 46s                             | 89.25            | 256196          |</pre>"
      ],
      "text/plain": [
       "| 12m 46s                             | 89.25            | 256196          |"
      ]
     },
     "metadata": {},
     "output_type": "display_data"
    },
    {
     "data": {
      "text/html": [
       "<pre>| 12m 50s                             | 89.25            | 256214          |</pre>"
      ],
      "text/plain": [
       "| 12m 50s                             | 89.25            | 256214          |"
      ]
     },
     "metadata": {},
     "output_type": "display_data"
    },
    {
     "data": {
      "text/html": [
       "<pre>| 12m 52s                             | 89.25            | 256242          |</pre>"
      ],
      "text/plain": [
       "| 12m 52s                             | 89.25            | 256242          |"
      ]
     },
     "metadata": {},
     "output_type": "display_data"
    },
    {
     "data": {
      "text/html": [
       "<pre>| 13m 5s                              | 89.25            | 256555          |</pre>"
      ],
      "text/plain": [
       "| 13m 5s                              | 89.25            | 256555          |"
      ]
     },
     "metadata": {},
     "output_type": "display_data"
    },
    {
     "data": {
      "text/html": [
       "<pre>| 13m 8s                              | 89.25            | 256613          |</pre>"
      ],
      "text/plain": [
       "| 13m 8s                              | 89.25            | 256613          |"
      ]
     },
     "metadata": {},
     "output_type": "display_data"
    },
    {
     "data": {
      "text/html": [
       "<pre>| 13m 10s                             | 89.25            | 256634          |</pre>"
      ],
      "text/plain": [
       "| 13m 10s                             | 89.25            | 256634          |"
      ]
     },
     "metadata": {},
     "output_type": "display_data"
    },
    {
     "data": {
      "text/html": [
       "<pre>| 13m 11s                             | 89.25            | 256660          |</pre>"
      ],
      "text/plain": [
       "| 13m 11s                             | 89.25            | 256660          |"
      ]
     },
     "metadata": {},
     "output_type": "display_data"
    },
    {
     "data": {
      "text/html": [
       "<pre>| 13m 11s                             | 89.5             | 256881          |</pre>"
      ],
      "text/plain": [
       "| 13m 11s                             | 89.5             | 256881          |"
      ]
     },
     "metadata": {},
     "output_type": "display_data"
    },
    {
     "data": {
      "text/html": [
       "<pre>| 13m 22s                             | 89.5             | 256890          |</pre>"
      ],
      "text/plain": [
       "| 13m 22s                             | 89.5             | 256890          |"
      ]
     },
     "metadata": {},
     "output_type": "display_data"
    },
    {
     "data": {
      "text/html": [
       "<pre>| 13m 23s                             | 89.5             | 256923          |</pre>"
      ],
      "text/plain": [
       "| 13m 23s                             | 89.5             | 256923          |"
      ]
     },
     "metadata": {},
     "output_type": "display_data"
    },
    {
     "data": {
      "text/html": [
       "<pre>| 13m 25s                             | 89.5             | 256924          |</pre>"
      ],
      "text/plain": [
       "| 13m 25s                             | 89.5             | 256924          |"
      ]
     },
     "metadata": {},
     "output_type": "display_data"
    },
    {
     "data": {
      "text/html": [
       "<pre>| 13m 35s                             | 89.5             | 257070          |</pre>"
      ],
      "text/plain": [
       "| 13m 35s                             | 89.5             | 257070          |"
      ]
     },
     "metadata": {},
     "output_type": "display_data"
    },
    {
     "data": {
      "text/html": [
       "<pre>| 15m 50s                             | 90.25            | 258949          |</pre>"
      ],
      "text/plain": [
       "| 15m 50s                             | 90.25            | 258949          |"
      ]
     },
     "metadata": {},
     "output_type": "display_data"
    },
    {
     "data": {
      "text/html": [
       "<pre>| 15m 54s                             | 90.25            | 259018          |</pre>"
      ],
      "text/plain": [
       "| 15m 54s                             | 90.25            | 259018          |"
      ]
     },
     "metadata": {},
     "output_type": "display_data"
    },
    {
     "data": {
      "text/html": [
       "<pre>| 15m 56s                             | 91               | 261332          |</pre>"
      ],
      "text/plain": [
       "| 15m 56s                             | 91               | 261332          |"
      ]
     },
     "metadata": {},
     "output_type": "display_data"
    },
    {
     "data": {
      "text/html": [
       "<pre>| 17m 7s                              | 91               | 261333          |</pre>"
      ],
      "text/plain": [
       "| 17m 7s                              | 91               | 261333          |"
      ]
     },
     "metadata": {},
     "output_type": "display_data"
    },
    {
     "data": {
      "text/html": [
       "<pre>| 17m 9s                              | 91               | 261520          |</pre>"
      ],
      "text/plain": [
       "| 17m 9s                              | 91               | 261520          |"
      ]
     },
     "metadata": {},
     "output_type": "display_data"
    },
    {
     "data": {
      "text/html": [
       "<pre>| 17m 34s                             | 91.5             | 262635          |</pre>"
      ],
      "text/plain": [
       "| 17m 34s                             | 91.5             | 262635          |"
      ]
     },
     "metadata": {},
     "output_type": "display_data"
    },
    {
     "data": {
      "text/html": [
       "<pre>| 18m 9s                              | 91.75            | 263538          |</pre>"
      ],
      "text/plain": [
       "| 18m 9s                              | 91.75            | 263538          |"
      ]
     },
     "metadata": {},
     "output_type": "display_data"
    },
    {
     "data": {
      "text/html": [
       "<pre>| 18m 13s                             | 91.75            | 263538          |</pre>"
      ],
      "text/plain": [
       "| 18m 13s                             | 91.75            | 263538          |"
      ]
     },
     "metadata": {},
     "output_type": "display_data"
    },
    {
     "data": {
      "text/html": [
       "<pre>| 18m 16s                             | 91.75            | 263584          |</pre>"
      ],
      "text/plain": [
       "| 18m 16s                             | 91.75            | 263584          |"
      ]
     },
     "metadata": {},
     "output_type": "display_data"
    },
    {
     "data": {
      "text/html": [
       "<pre>| 18m 19s                             | 91.75            | 263737          |</pre>"
      ],
      "text/plain": [
       "| 18m 19s                             | 91.75            | 263737          |"
      ]
     },
     "metadata": {},
     "output_type": "display_data"
    },
    {
     "data": {
      "text/html": [
       "<pre>| 18m 24s                             | 91.75            | 263771          |</pre>"
      ],
      "text/plain": [
       "| 18m 24s                             | 91.75            | 263771          |"
      ]
     },
     "metadata": {},
     "output_type": "display_data"
    },
    {
     "data": {
      "text/html": [
       "<pre>| 18m 26s                             | 91.75            | 263773          |</pre>"
      ],
      "text/plain": [
       "| 18m 26s                             | 91.75            | 263773          |"
      ]
     },
     "metadata": {},
     "output_type": "display_data"
    },
    {
     "data": {
      "text/html": [
       "<pre>| 18m 26s                             | 91.75            | 263808          |</pre>"
      ],
      "text/plain": [
       "| 18m 26s                             | 91.75            | 263808          |"
      ]
     },
     "metadata": {},
     "output_type": "display_data"
    },
    {
     "data": {
      "text/html": [
       "<pre>| 18m 28s                             | 91.75            | 263822          |</pre>"
      ],
      "text/plain": [
       "| 18m 28s                             | 91.75            | 263822          |"
      ]
     },
     "metadata": {},
     "output_type": "display_data"
    },
    {
     "data": {
      "text/html": [
       "<pre>| 18m 29s                             | 91.75            | 263838          |</pre>"
      ],
      "text/plain": [
       "| 18m 29s                             | 91.75            | 263838          |"
      ]
     },
     "metadata": {},
     "output_type": "display_data"
    },
    {
     "data": {
      "text/html": [
       "<pre>| 18m 33s                             | 92               | 264204          |</pre>"
      ],
      "text/plain": [
       "| 18m 33s                             | 92               | 264204          |"
      ]
     },
     "metadata": {},
     "output_type": "display_data"
    },
    {
     "data": {
      "text/html": [
       "<pre>| 18m 52s                             | 92               | 264204          |</pre>"
      ],
      "text/plain": [
       "| 18m 52s                             | 92               | 264204          |"
      ]
     },
     "metadata": {},
     "output_type": "display_data"
    },
    {
     "data": {
      "text/html": [
       "<pre>| 18m 57s                             | 92               | 264285          |</pre>"
      ],
      "text/plain": [
       "| 18m 57s                             | 92               | 264285          |"
      ]
     },
     "metadata": {},
     "output_type": "display_data"
    },
    {
     "data": {
      "text/html": [
       "<pre>| 21m 3s                              | 92.5             | 265847          |</pre>"
      ],
      "text/plain": [
       "| 21m 3s                              | 92.5             | 265847          |"
      ]
     },
     "metadata": {},
     "output_type": "display_data"
    },
    {
     "data": {
      "text/html": [
       "<pre>| 21m 17s                             | 92.5             | 265875          |</pre>"
      ],
      "text/plain": [
       "| 21m 17s                             | 92.5             | 265875          |"
      ]
     },
     "metadata": {},
     "output_type": "display_data"
    },
    {
     "data": {
      "text/html": [
       "<pre>| 21m 19s                             | 92.5             | 265875          |</pre>"
      ],
      "text/plain": [
       "| 21m 19s                             | 92.5             | 265875          |"
      ]
     },
     "metadata": {},
     "output_type": "display_data"
    },
    {
     "data": {
      "text/html": [
       "<pre>| 21m 22s                             | 92.5             | 265911          |</pre>"
      ],
      "text/plain": [
       "| 21m 22s                             | 92.5             | 265911          |"
      ]
     },
     "metadata": {},
     "output_type": "display_data"
    },
    {
     "data": {
      "text/html": [
       "<pre>| 21m 24s                             | 92.5             | 266001          |</pre>"
      ],
      "text/plain": [
       "| 21m 24s                             | 92.5             | 266001          |"
      ]
     },
     "metadata": {},
     "output_type": "display_data"
    },
    {
     "data": {
      "text/html": [
       "<pre>| 21m 35s                             | 92.5             | 266001          |</pre>"
      ],
      "text/plain": [
       "| 21m 35s                             | 92.5             | 266001          |"
      ]
     },
     "metadata": {},
     "output_type": "display_data"
    },
    {
     "data": {
      "text/html": [
       "<pre>| 21m 52s                             | 92.75            | 266275          |</pre>"
      ],
      "text/plain": [
       "| 21m 52s                             | 92.75            | 266275          |"
      ]
     },
     "metadata": {},
     "output_type": "display_data"
    },
    {
     "data": {
      "text/html": [
       "<pre>| 21m 57s                             | 92.75            | 266605          |</pre>"
      ],
      "text/plain": [
       "| 21m 57s                             | 92.75            | 266605          |"
      ]
     },
     "metadata": {},
     "output_type": "display_data"
    },
    {
     "data": {
      "text/html": [
       "<pre>| 22m 0s                              | 93               | 267392          |</pre>"
      ],
      "text/plain": [
       "| 22m 0s                              | 93               | 267392          |"
      ]
     },
     "metadata": {},
     "output_type": "display_data"
    },
    {
     "data": {
      "text/html": [
       "<pre>| 22m 13s                             | 93               | 267396          |</pre>"
      ],
      "text/plain": [
       "| 22m 13s                             | 93               | 267396          |"
      ]
     },
     "metadata": {},
     "output_type": "display_data"
    },
    {
     "data": {
      "text/html": [
       "<pre>| 22m 23s                             | 93.25            | 267873          |</pre>"
      ],
      "text/plain": [
       "| 22m 23s                             | 93.25            | 267873          |"
      ]
     },
     "metadata": {},
     "output_type": "display_data"
    },
    {
     "data": {
      "text/html": [
       "<pre>| 22m 24s                             | 93.25            | 267916          |</pre>"
      ],
      "text/plain": [
       "| 22m 24s                             | 93.25            | 267916          |"
      ]
     },
     "metadata": {},
     "output_type": "display_data"
    },
    {
     "data": {
      "text/html": [
       "<pre>| 27m 5s                              | 94.75            | 272438          |</pre>"
      ],
      "text/plain": [
       "| 27m 5s                              | 94.75            | 272438          |"
      ]
     },
     "metadata": {},
     "output_type": "display_data"
    },
    {
     "data": {
      "text/html": [
       "<pre>| 27m 6s                              | 95               | 272511          |</pre>"
      ],
      "text/plain": [
       "| 27m 6s                              | 95               | 272511          |"
      ]
     },
     "metadata": {},
     "output_type": "display_data"
    },
    {
     "data": {
      "text/html": [
       "<pre>| 27m 7s                              | 95               | 272597          |</pre>"
      ],
      "text/plain": [
       "| 27m 7s                              | 95               | 272597          |"
      ]
     },
     "metadata": {},
     "output_type": "display_data"
    },
    {
     "data": {
      "text/html": [
       "<pre>| 27m 8s                              | 95               | 272924          |</pre>"
      ],
      "text/plain": [
       "| 27m 8s                              | 95               | 272924          |"
      ]
     },
     "metadata": {},
     "output_type": "display_data"
    },
    {
     "data": {
      "text/html": [
       "<pre>| 27m 11s                             | 95               | 272924          |</pre>"
      ],
      "text/plain": [
       "| 27m 11s                             | 95               | 272924          |"
      ]
     },
     "metadata": {},
     "output_type": "display_data"
    },
    {
     "data": {
      "text/html": [
       "<pre>| 27m 14s                             | 95               | 273086          |</pre>"
      ],
      "text/plain": [
       "| 27m 14s                             | 95               | 273086          |"
      ]
     },
     "metadata": {},
     "output_type": "display_data"
    },
    {
     "data": {
      "text/html": [
       "<pre>| 27m 15s                             | 95               | 273174          |</pre>"
      ],
      "text/plain": [
       "| 27m 15s                             | 95               | 273174          |"
      ]
     },
     "metadata": {},
     "output_type": "display_data"
    },
    {
     "data": {
      "text/html": [
       "<pre>| 27m 19s                             | 95.25            | 273894          |</pre>"
      ],
      "text/plain": [
       "| 27m 19s                             | 95.25            | 273894          |"
      ]
     },
     "metadata": {},
     "output_type": "display_data"
    },
    {
     "data": {
      "text/html": [
       "<pre>| 27m 27s                             | 95.5             | 273940          |</pre>"
      ],
      "text/plain": [
       "| 27m 27s                             | 95.5             | 273940          |"
      ]
     },
     "metadata": {},
     "output_type": "display_data"
    },
    {
     "data": {
      "text/html": [
       "<pre>| 27m 29s                             | 95.5             | 273940          |</pre>"
      ],
      "text/plain": [
       "| 27m 29s                             | 95.5             | 273940          |"
      ]
     },
     "metadata": {},
     "output_type": "display_data"
    },
    {
     "data": {
      "text/html": [
       "<pre>| 27m 32s                             | 95.5             | 274041          |</pre>"
      ],
      "text/plain": [
       "| 27m 32s                             | 95.5             | 274041          |"
      ]
     },
     "metadata": {},
     "output_type": "display_data"
    },
    {
     "data": {
      "text/html": [
       "<pre>| 27m 34s                             | 95.5             | 274091          |</pre>"
      ],
      "text/plain": [
       "| 27m 34s                             | 95.5             | 274091          |"
      ]
     },
     "metadata": {},
     "output_type": "display_data"
    },
    {
     "data": {
      "text/html": [
       "<pre>| 27m 35s                             | 95.5             | 274103          |</pre>"
      ],
      "text/plain": [
       "| 27m 35s                             | 95.5             | 274103          |"
      ]
     },
     "metadata": {},
     "output_type": "display_data"
    },
    {
     "data": {
      "text/html": [
       "<pre>| 28m 27s                             | 95.75            | 275265          |</pre>"
      ],
      "text/plain": [
       "| 28m 27s                             | 95.75            | 275265          |"
      ]
     },
     "metadata": {},
     "output_type": "display_data"
    },
    {
     "data": {
      "text/html": [
       "<pre>| 28m 35s                             | 95.75            | 275329          |</pre>"
      ],
      "text/plain": [
       "| 28m 35s                             | 95.75            | 275329          |"
      ]
     },
     "metadata": {},
     "output_type": "display_data"
    },
    {
     "data": {
      "text/html": [
       "<pre>| 28m 40s                             | 96               | 275354          |</pre>"
      ],
      "text/plain": [
       "| 28m 40s                             | 96               | 275354          |"
      ]
     },
     "metadata": {},
     "output_type": "display_data"
    },
    {
     "data": {
      "text/html": [
       "<pre>| 28m 42s                             | 96               | 275357          |</pre>"
      ],
      "text/plain": [
       "| 28m 42s                             | 96               | 275357          |"
      ]
     },
     "metadata": {},
     "output_type": "display_data"
    },
    {
     "data": {
      "text/html": [
       "<pre>| 29m 22s                             | 96               | 275849          |</pre>"
      ],
      "text/plain": [
       "| 29m 22s                             | 96               | 275849          |"
      ]
     },
     "metadata": {},
     "output_type": "display_data"
    },
    {
     "data": {
      "text/html": [
       "<pre>| 29m 23s                             | 96               | 275863          |</pre>"
      ],
      "text/plain": [
       "| 29m 23s                             | 96               | 275863          |"
      ]
     },
     "metadata": {},
     "output_type": "display_data"
    },
    {
     "data": {
      "text/html": [
       "<pre>| 29m 33s                             | 96               | 275981          |</pre>"
      ],
      "text/plain": [
       "| 29m 33s                             | 96               | 275981          |"
      ]
     },
     "metadata": {},
     "output_type": "display_data"
    },
    {
     "data": {
      "text/html": [
       "<pre>| 31m 45s                             | 96.75            | 278054          |</pre>"
      ],
      "text/plain": [
       "| 31m 45s                             | 96.75            | 278054          |"
      ]
     },
     "metadata": {},
     "output_type": "display_data"
    },
    {
     "data": {
      "text/html": [
       "<pre>| 32m 45s                             | 96.75            | 278057          |</pre>"
      ],
      "text/plain": [
       "| 32m 45s                             | 96.75            | 278057          |"
      ]
     },
     "metadata": {},
     "output_type": "display_data"
    },
    {
     "data": {
      "text/html": [
       "<pre>| 32m 46s                             | 96.75            | 278136          |</pre>"
      ],
      "text/plain": [
       "| 32m 46s                             | 96.75            | 278136          |"
      ]
     },
     "metadata": {},
     "output_type": "display_data"
    },
    {
     "data": {
      "text/html": [
       "<pre>| 32m 56s                             | 96.75            | 278136          |</pre>"
      ],
      "text/plain": [
       "| 32m 56s                             | 96.75            | 278136          |"
      ]
     },
     "metadata": {},
     "output_type": "display_data"
    },
    {
     "data": {
      "text/html": [
       "<pre>| 33m 10s                             | 97               | 278257          |</pre>"
      ],
      "text/plain": [
       "| 33m 10s                             | 97               | 278257          |"
      ]
     },
     "metadata": {},
     "output_type": "display_data"
    },
    {
     "data": {
      "text/html": [
       "<pre>| 33m 11s                             | 97               | 278269          |</pre>"
      ],
      "text/plain": [
       "| 33m 11s                             | 97               | 278269          |"
      ]
     },
     "metadata": {},
     "output_type": "display_data"
    },
    {
     "data": {
      "text/html": [
       "<pre>| 33m 12s                             | 97               | 278285          |</pre>"
      ],
      "text/plain": [
       "| 33m 12s                             | 97               | 278285          |"
      ]
     },
     "metadata": {},
     "output_type": "display_data"
    },
    {
     "data": {
      "text/html": [
       "<pre>| 33m 13s                             | 97               | 278304          |</pre>"
      ],
      "text/plain": [
       "| 33m 13s                             | 97               | 278304          |"
      ]
     },
     "metadata": {},
     "output_type": "display_data"
    },
    {
     "data": {
      "text/html": [
       "<pre>| 33m 14s                             | 97               | 278304          |</pre>"
      ],
      "text/plain": [
       "| 33m 14s                             | 97               | 278304          |"
      ]
     },
     "metadata": {},
     "output_type": "display_data"
    },
    {
     "data": {
      "text/html": [
       "<pre>| 33m 15s                             | 97               | 278368          |</pre>"
      ],
      "text/plain": [
       "| 33m 15s                             | 97               | 278368          |"
      ]
     },
     "metadata": {},
     "output_type": "display_data"
    },
    {
     "data": {
      "text/html": [
       "<pre>| 33m 20s                             | 97               | 278368          |</pre>"
      ],
      "text/plain": [
       "| 33m 20s                             | 97               | 278368          |"
      ]
     },
     "metadata": {},
     "output_type": "display_data"
    },
    {
     "data": {
      "text/html": [
       "<pre>| 34m 7s                              | 97               | 278906          |</pre>"
      ],
      "text/plain": [
       "| 34m 7s                              | 97               | 278906          |"
      ]
     },
     "metadata": {},
     "output_type": "display_data"
    },
    {
     "data": {
      "text/html": [
       "<pre>| 34m 8s                              | 97.25            | 278924          |</pre>"
      ],
      "text/plain": [
       "| 34m 8s                              | 97.25            | 278924          |"
      ]
     },
     "metadata": {},
     "output_type": "display_data"
    },
    {
     "data": {
      "text/html": [
       "<pre>| 34m 52s                             | 98               | 281627          |</pre>"
      ],
      "text/plain": [
       "| 34m 52s                             | 98               | 281627          |"
      ]
     },
     "metadata": {},
     "output_type": "display_data"
    },
    {
     "data": {
      "text/html": [
       "<pre>| 37m 11s                             | 98               | 281627          |</pre>"
      ],
      "text/plain": [
       "| 37m 11s                             | 98               | 281627          |"
      ]
     },
     "metadata": {},
     "output_type": "display_data"
    },
    {
     "data": {
      "text/html": [
       "<pre>| 37m 12s                             | 98               | 281711          |</pre>"
      ],
      "text/plain": [
       "| 37m 12s                             | 98               | 281711          |"
      ]
     },
     "metadata": {},
     "output_type": "display_data"
    },
    {
     "data": {
      "text/html": [
       "<pre>| 37m 23s                             | 98               | 281718          |</pre>"
      ],
      "text/plain": [
       "| 37m 23s                             | 98               | 281718          |"
      ]
     },
     "metadata": {},
     "output_type": "display_data"
    },
    {
     "data": {
      "text/html": [
       "<pre>| 37m 24s                             | 98.25            | 281798          |</pre>"
      ],
      "text/plain": [
       "| 37m 24s                             | 98.25            | 281798          |"
      ]
     },
     "metadata": {},
     "output_type": "display_data"
    },
    {
     "data": {
      "text/html": [
       "<pre>| 37m 42s                             | 98.5             | 283069          |</pre>"
      ],
      "text/plain": [
       "| 37m 42s                             | 98.5             | 283069          |"
      ]
     },
     "metadata": {},
     "output_type": "display_data"
    },
    {
     "data": {
      "text/html": [
       "<pre>| 38m 5s                              | 98.75            | 283922          |</pre>"
      ],
      "text/plain": [
       "| 38m 5s                              | 98.75            | 283922          |"
      ]
     },
     "metadata": {},
     "output_type": "display_data"
    },
    {
     "data": {
      "text/html": [
       "<pre>| 38m 9s                              | 99               | 284027          |</pre>"
      ],
      "text/plain": [
       "| 38m 9s                              | 99               | 284027          |"
      ]
     },
     "metadata": {},
     "output_type": "display_data"
    },
    {
     "data": {
      "text/html": [
       "<pre>| 38m 12s                             | 99               | 284102          |</pre>"
      ],
      "text/plain": [
       "| 38m 12s                             | 99               | 284102          |"
      ]
     },
     "metadata": {},
     "output_type": "display_data"
    },
    {
     "data": {
      "text/html": [
       "<pre>| 38m 16s                             | 99               | 284166          |</pre>"
      ],
      "text/plain": [
       "| 38m 16s                             | 99               | 284166          |"
      ]
     },
     "metadata": {},
     "output_type": "display_data"
    },
    {
     "data": {
      "text/html": [
       "<pre>| 38m 49s                             | 99.25            | 284771          |</pre>"
      ],
      "text/plain": [
       "| 38m 49s                             | 99.25            | 284771          |"
      ]
     },
     "metadata": {},
     "output_type": "display_data"
    },
    {
     "data": {
      "text/html": [
       "<pre>| 38m 52s                             | 99.25            | 284798          |</pre>"
      ],
      "text/plain": [
       "| 38m 52s                             | 99.25            | 284798          |"
      ]
     },
     "metadata": {},
     "output_type": "display_data"
    },
    {
     "data": {
      "text/html": [
       "<pre>| 39m 41s                             | 99.5             | 285532          |</pre>"
      ],
      "text/plain": [
       "| 39m 41s                             | 99.5             | 285532          |"
      ]
     },
     "metadata": {},
     "output_type": "display_data"
    },
    {
     "data": {
      "text/html": [
       "<pre>| 39m 55s                             | 99.5             | 285717          |</pre>"
      ],
      "text/plain": [
       "| 39m 55s                             | 99.5             | 285717          |"
      ]
     },
     "metadata": {},
     "output_type": "display_data"
    },
    {
     "data": {
      "text/html": [
       "<pre>| 39m 58s                             | 99.75            | 286122          |</pre>"
      ],
      "text/plain": [
       "| 39m 58s                             | 99.75            | 286122          |"
      ]
     },
     "metadata": {},
     "output_type": "display_data"
    },
    {
     "data": {
      "text/html": [
       "<pre>| 40m 31s                             | 99.75            | 286164          |</pre>"
      ],
      "text/plain": [
       "| 40m 31s                             | 99.75            | 286164          |"
      ]
     },
     "metadata": {},
     "output_type": "display_data"
    },
    {
     "data": {
      "text/html": [
       "<pre>| 40m 34s                             | 99.75            | 286165          |</pre>"
      ],
      "text/plain": [
       "| 40m 34s                             | 99.75            | 286165          |"
      ]
     },
     "metadata": {},
     "output_type": "display_data"
    },
    {
     "data": {
      "text/html": [
       "<pre>| 45m 11s                             | 100              | 286804          |</pre>"
      ],
      "text/plain": [
       "| 45m 11s                             | 100              | 286804          |"
      ]
     },
     "metadata": {},
     "output_type": "display_data"
    },
    {
     "data": {
      "text/html": [
       "<pre>+-------------------------------------+------------------+-----------------+</pre>"
      ],
      "text/plain": [
       "+-------------------------------------+------------------+-----------------+"
      ]
     },
     "metadata": {},
     "output_type": "display_data"
    },
    {
     "data": {
      "text/html": [
       "<pre>Finalizing lookup tables.</pre>"
      ],
      "text/plain": [
       "Finalizing lookup tables."
      ]
     },
     "metadata": {},
     "output_type": "display_data"
    },
    {
     "data": {
      "text/html": [
       "<pre>Generating candidate set for working with new users.</pre>"
      ],
      "text/plain": [
       "Generating candidate set for working with new users."
      ]
     },
     "metadata": {},
     "output_type": "display_data"
    },
    {
     "data": {
      "text/html": [
       "<pre>Finished training in 2712.91s</pre>"
      ],
      "text/plain": [
       "Finished training in 2712.91s"
      ]
     },
     "metadata": {},
     "output_type": "display_data"
    }
   ],
   "source": [
    "item_sim_model = graphlab.item_similarity_recommender.create(sf, user_id='User-ID', item_id='ISBN', target='Book-Rating')"
   ]
  },
  {
   "cell_type": "code",
   "execution_count": 64,
   "metadata": {
    "collapsed": false
   },
   "outputs": [
    {
     "name": "stdout",
     "output_type": "stream",
     "text": [
      "+---------+------------+------------------+------+\n",
      "| User-ID |    ISBN    |      score       | rank |\n",
      "+---------+------------+------------------+------+\n",
      "|    1    | 044021145X | 0.0100413656235  |  1   |\n",
      "|    1    | 0060928336 | 0.00940719604492 |  2   |\n",
      "|    1    | 0440213525 | 0.00894405722618 |  3   |\n",
      "|    1    | 0312195516 | 0.00889273405075 |  4   |\n",
      "|    1    | 0440214041 | 0.00855695486069 |  5   |\n",
      "|    2    | 044021145X | 0.0100413656235  |  1   |\n",
      "|    2    | 0060928336 | 0.00940719604492 |  2   |\n",
      "|    2    | 0440213525 | 0.00894405722618 |  3   |\n",
      "|    2    | 0312195516 | 0.00889273405075 |  4   |\n",
      "|    2    | 0440214041 | 0.00855695486069 |  5   |\n",
      "+---------+------------+------------------+------+\n",
      "[45 rows x 4 columns]\n",
      "\n"
     ]
    }
   ],
   "source": [
    "#Make Recommendations:\n",
    "item_sim_recomm = item_sim_model.recommend(users=range(1,10),k=5)\n",
    "item_sim_recomm.print_rows(num_rows=10)"
   ]
  },
  {
   "cell_type": "code",
   "execution_count": 51,
   "metadata": {
    "collapsed": false
   },
   "outputs": [
    {
     "name": "stdout",
     "output_type": "stream",
     "text": [
      "Canvas is updated and available in a tab in the default browser.\n"
     ]
    }
   ],
   "source": [
    "item_sim_recomm.show()"
   ]
  },
  {
   "cell_type": "code",
   "execution_count": 65,
   "metadata": {
    "collapsed": false
   },
   "outputs": [],
   "source": [
    "aggr = pd.merge(graphlab.SFrame.to_dataframe(item_sim_recomm), books[['ISBN','Book-Title']], on = ['ISBN'], how='inner')"
   ]
  },
  {
   "cell_type": "code",
   "execution_count": 66,
   "metadata": {
    "collapsed": false
   },
   "outputs": [
    {
     "data": {
      "text/html": [
       "<div>\n",
       "<table border=\"1\" class=\"dataframe\">\n",
       "  <thead>\n",
       "    <tr style=\"text-align: right;\">\n",
       "      <th></th>\n",
       "      <th>User-ID</th>\n",
       "      <th>ISBN</th>\n",
       "      <th>score</th>\n",
       "      <th>rank</th>\n",
       "      <th>Book-Title</th>\n",
       "    </tr>\n",
       "  </thead>\n",
       "  <tbody>\n",
       "    <tr>\n",
       "      <th>0</th>\n",
       "      <td>1</td>\n",
       "      <td>044021145X</td>\n",
       "      <td>0.010041</td>\n",
       "      <td>1</td>\n",
       "      <td>The Firm</td>\n",
       "    </tr>\n",
       "    <tr>\n",
       "      <th>1</th>\n",
       "      <td>2</td>\n",
       "      <td>044021145X</td>\n",
       "      <td>0.010041</td>\n",
       "      <td>1</td>\n",
       "      <td>The Firm</td>\n",
       "    </tr>\n",
       "    <tr>\n",
       "      <th>2</th>\n",
       "      <td>3</td>\n",
       "      <td>044021145X</td>\n",
       "      <td>0.010041</td>\n",
       "      <td>1</td>\n",
       "      <td>The Firm</td>\n",
       "    </tr>\n",
       "    <tr>\n",
       "      <th>3</th>\n",
       "      <td>4</td>\n",
       "      <td>044021145X</td>\n",
       "      <td>0.010041</td>\n",
       "      <td>1</td>\n",
       "      <td>The Firm</td>\n",
       "    </tr>\n",
       "    <tr>\n",
       "      <th>4</th>\n",
       "      <td>5</td>\n",
       "      <td>044021145X</td>\n",
       "      <td>0.010041</td>\n",
       "      <td>1</td>\n",
       "      <td>The Firm</td>\n",
       "    </tr>\n",
       "    <tr>\n",
       "      <th>5</th>\n",
       "      <td>6</td>\n",
       "      <td>044021145X</td>\n",
       "      <td>0.010041</td>\n",
       "      <td>1</td>\n",
       "      <td>The Firm</td>\n",
       "    </tr>\n",
       "    <tr>\n",
       "      <th>6</th>\n",
       "      <td>7</td>\n",
       "      <td>044021145X</td>\n",
       "      <td>0.010041</td>\n",
       "      <td>1</td>\n",
       "      <td>The Firm</td>\n",
       "    </tr>\n",
       "    <tr>\n",
       "      <th>7</th>\n",
       "      <td>1</td>\n",
       "      <td>0060928336</td>\n",
       "      <td>0.009407</td>\n",
       "      <td>2</td>\n",
       "      <td>Divine Secrets of the Ya-Ya Sisterhood: A Novel</td>\n",
       "    </tr>\n",
       "    <tr>\n",
       "      <th>8</th>\n",
       "      <td>2</td>\n",
       "      <td>0060928336</td>\n",
       "      <td>0.009407</td>\n",
       "      <td>2</td>\n",
       "      <td>Divine Secrets of the Ya-Ya Sisterhood: A Novel</td>\n",
       "    </tr>\n",
       "    <tr>\n",
       "      <th>9</th>\n",
       "      <td>3</td>\n",
       "      <td>0060928336</td>\n",
       "      <td>0.009407</td>\n",
       "      <td>2</td>\n",
       "      <td>Divine Secrets of the Ya-Ya Sisterhood: A Novel</td>\n",
       "    </tr>\n",
       "    <tr>\n",
       "      <th>10</th>\n",
       "      <td>4</td>\n",
       "      <td>0060928336</td>\n",
       "      <td>0.009407</td>\n",
       "      <td>2</td>\n",
       "      <td>Divine Secrets of the Ya-Ya Sisterhood: A Novel</td>\n",
       "    </tr>\n",
       "    <tr>\n",
       "      <th>11</th>\n",
       "      <td>5</td>\n",
       "      <td>0060928336</td>\n",
       "      <td>0.009407</td>\n",
       "      <td>2</td>\n",
       "      <td>Divine Secrets of the Ya-Ya Sisterhood: A Novel</td>\n",
       "    </tr>\n",
       "    <tr>\n",
       "      <th>12</th>\n",
       "      <td>6</td>\n",
       "      <td>0060928336</td>\n",
       "      <td>0.009407</td>\n",
       "      <td>2</td>\n",
       "      <td>Divine Secrets of the Ya-Ya Sisterhood: A Novel</td>\n",
       "    </tr>\n",
       "    <tr>\n",
       "      <th>13</th>\n",
       "      <td>7</td>\n",
       "      <td>0060928336</td>\n",
       "      <td>0.009407</td>\n",
       "      <td>2</td>\n",
       "      <td>Divine Secrets of the Ya-Ya Sisterhood: A Novel</td>\n",
       "    </tr>\n",
       "    <tr>\n",
       "      <th>14</th>\n",
       "      <td>1</td>\n",
       "      <td>0440213525</td>\n",
       "      <td>0.008944</td>\n",
       "      <td>3</td>\n",
       "      <td>The Client</td>\n",
       "    </tr>\n",
       "    <tr>\n",
       "      <th>15</th>\n",
       "      <td>2</td>\n",
       "      <td>0440213525</td>\n",
       "      <td>0.008944</td>\n",
       "      <td>3</td>\n",
       "      <td>The Client</td>\n",
       "    </tr>\n",
       "    <tr>\n",
       "      <th>16</th>\n",
       "      <td>3</td>\n",
       "      <td>0440213525</td>\n",
       "      <td>0.008944</td>\n",
       "      <td>3</td>\n",
       "      <td>The Client</td>\n",
       "    </tr>\n",
       "    <tr>\n",
       "      <th>17</th>\n",
       "      <td>4</td>\n",
       "      <td>0440213525</td>\n",
       "      <td>0.008944</td>\n",
       "      <td>3</td>\n",
       "      <td>The Client</td>\n",
       "    </tr>\n",
       "    <tr>\n",
       "      <th>18</th>\n",
       "      <td>5</td>\n",
       "      <td>0440213525</td>\n",
       "      <td>0.008944</td>\n",
       "      <td>3</td>\n",
       "      <td>The Client</td>\n",
       "    </tr>\n",
       "    <tr>\n",
       "      <th>19</th>\n",
       "      <td>6</td>\n",
       "      <td>0440213525</td>\n",
       "      <td>0.008944</td>\n",
       "      <td>3</td>\n",
       "      <td>The Client</td>\n",
       "    </tr>\n",
       "    <tr>\n",
       "      <th>20</th>\n",
       "      <td>7</td>\n",
       "      <td>0440213525</td>\n",
       "      <td>0.008944</td>\n",
       "      <td>3</td>\n",
       "      <td>The Client</td>\n",
       "    </tr>\n",
       "    <tr>\n",
       "      <th>21</th>\n",
       "      <td>1</td>\n",
       "      <td>0312195516</td>\n",
       "      <td>0.008893</td>\n",
       "      <td>4</td>\n",
       "      <td>The Red Tent (Bestselling Backlist)</td>\n",
       "    </tr>\n",
       "    <tr>\n",
       "      <th>22</th>\n",
       "      <td>2</td>\n",
       "      <td>0312195516</td>\n",
       "      <td>0.008893</td>\n",
       "      <td>4</td>\n",
       "      <td>The Red Tent (Bestselling Backlist)</td>\n",
       "    </tr>\n",
       "    <tr>\n",
       "      <th>23</th>\n",
       "      <td>3</td>\n",
       "      <td>0312195516</td>\n",
       "      <td>0.008893</td>\n",
       "      <td>4</td>\n",
       "      <td>The Red Tent (Bestselling Backlist)</td>\n",
       "    </tr>\n",
       "    <tr>\n",
       "      <th>24</th>\n",
       "      <td>4</td>\n",
       "      <td>0312195516</td>\n",
       "      <td>0.008893</td>\n",
       "      <td>4</td>\n",
       "      <td>The Red Tent (Bestselling Backlist)</td>\n",
       "    </tr>\n",
       "    <tr>\n",
       "      <th>25</th>\n",
       "      <td>5</td>\n",
       "      <td>0312195516</td>\n",
       "      <td>0.008893</td>\n",
       "      <td>4</td>\n",
       "      <td>The Red Tent (Bestselling Backlist)</td>\n",
       "    </tr>\n",
       "    <tr>\n",
       "      <th>26</th>\n",
       "      <td>6</td>\n",
       "      <td>0312195516</td>\n",
       "      <td>0.008893</td>\n",
       "      <td>4</td>\n",
       "      <td>The Red Tent (Bestselling Backlist)</td>\n",
       "    </tr>\n",
       "    <tr>\n",
       "      <th>27</th>\n",
       "      <td>7</td>\n",
       "      <td>0312195516</td>\n",
       "      <td>0.008893</td>\n",
       "      <td>4</td>\n",
       "      <td>The Red Tent (Bestselling Backlist)</td>\n",
       "    </tr>\n",
       "    <tr>\n",
       "      <th>28</th>\n",
       "      <td>1</td>\n",
       "      <td>0440214041</td>\n",
       "      <td>0.008557</td>\n",
       "      <td>5</td>\n",
       "      <td>The Pelican Brief</td>\n",
       "    </tr>\n",
       "    <tr>\n",
       "      <th>29</th>\n",
       "      <td>2</td>\n",
       "      <td>0440214041</td>\n",
       "      <td>0.008557</td>\n",
       "      <td>5</td>\n",
       "      <td>The Pelican Brief</td>\n",
       "    </tr>\n",
       "    <tr>\n",
       "      <th>30</th>\n",
       "      <td>3</td>\n",
       "      <td>0440214041</td>\n",
       "      <td>0.008557</td>\n",
       "      <td>5</td>\n",
       "      <td>The Pelican Brief</td>\n",
       "    </tr>\n",
       "    <tr>\n",
       "      <th>31</th>\n",
       "      <td>4</td>\n",
       "      <td>0440214041</td>\n",
       "      <td>0.008557</td>\n",
       "      <td>5</td>\n",
       "      <td>The Pelican Brief</td>\n",
       "    </tr>\n",
       "    <tr>\n",
       "      <th>32</th>\n",
       "      <td>5</td>\n",
       "      <td>0440214041</td>\n",
       "      <td>0.008557</td>\n",
       "      <td>5</td>\n",
       "      <td>The Pelican Brief</td>\n",
       "    </tr>\n",
       "    <tr>\n",
       "      <th>33</th>\n",
       "      <td>6</td>\n",
       "      <td>0440214041</td>\n",
       "      <td>0.008557</td>\n",
       "      <td>5</td>\n",
       "      <td>The Pelican Brief</td>\n",
       "    </tr>\n",
       "    <tr>\n",
       "      <th>34</th>\n",
       "      <td>7</td>\n",
       "      <td>0440214041</td>\n",
       "      <td>0.008557</td>\n",
       "      <td>5</td>\n",
       "      <td>The Pelican Brief</td>\n",
       "    </tr>\n",
       "    <tr>\n",
       "      <th>35</th>\n",
       "      <td>8</td>\n",
       "      <td>1861470592</td>\n",
       "      <td>0.035714</td>\n",
       "      <td>1</td>\n",
       "      <td>The Small Garden Handbook</td>\n",
       "    </tr>\n",
       "    <tr>\n",
       "      <th>36</th>\n",
       "      <td>8</td>\n",
       "      <td>0671890778</td>\n",
       "      <td>0.035714</td>\n",
       "      <td>2</td>\n",
       "      <td>Hold It! You're Exercizing Wrong : Your Prescr...</td>\n",
       "    </tr>\n",
       "    <tr>\n",
       "      <th>37</th>\n",
       "      <td>8</td>\n",
       "      <td>0817012370</td>\n",
       "      <td>0.035714</td>\n",
       "      <td>3</td>\n",
       "      <td>How to Recover from Grief</td>\n",
       "    </tr>\n",
       "    <tr>\n",
       "      <th>38</th>\n",
       "      <td>8</td>\n",
       "      <td>0553252275</td>\n",
       "      <td>0.035714</td>\n",
       "      <td>4</td>\n",
       "      <td>Reflections on Life After Life</td>\n",
       "    </tr>\n",
       "    <tr>\n",
       "      <th>39</th>\n",
       "      <td>8</td>\n",
       "      <td>078686043X</td>\n",
       "      <td>0.035714</td>\n",
       "      <td>5</td>\n",
       "      <td>The Beardstown Ladies' Common-Sense Investment...</td>\n",
       "    </tr>\n",
       "    <tr>\n",
       "      <th>40</th>\n",
       "      <td>9</td>\n",
       "      <td>0385312202</td>\n",
       "      <td>0.017857</td>\n",
       "      <td>1</td>\n",
       "      <td>Leaving Cold Sassy: The Unfinished Sequel to C...</td>\n",
       "    </tr>\n",
       "    <tr>\n",
       "      <th>41</th>\n",
       "      <td>9</td>\n",
       "      <td>0553278355</td>\n",
       "      <td>0.014286</td>\n",
       "      <td>2</td>\n",
       "      <td>The Bell Jar</td>\n",
       "    </tr>\n",
       "    <tr>\n",
       "      <th>42</th>\n",
       "      <td>9</td>\n",
       "      <td>0316899984</td>\n",
       "      <td>0.013201</td>\n",
       "      <td>3</td>\n",
       "      <td>River, Cross My Heart</td>\n",
       "    </tr>\n",
       "    <tr>\n",
       "      <th>43</th>\n",
       "      <td>9</td>\n",
       "      <td>0060175982</td>\n",
       "      <td>0.012821</td>\n",
       "      <td>4</td>\n",
       "      <td>Mars and Venus Starting Over: A Practical Guid...</td>\n",
       "    </tr>\n",
       "    <tr>\n",
       "      <th>44</th>\n",
       "      <td>9</td>\n",
       "      <td>0312950853</td>\n",
       "      <td>0.012821</td>\n",
       "      <td>5</td>\n",
       "      <td>The Nanny Murder Trial (St. Martin's True Crim...</td>\n",
       "    </tr>\n",
       "  </tbody>\n",
       "</table>\n",
       "</div>"
      ],
      "text/plain": [
       "    User-ID        ISBN     score  rank  \\\n",
       "0         1  044021145X  0.010041     1   \n",
       "1         2  044021145X  0.010041     1   \n",
       "2         3  044021145X  0.010041     1   \n",
       "3         4  044021145X  0.010041     1   \n",
       "4         5  044021145X  0.010041     1   \n",
       "5         6  044021145X  0.010041     1   \n",
       "6         7  044021145X  0.010041     1   \n",
       "7         1  0060928336  0.009407     2   \n",
       "8         2  0060928336  0.009407     2   \n",
       "9         3  0060928336  0.009407     2   \n",
       "10        4  0060928336  0.009407     2   \n",
       "11        5  0060928336  0.009407     2   \n",
       "12        6  0060928336  0.009407     2   \n",
       "13        7  0060928336  0.009407     2   \n",
       "14        1  0440213525  0.008944     3   \n",
       "15        2  0440213525  0.008944     3   \n",
       "16        3  0440213525  0.008944     3   \n",
       "17        4  0440213525  0.008944     3   \n",
       "18        5  0440213525  0.008944     3   \n",
       "19        6  0440213525  0.008944     3   \n",
       "20        7  0440213525  0.008944     3   \n",
       "21        1  0312195516  0.008893     4   \n",
       "22        2  0312195516  0.008893     4   \n",
       "23        3  0312195516  0.008893     4   \n",
       "24        4  0312195516  0.008893     4   \n",
       "25        5  0312195516  0.008893     4   \n",
       "26        6  0312195516  0.008893     4   \n",
       "27        7  0312195516  0.008893     4   \n",
       "28        1  0440214041  0.008557     5   \n",
       "29        2  0440214041  0.008557     5   \n",
       "30        3  0440214041  0.008557     5   \n",
       "31        4  0440214041  0.008557     5   \n",
       "32        5  0440214041  0.008557     5   \n",
       "33        6  0440214041  0.008557     5   \n",
       "34        7  0440214041  0.008557     5   \n",
       "35        8  1861470592  0.035714     1   \n",
       "36        8  0671890778  0.035714     2   \n",
       "37        8  0817012370  0.035714     3   \n",
       "38        8  0553252275  0.035714     4   \n",
       "39        8  078686043X  0.035714     5   \n",
       "40        9  0385312202  0.017857     1   \n",
       "41        9  0553278355  0.014286     2   \n",
       "42        9  0316899984  0.013201     3   \n",
       "43        9  0060175982  0.012821     4   \n",
       "44        9  0312950853  0.012821     5   \n",
       "\n",
       "                                           Book-Title  \n",
       "0                                            The Firm  \n",
       "1                                            The Firm  \n",
       "2                                            The Firm  \n",
       "3                                            The Firm  \n",
       "4                                            The Firm  \n",
       "5                                            The Firm  \n",
       "6                                            The Firm  \n",
       "7     Divine Secrets of the Ya-Ya Sisterhood: A Novel  \n",
       "8     Divine Secrets of the Ya-Ya Sisterhood: A Novel  \n",
       "9     Divine Secrets of the Ya-Ya Sisterhood: A Novel  \n",
       "10    Divine Secrets of the Ya-Ya Sisterhood: A Novel  \n",
       "11    Divine Secrets of the Ya-Ya Sisterhood: A Novel  \n",
       "12    Divine Secrets of the Ya-Ya Sisterhood: A Novel  \n",
       "13    Divine Secrets of the Ya-Ya Sisterhood: A Novel  \n",
       "14                                         The Client  \n",
       "15                                         The Client  \n",
       "16                                         The Client  \n",
       "17                                         The Client  \n",
       "18                                         The Client  \n",
       "19                                         The Client  \n",
       "20                                         The Client  \n",
       "21                The Red Tent (Bestselling Backlist)  \n",
       "22                The Red Tent (Bestselling Backlist)  \n",
       "23                The Red Tent (Bestselling Backlist)  \n",
       "24                The Red Tent (Bestselling Backlist)  \n",
       "25                The Red Tent (Bestselling Backlist)  \n",
       "26                The Red Tent (Bestselling Backlist)  \n",
       "27                The Red Tent (Bestselling Backlist)  \n",
       "28                                  The Pelican Brief  \n",
       "29                                  The Pelican Brief  \n",
       "30                                  The Pelican Brief  \n",
       "31                                  The Pelican Brief  \n",
       "32                                  The Pelican Brief  \n",
       "33                                  The Pelican Brief  \n",
       "34                                  The Pelican Brief  \n",
       "35                          The Small Garden Handbook  \n",
       "36  Hold It! You're Exercizing Wrong : Your Prescr...  \n",
       "37                          How to Recover from Grief  \n",
       "38                     Reflections on Life After Life  \n",
       "39  The Beardstown Ladies' Common-Sense Investment...  \n",
       "40  Leaving Cold Sassy: The Unfinished Sequel to C...  \n",
       "41                                       The Bell Jar  \n",
       "42                              River, Cross My Heart  \n",
       "43  Mars and Venus Starting Over: A Practical Guid...  \n",
       "44  The Nanny Murder Trial (St. Martin's True Crim...  "
      ]
     },
     "metadata": {},
     "output_type": "display_data"
    }
   ],
   "source": [
    "display(aggr)"
   ]
  },
  {
   "cell_type": "code",
   "execution_count": 44,
   "metadata": {
    "collapsed": false
   },
   "outputs": [
    {
     "name": "stdout",
     "output_type": "stream",
     "text": [
      "PROGRESS: Evaluate model M0\n"
     ]
    },
    {
     "data": {
      "text/html": [
       "<pre>recommendations finished on 1000/47880 queries. users per second: 287.309</pre>"
      ],
      "text/plain": [
       "recommendations finished on 1000/47880 queries. users per second: 287.309"
      ]
     },
     "metadata": {},
     "output_type": "display_data"
    },
    {
     "data": {
      "text/html": [
       "<pre>recommendations finished on 2000/47880 queries. users per second: 284.384</pre>"
      ],
      "text/plain": [
       "recommendations finished on 2000/47880 queries. users per second: 284.384"
      ]
     },
     "metadata": {},
     "output_type": "display_data"
    },
    {
     "data": {
      "text/html": [
       "<pre>recommendations finished on 3000/47880 queries. users per second: 286.821</pre>"
      ],
      "text/plain": [
       "recommendations finished on 3000/47880 queries. users per second: 286.821"
      ]
     },
     "metadata": {},
     "output_type": "display_data"
    },
    {
     "data": {
      "text/html": [
       "<pre>recommendations finished on 4000/47880 queries. users per second: 286.685</pre>"
      ],
      "text/plain": [
       "recommendations finished on 4000/47880 queries. users per second: 286.685"
      ]
     },
     "metadata": {},
     "output_type": "display_data"
    },
    {
     "data": {
      "text/html": [
       "<pre>recommendations finished on 5000/47880 queries. users per second: 287.046</pre>"
      ],
      "text/plain": [
       "recommendations finished on 5000/47880 queries. users per second: 287.046"
      ]
     },
     "metadata": {},
     "output_type": "display_data"
    },
    {
     "data": {
      "text/html": [
       "<pre>recommendations finished on 6000/47880 queries. users per second: 287.064</pre>"
      ],
      "text/plain": [
       "recommendations finished on 6000/47880 queries. users per second: 287.064"
      ]
     },
     "metadata": {},
     "output_type": "display_data"
    },
    {
     "data": {
      "text/html": [
       "<pre>recommendations finished on 7000/47880 queries. users per second: 287.079</pre>"
      ],
      "text/plain": [
       "recommendations finished on 7000/47880 queries. users per second: 287.079"
      ]
     },
     "metadata": {},
     "output_type": "display_data"
    },
    {
     "data": {
      "text/html": [
       "<pre>recommendations finished on 8000/47880 queries. users per second: 287.537</pre>"
      ],
      "text/plain": [
       "recommendations finished on 8000/47880 queries. users per second: 287.537"
      ]
     },
     "metadata": {},
     "output_type": "display_data"
    },
    {
     "data": {
      "text/html": [
       "<pre>recommendations finished on 9000/47880 queries. users per second: 287.533</pre>"
      ],
      "text/plain": [
       "recommendations finished on 9000/47880 queries. users per second: 287.533"
      ]
     },
     "metadata": {},
     "output_type": "display_data"
    },
    {
     "data": {
      "text/html": [
       "<pre>recommendations finished on 10000/47880 queries. users per second: 287.681</pre>"
      ],
      "text/plain": [
       "recommendations finished on 10000/47880 queries. users per second: 287.681"
      ]
     },
     "metadata": {},
     "output_type": "display_data"
    },
    {
     "data": {
      "text/html": [
       "<pre>recommendations finished on 11000/47880 queries. users per second: 288.087</pre>"
      ],
      "text/plain": [
       "recommendations finished on 11000/47880 queries. users per second: 288.087"
      ]
     },
     "metadata": {},
     "output_type": "display_data"
    },
    {
     "data": {
      "text/html": [
       "<pre>recommendations finished on 12000/47880 queries. users per second: 286.695</pre>"
      ],
      "text/plain": [
       "recommendations finished on 12000/47880 queries. users per second: 286.695"
      ]
     },
     "metadata": {},
     "output_type": "display_data"
    },
    {
     "data": {
      "text/html": [
       "<pre>recommendations finished on 13000/47880 queries. users per second: 284.319</pre>"
      ],
      "text/plain": [
       "recommendations finished on 13000/47880 queries. users per second: 284.319"
      ]
     },
     "metadata": {},
     "output_type": "display_data"
    },
    {
     "data": {
      "text/html": [
       "<pre>recommendations finished on 14000/47880 queries. users per second: 282.179</pre>"
      ],
      "text/plain": [
       "recommendations finished on 14000/47880 queries. users per second: 282.179"
      ]
     },
     "metadata": {},
     "output_type": "display_data"
    },
    {
     "data": {
      "text/html": [
       "<pre>recommendations finished on 15000/47880 queries. users per second: 282.417</pre>"
      ],
      "text/plain": [
       "recommendations finished on 15000/47880 queries. users per second: 282.417"
      ]
     },
     "metadata": {},
     "output_type": "display_data"
    },
    {
     "data": {
      "text/html": [
       "<pre>recommendations finished on 16000/47880 queries. users per second: 282.755</pre>"
      ],
      "text/plain": [
       "recommendations finished on 16000/47880 queries. users per second: 282.755"
      ]
     },
     "metadata": {},
     "output_type": "display_data"
    },
    {
     "data": {
      "text/html": [
       "<pre>recommendations finished on 17000/47880 queries. users per second: 283.235</pre>"
      ],
      "text/plain": [
       "recommendations finished on 17000/47880 queries. users per second: 283.235"
      ]
     },
     "metadata": {},
     "output_type": "display_data"
    },
    {
     "data": {
      "text/html": [
       "<pre>recommendations finished on 18000/47880 queries. users per second: 283.599</pre>"
      ],
      "text/plain": [
       "recommendations finished on 18000/47880 queries. users per second: 283.599"
      ]
     },
     "metadata": {},
     "output_type": "display_data"
    },
    {
     "data": {
      "text/html": [
       "<pre>recommendations finished on 19000/47880 queries. users per second: 283.815</pre>"
      ],
      "text/plain": [
       "recommendations finished on 19000/47880 queries. users per second: 283.815"
      ]
     },
     "metadata": {},
     "output_type": "display_data"
    },
    {
     "data": {
      "text/html": [
       "<pre>recommendations finished on 20000/47880 queries. users per second: 284.059</pre>"
      ],
      "text/plain": [
       "recommendations finished on 20000/47880 queries. users per second: 284.059"
      ]
     },
     "metadata": {},
     "output_type": "display_data"
    },
    {
     "data": {
      "text/html": [
       "<pre>recommendations finished on 21000/47880 queries. users per second: 284.132</pre>"
      ],
      "text/plain": [
       "recommendations finished on 21000/47880 queries. users per second: 284.132"
      ]
     },
     "metadata": {},
     "output_type": "display_data"
    },
    {
     "data": {
      "text/html": [
       "<pre>recommendations finished on 22000/47880 queries. users per second: 284.121</pre>"
      ],
      "text/plain": [
       "recommendations finished on 22000/47880 queries. users per second: 284.121"
      ]
     },
     "metadata": {},
     "output_type": "display_data"
    },
    {
     "data": {
      "text/html": [
       "<pre>recommendations finished on 23000/47880 queries. users per second: 284.164</pre>"
      ],
      "text/plain": [
       "recommendations finished on 23000/47880 queries. users per second: 284.164"
      ]
     },
     "metadata": {},
     "output_type": "display_data"
    },
    {
     "data": {
      "text/html": [
       "<pre>recommendations finished on 24000/47880 queries. users per second: 284.463</pre>"
      ],
      "text/plain": [
       "recommendations finished on 24000/47880 queries. users per second: 284.463"
      ]
     },
     "metadata": {},
     "output_type": "display_data"
    },
    {
     "data": {
      "text/html": [
       "<pre>recommendations finished on 25000/47880 queries. users per second: 284.739</pre>"
      ],
      "text/plain": [
       "recommendations finished on 25000/47880 queries. users per second: 284.739"
      ]
     },
     "metadata": {},
     "output_type": "display_data"
    },
    {
     "data": {
      "text/html": [
       "<pre>recommendations finished on 26000/47880 queries. users per second: 284.781</pre>"
      ],
      "text/plain": [
       "recommendations finished on 26000/47880 queries. users per second: 284.781"
      ]
     },
     "metadata": {},
     "output_type": "display_data"
    },
    {
     "data": {
      "text/html": [
       "<pre>recommendations finished on 27000/47880 queries. users per second: 283.839</pre>"
      ],
      "text/plain": [
       "recommendations finished on 27000/47880 queries. users per second: 283.839"
      ]
     },
     "metadata": {},
     "output_type": "display_data"
    },
    {
     "data": {
      "text/html": [
       "<pre>recommendations finished on 28000/47880 queries. users per second: 279.88</pre>"
      ],
      "text/plain": [
       "recommendations finished on 28000/47880 queries. users per second: 279.88"
      ]
     },
     "metadata": {},
     "output_type": "display_data"
    },
    {
     "data": {
      "text/html": [
       "<pre>recommendations finished on 29000/47880 queries. users per second: 274.783</pre>"
      ],
      "text/plain": [
       "recommendations finished on 29000/47880 queries. users per second: 274.783"
      ]
     },
     "metadata": {},
     "output_type": "display_data"
    },
    {
     "data": {
      "text/html": [
       "<pre>recommendations finished on 30000/47880 queries. users per second: 271.046</pre>"
      ],
      "text/plain": [
       "recommendations finished on 30000/47880 queries. users per second: 271.046"
      ]
     },
     "metadata": {},
     "output_type": "display_data"
    },
    {
     "data": {
      "text/html": [
       "<pre>recommendations finished on 31000/47880 queries. users per second: 268.063</pre>"
      ],
      "text/plain": [
       "recommendations finished on 31000/47880 queries. users per second: 268.063"
      ]
     },
     "metadata": {},
     "output_type": "display_data"
    },
    {
     "data": {
      "text/html": [
       "<pre>recommendations finished on 32000/47880 queries. users per second: 264.9</pre>"
      ],
      "text/plain": [
       "recommendations finished on 32000/47880 queries. users per second: 264.9"
      ]
     },
     "metadata": {},
     "output_type": "display_data"
    },
    {
     "data": {
      "text/html": [
       "<pre>recommendations finished on 33000/47880 queries. users per second: 262.532</pre>"
      ],
      "text/plain": [
       "recommendations finished on 33000/47880 queries. users per second: 262.532"
      ]
     },
     "metadata": {},
     "output_type": "display_data"
    },
    {
     "data": {
      "text/html": [
       "<pre>recommendations finished on 34000/47880 queries. users per second: 259.89</pre>"
      ],
      "text/plain": [
       "recommendations finished on 34000/47880 queries. users per second: 259.89"
      ]
     },
     "metadata": {},
     "output_type": "display_data"
    },
    {
     "data": {
      "text/html": [
       "<pre>recommendations finished on 35000/47880 queries. users per second: 257.496</pre>"
      ],
      "text/plain": [
       "recommendations finished on 35000/47880 queries. users per second: 257.496"
      ]
     },
     "metadata": {},
     "output_type": "display_data"
    },
    {
     "data": {
      "text/html": [
       "<pre>recommendations finished on 36000/47880 queries. users per second: 257.058</pre>"
      ],
      "text/plain": [
       "recommendations finished on 36000/47880 queries. users per second: 257.058"
      ]
     },
     "metadata": {},
     "output_type": "display_data"
    },
    {
     "data": {
      "text/html": [
       "<pre>recommendations finished on 37000/47880 queries. users per second: 257.773</pre>"
      ],
      "text/plain": [
       "recommendations finished on 37000/47880 queries. users per second: 257.773"
      ]
     },
     "metadata": {},
     "output_type": "display_data"
    },
    {
     "data": {
      "text/html": [
       "<pre>recommendations finished on 38000/47880 queries. users per second: 258.627</pre>"
      ],
      "text/plain": [
       "recommendations finished on 38000/47880 queries. users per second: 258.627"
      ]
     },
     "metadata": {},
     "output_type": "display_data"
    },
    {
     "data": {
      "text/html": [
       "<pre>recommendations finished on 39000/47880 queries. users per second: 259.48</pre>"
      ],
      "text/plain": [
       "recommendations finished on 39000/47880 queries. users per second: 259.48"
      ]
     },
     "metadata": {},
     "output_type": "display_data"
    },
    {
     "data": {
      "text/html": [
       "<pre>recommendations finished on 40000/47880 queries. users per second: 260.368</pre>"
      ],
      "text/plain": [
       "recommendations finished on 40000/47880 queries. users per second: 260.368"
      ]
     },
     "metadata": {},
     "output_type": "display_data"
    },
    {
     "data": {
      "text/html": [
       "<pre>recommendations finished on 41000/47880 queries. users per second: 261.166</pre>"
      ],
      "text/plain": [
       "recommendations finished on 41000/47880 queries. users per second: 261.166"
      ]
     },
     "metadata": {},
     "output_type": "display_data"
    },
    {
     "data": {
      "text/html": [
       "<pre>recommendations finished on 42000/47880 queries. users per second: 261.909</pre>"
      ],
      "text/plain": [
       "recommendations finished on 42000/47880 queries. users per second: 261.909"
      ]
     },
     "metadata": {},
     "output_type": "display_data"
    },
    {
     "data": {
      "text/html": [
       "<pre>recommendations finished on 43000/47880 queries. users per second: 262.586</pre>"
      ],
      "text/plain": [
       "recommendations finished on 43000/47880 queries. users per second: 262.586"
      ]
     },
     "metadata": {},
     "output_type": "display_data"
    },
    {
     "data": {
      "text/html": [
       "<pre>recommendations finished on 44000/47880 queries. users per second: 263.226</pre>"
      ],
      "text/plain": [
       "recommendations finished on 44000/47880 queries. users per second: 263.226"
      ]
     },
     "metadata": {},
     "output_type": "display_data"
    },
    {
     "data": {
      "text/html": [
       "<pre>recommendations finished on 45000/47880 queries. users per second: 263.273</pre>"
      ],
      "text/plain": [
       "recommendations finished on 45000/47880 queries. users per second: 263.273"
      ]
     },
     "metadata": {},
     "output_type": "display_data"
    },
    {
     "data": {
      "text/html": [
       "<pre>recommendations finished on 46000/47880 queries. users per second: 263.363</pre>"
      ],
      "text/plain": [
       "recommendations finished on 46000/47880 queries. users per second: 263.363"
      ]
     },
     "metadata": {},
     "output_type": "display_data"
    },
    {
     "data": {
      "text/html": [
       "<pre>recommendations finished on 47000/47880 queries. users per second: 263.333</pre>"
      ],
      "text/plain": [
       "recommendations finished on 47000/47880 queries. users per second: 263.333"
      ]
     },
     "metadata": {},
     "output_type": "display_data"
    },
    {
     "name": "stdout",
     "output_type": "stream",
     "text": [
      "\n",
      "Precision and recall summary statistics by cutoff\n",
      "+--------+-------------------+-------------------+\n",
      "| cutoff |   mean_precision  |    mean_recall    |\n",
      "+--------+-------------------+-------------------+\n",
      "|   1    |        0.0        |        0.0        |\n",
      "|   2    |        0.0        |        0.0        |\n",
      "|   3    | 6.96184906711e-06 | 1.04427736007e-05 |\n",
      "|   4    | 1.04427736007e-05 | 2.08855472013e-05 |\n",
      "|   5    | 8.35421888053e-06 | 2.08855472013e-05 |\n",
      "|   6    | 6.96184906711e-06 | 2.08855472013e-05 |\n",
      "|   7    | 5.96729920038e-06 | 2.08855472013e-05 |\n",
      "|   8    |  7.8320802005e-06 | 2.09549344013e-05 |\n",
      "|   9    | 6.96184906711e-06 | 2.09549344013e-05 |\n",
      "|   10   |  6.2656641604e-06 | 2.09549344013e-05 |\n",
      "+--------+-------------------+-------------------+\n",
      "[10 rows x 3 columns]\n",
      "\n",
      "PROGRESS: Evaluate model M1\n"
     ]
    },
    {
     "data": {
      "text/html": [
       "<pre>recommendations finished on 1000/47880 queries. users per second: 168.926</pre>"
      ],
      "text/plain": [
       "recommendations finished on 1000/47880 queries. users per second: 168.926"
      ]
     },
     "metadata": {},
     "output_type": "display_data"
    },
    {
     "data": {
      "text/html": [
       "<pre>recommendations finished on 2000/47880 queries. users per second: 171.453</pre>"
      ],
      "text/plain": [
       "recommendations finished on 2000/47880 queries. users per second: 171.453"
      ]
     },
     "metadata": {},
     "output_type": "display_data"
    },
    {
     "data": {
      "text/html": [
       "<pre>recommendations finished on 3000/47880 queries. users per second: 182.693</pre>"
      ],
      "text/plain": [
       "recommendations finished on 3000/47880 queries. users per second: 182.693"
      ]
     },
     "metadata": {},
     "output_type": "display_data"
    },
    {
     "data": {
      "text/html": [
       "<pre>recommendations finished on 4000/47880 queries. users per second: 192.49</pre>"
      ],
      "text/plain": [
       "recommendations finished on 4000/47880 queries. users per second: 192.49"
      ]
     },
     "metadata": {},
     "output_type": "display_data"
    },
    {
     "data": {
      "text/html": [
       "<pre>recommendations finished on 5000/47880 queries. users per second: 197.691</pre>"
      ],
      "text/plain": [
       "recommendations finished on 5000/47880 queries. users per second: 197.691"
      ]
     },
     "metadata": {},
     "output_type": "display_data"
    },
    {
     "data": {
      "text/html": [
       "<pre>recommendations finished on 6000/47880 queries. users per second: 202.161</pre>"
      ],
      "text/plain": [
       "recommendations finished on 6000/47880 queries. users per second: 202.161"
      ]
     },
     "metadata": {},
     "output_type": "display_data"
    },
    {
     "data": {
      "text/html": [
       "<pre>recommendations finished on 7000/47880 queries. users per second: 205.281</pre>"
      ],
      "text/plain": [
       "recommendations finished on 7000/47880 queries. users per second: 205.281"
      ]
     },
     "metadata": {},
     "output_type": "display_data"
    },
    {
     "data": {
      "text/html": [
       "<pre>recommendations finished on 8000/47880 queries. users per second: 207.419</pre>"
      ],
      "text/plain": [
       "recommendations finished on 8000/47880 queries. users per second: 207.419"
      ]
     },
     "metadata": {},
     "output_type": "display_data"
    },
    {
     "data": {
      "text/html": [
       "<pre>recommendations finished on 9000/47880 queries. users per second: 209.144</pre>"
      ],
      "text/plain": [
       "recommendations finished on 9000/47880 queries. users per second: 209.144"
      ]
     },
     "metadata": {},
     "output_type": "display_data"
    },
    {
     "data": {
      "text/html": [
       "<pre>recommendations finished on 10000/47880 queries. users per second: 209.605</pre>"
      ],
      "text/plain": [
       "recommendations finished on 10000/47880 queries. users per second: 209.605"
      ]
     },
     "metadata": {},
     "output_type": "display_data"
    },
    {
     "data": {
      "text/html": [
       "<pre>recommendations finished on 11000/47880 queries. users per second: 208.333</pre>"
      ],
      "text/plain": [
       "recommendations finished on 11000/47880 queries. users per second: 208.333"
      ]
     },
     "metadata": {},
     "output_type": "display_data"
    },
    {
     "data": {
      "text/html": [
       "<pre>recommendations finished on 12000/47880 queries. users per second: 208.403</pre>"
      ],
      "text/plain": [
       "recommendations finished on 12000/47880 queries. users per second: 208.403"
      ]
     },
     "metadata": {},
     "output_type": "display_data"
    },
    {
     "data": {
      "text/html": [
       "<pre>recommendations finished on 13000/47880 queries. users per second: 208.118</pre>"
      ],
      "text/plain": [
       "recommendations finished on 13000/47880 queries. users per second: 208.118"
      ]
     },
     "metadata": {},
     "output_type": "display_data"
    },
    {
     "data": {
      "text/html": [
       "<pre>recommendations finished on 14000/47880 queries. users per second: 206.763</pre>"
      ],
      "text/plain": [
       "recommendations finished on 14000/47880 queries. users per second: 206.763"
      ]
     },
     "metadata": {},
     "output_type": "display_data"
    },
    {
     "data": {
      "text/html": [
       "<pre>recommendations finished on 15000/47880 queries. users per second: 207.29</pre>"
      ],
      "text/plain": [
       "recommendations finished on 15000/47880 queries. users per second: 207.29"
      ]
     },
     "metadata": {},
     "output_type": "display_data"
    },
    {
     "data": {
      "text/html": [
       "<pre>recommendations finished on 16000/47880 queries. users per second: 207.835</pre>"
      ],
      "text/plain": [
       "recommendations finished on 16000/47880 queries. users per second: 207.835"
      ]
     },
     "metadata": {},
     "output_type": "display_data"
    },
    {
     "data": {
      "text/html": [
       "<pre>recommendations finished on 17000/47880 queries. users per second: 208.364</pre>"
      ],
      "text/plain": [
       "recommendations finished on 17000/47880 queries. users per second: 208.364"
      ]
     },
     "metadata": {},
     "output_type": "display_data"
    },
    {
     "data": {
      "text/html": [
       "<pre>recommendations finished on 18000/47880 queries. users per second: 208.216</pre>"
      ],
      "text/plain": [
       "recommendations finished on 18000/47880 queries. users per second: 208.216"
      ]
     },
     "metadata": {},
     "output_type": "display_data"
    },
    {
     "data": {
      "text/html": [
       "<pre>recommendations finished on 19000/47880 queries. users per second: 208.83</pre>"
      ],
      "text/plain": [
       "recommendations finished on 19000/47880 queries. users per second: 208.83"
      ]
     },
     "metadata": {},
     "output_type": "display_data"
    },
    {
     "data": {
      "text/html": [
       "<pre>recommendations finished on 20000/47880 queries. users per second: 208.696</pre>"
      ],
      "text/plain": [
       "recommendations finished on 20000/47880 queries. users per second: 208.696"
      ]
     },
     "metadata": {},
     "output_type": "display_data"
    },
    {
     "data": {
      "text/html": [
       "<pre>recommendations finished on 21000/47880 queries. users per second: 208.558</pre>"
      ],
      "text/plain": [
       "recommendations finished on 21000/47880 queries. users per second: 208.558"
      ]
     },
     "metadata": {},
     "output_type": "display_data"
    },
    {
     "data": {
      "text/html": [
       "<pre>recommendations finished on 22000/47880 queries. users per second: 207.861</pre>"
      ],
      "text/plain": [
       "recommendations finished on 22000/47880 queries. users per second: 207.861"
      ]
     },
     "metadata": {},
     "output_type": "display_data"
    },
    {
     "data": {
      "text/html": [
       "<pre>recommendations finished on 23000/47880 queries. users per second: 207.68</pre>"
      ],
      "text/plain": [
       "recommendations finished on 23000/47880 queries. users per second: 207.68"
      ]
     },
     "metadata": {},
     "output_type": "display_data"
    },
    {
     "data": {
      "text/html": [
       "<pre>recommendations finished on 24000/47880 queries. users per second: 208.381</pre>"
      ],
      "text/plain": [
       "recommendations finished on 24000/47880 queries. users per second: 208.381"
      ]
     },
     "metadata": {},
     "output_type": "display_data"
    },
    {
     "data": {
      "text/html": [
       "<pre>recommendations finished on 25000/47880 queries. users per second: 209.025</pre>"
      ],
      "text/plain": [
       "recommendations finished on 25000/47880 queries. users per second: 209.025"
      ]
     },
     "metadata": {},
     "output_type": "display_data"
    },
    {
     "data": {
      "text/html": [
       "<pre>recommendations finished on 26000/47880 queries. users per second: 209.627</pre>"
      ],
      "text/plain": [
       "recommendations finished on 26000/47880 queries. users per second: 209.627"
      ]
     },
     "metadata": {},
     "output_type": "display_data"
    },
    {
     "data": {
      "text/html": [
       "<pre>recommendations finished on 27000/47880 queries. users per second: 210.14</pre>"
      ],
      "text/plain": [
       "recommendations finished on 27000/47880 queries. users per second: 210.14"
      ]
     },
     "metadata": {},
     "output_type": "display_data"
    },
    {
     "data": {
      "text/html": [
       "<pre>recommendations finished on 28000/47880 queries. users per second: 210.684</pre>"
      ],
      "text/plain": [
       "recommendations finished on 28000/47880 queries. users per second: 210.684"
      ]
     },
     "metadata": {},
     "output_type": "display_data"
    },
    {
     "data": {
      "text/html": [
       "<pre>recommendations finished on 29000/47880 queries. users per second: 211.21</pre>"
      ],
      "text/plain": [
       "recommendations finished on 29000/47880 queries. users per second: 211.21"
      ]
     },
     "metadata": {},
     "output_type": "display_data"
    },
    {
     "data": {
      "text/html": [
       "<pre>recommendations finished on 30000/47880 queries. users per second: 211.735</pre>"
      ],
      "text/plain": [
       "recommendations finished on 30000/47880 queries. users per second: 211.735"
      ]
     },
     "metadata": {},
     "output_type": "display_data"
    },
    {
     "data": {
      "text/html": [
       "<pre>recommendations finished on 31000/47880 queries. users per second: 212.197</pre>"
      ],
      "text/plain": [
       "recommendations finished on 31000/47880 queries. users per second: 212.197"
      ]
     },
     "metadata": {},
     "output_type": "display_data"
    },
    {
     "data": {
      "text/html": [
       "<pre>recommendations finished on 32000/47880 queries. users per second: 212.657</pre>"
      ],
      "text/plain": [
       "recommendations finished on 32000/47880 queries. users per second: 212.657"
      ]
     },
     "metadata": {},
     "output_type": "display_data"
    },
    {
     "data": {
      "text/html": [
       "<pre>recommendations finished on 33000/47880 queries. users per second: 212.939</pre>"
      ],
      "text/plain": [
       "recommendations finished on 33000/47880 queries. users per second: 212.939"
      ]
     },
     "metadata": {},
     "output_type": "display_data"
    },
    {
     "data": {
      "text/html": [
       "<pre>recommendations finished on 34000/47880 queries. users per second: 213.327</pre>"
      ],
      "text/plain": [
       "recommendations finished on 34000/47880 queries. users per second: 213.327"
      ]
     },
     "metadata": {},
     "output_type": "display_data"
    },
    {
     "data": {
      "text/html": [
       "<pre>recommendations finished on 35000/47880 queries. users per second: 213.703</pre>"
      ],
      "text/plain": [
       "recommendations finished on 35000/47880 queries. users per second: 213.703"
      ]
     },
     "metadata": {},
     "output_type": "display_data"
    },
    {
     "data": {
      "text/html": [
       "<pre>recommendations finished on 36000/47880 queries. users per second: 214.008</pre>"
      ],
      "text/plain": [
       "recommendations finished on 36000/47880 queries. users per second: 214.008"
      ]
     },
     "metadata": {},
     "output_type": "display_data"
    },
    {
     "data": {
      "text/html": [
       "<pre>recommendations finished on 37000/47880 queries. users per second: 214.302</pre>"
      ],
      "text/plain": [
       "recommendations finished on 37000/47880 queries. users per second: 214.302"
      ]
     },
     "metadata": {},
     "output_type": "display_data"
    },
    {
     "data": {
      "text/html": [
       "<pre>recommendations finished on 38000/47880 queries. users per second: 214.576</pre>"
      ],
      "text/plain": [
       "recommendations finished on 38000/47880 queries. users per second: 214.576"
      ]
     },
     "metadata": {},
     "output_type": "display_data"
    },
    {
     "data": {
      "text/html": [
       "<pre>recommendations finished on 39000/47880 queries. users per second: 214.812</pre>"
      ],
      "text/plain": [
       "recommendations finished on 39000/47880 queries. users per second: 214.812"
      ]
     },
     "metadata": {},
     "output_type": "display_data"
    },
    {
     "data": {
      "text/html": [
       "<pre>recommendations finished on 40000/47880 queries. users per second: 215.05</pre>"
      ],
      "text/plain": [
       "recommendations finished on 40000/47880 queries. users per second: 215.05"
      ]
     },
     "metadata": {},
     "output_type": "display_data"
    },
    {
     "data": {
      "text/html": [
       "<pre>recommendations finished on 41000/47880 queries. users per second: 215.262</pre>"
      ],
      "text/plain": [
       "recommendations finished on 41000/47880 queries. users per second: 215.262"
      ]
     },
     "metadata": {},
     "output_type": "display_data"
    },
    {
     "data": {
      "text/html": [
       "<pre>recommendations finished on 42000/47880 queries. users per second: 215.451</pre>"
      ],
      "text/plain": [
       "recommendations finished on 42000/47880 queries. users per second: 215.451"
      ]
     },
     "metadata": {},
     "output_type": "display_data"
    },
    {
     "data": {
      "text/html": [
       "<pre>recommendations finished on 43000/47880 queries. users per second: 215.531</pre>"
      ],
      "text/plain": [
       "recommendations finished on 43000/47880 queries. users per second: 215.531"
      ]
     },
     "metadata": {},
     "output_type": "display_data"
    },
    {
     "data": {
      "text/html": [
       "<pre>recommendations finished on 44000/47880 queries. users per second: 215.055</pre>"
      ],
      "text/plain": [
       "recommendations finished on 44000/47880 queries. users per second: 215.055"
      ]
     },
     "metadata": {},
     "output_type": "display_data"
    },
    {
     "data": {
      "text/html": [
       "<pre>recommendations finished on 45000/47880 queries. users per second: 215.262</pre>"
      ],
      "text/plain": [
       "recommendations finished on 45000/47880 queries. users per second: 215.262"
      ]
     },
     "metadata": {},
     "output_type": "display_data"
    },
    {
     "data": {
      "text/html": [
       "<pre>recommendations finished on 46000/47880 queries. users per second: 215.422</pre>"
      ],
      "text/plain": [
       "recommendations finished on 46000/47880 queries. users per second: 215.422"
      ]
     },
     "metadata": {},
     "output_type": "display_data"
    },
    {
     "data": {
      "text/html": [
       "<pre>recommendations finished on 47000/47880 queries. users per second: 215.628</pre>"
      ],
      "text/plain": [
       "recommendations finished on 47000/47880 queries. users per second: 215.628"
      ]
     },
     "metadata": {},
     "output_type": "display_data"
    },
    {
     "name": "stdout",
     "output_type": "stream",
     "text": [
      "\n",
      "Precision and recall summary statistics by cutoff\n",
      "+--------+------------------+------------------+\n",
      "| cutoff |  mean_precision  |   mean_recall    |\n",
      "+--------+------------------+------------------+\n",
      "|   1    | 0.00921052631579 | 0.00271518546502 |\n",
      "|   2    | 0.00749791144528 | 0.00435890716239 |\n",
      "|   3    | 0.00619604566973 | 0.00541474996357 |\n",
      "|   4    | 0.00541457811195 | 0.00644506824528 |\n",
      "|   5    | 0.00475772765246 | 0.00703571716626 |\n",
      "|   6    | 0.00424672793094 | 0.00767339928592 |\n",
      "|   7    | 0.00381907148824 | 0.00795239029457 |\n",
      "|   8    | 0.00350616123642 | 0.00832217537057 |\n",
      "|   9    | 0.00328367214332 | 0.00899210770841 |\n",
      "|   10   | 0.00310359231412 | 0.00965827849019 |\n",
      "+--------+------------------+------------------+\n",
      "[10 rows x 3 columns]\n",
      "\n",
      "Model compare metric: precision_recall\n",
      "Canvas is updated and available in a tab in the default browser.\n"
     ]
    }
   ],
   "source": [
    "model_performance = graphlab.compare(sfTest, [popularity_model, item_sim_model])\n",
    "graphlab.show_comparison(model_performance,[popularity_model, item_sim_model])"
   ]
  },
  {
   "cell_type": "code",
   "execution_count": 68,
   "metadata": {
    "collapsed": false
   },
   "outputs": [
    {
     "name": "stdout",
     "output_type": "stream",
     "text": [
      "Canvas is accessible via web browser at the URL: http://localhost:54099/index.html\n",
      "Opening Canvas in default web browser.\n"
     ]
    }
   ],
   "source": [
    "popularity_recomm.show()"
   ]
  },
  {
   "cell_type": "code",
   "execution_count": 48,
   "metadata": {
    "collapsed": false
   },
   "outputs": [
    {
     "data": {
      "text/html": [
       "<pre>Recsys training: model = factorization_recommender</pre>"
      ],
      "text/plain": [
       "Recsys training: model = factorization_recommender"
      ]
     },
     "metadata": {},
     "output_type": "display_data"
    },
    {
     "data": {
      "text/html": [
       "<pre>Preparing data set.</pre>"
      ],
      "text/plain": [
       "Preparing data set."
      ]
     },
     "metadata": {},
     "output_type": "display_data"
    },
    {
     "data": {
      "text/html": [
       "<pre>    Data has 1092291 observations with 102300 users and 330476 items.</pre>"
      ],
      "text/plain": [
       "    Data has 1092291 observations with 102300 users and 330476 items."
      ]
     },
     "metadata": {},
     "output_type": "display_data"
    },
    {
     "data": {
      "text/html": [
       "<pre>    Data prepared in: 1.43589s</pre>"
      ],
      "text/plain": [
       "    Data prepared in: 1.43589s"
      ]
     },
     "metadata": {},
     "output_type": "display_data"
    },
    {
     "data": {
      "text/html": [
       "<pre>Training factorization_recommender for recommendations.</pre>"
      ],
      "text/plain": [
       "Training factorization_recommender for recommendations."
      ]
     },
     "metadata": {},
     "output_type": "display_data"
    },
    {
     "data": {
      "text/html": [
       "<pre>+--------------------------------+--------------------------------------------------+----------+</pre>"
      ],
      "text/plain": [
       "+--------------------------------+--------------------------------------------------+----------+"
      ]
     },
     "metadata": {},
     "output_type": "display_data"
    },
    {
     "data": {
      "text/html": [
       "<pre>| Parameter                      | Description                                      | Value    |</pre>"
      ],
      "text/plain": [
       "| Parameter                      | Description                                      | Value    |"
      ]
     },
     "metadata": {},
     "output_type": "display_data"
    },
    {
     "data": {
      "text/html": [
       "<pre>+--------------------------------+--------------------------------------------------+----------+</pre>"
      ],
      "text/plain": [
       "+--------------------------------+--------------------------------------------------+----------+"
      ]
     },
     "metadata": {},
     "output_type": "display_data"
    },
    {
     "data": {
      "text/html": [
       "<pre>| num_factors                    | Factor Dimension                                 | 8        |</pre>"
      ],
      "text/plain": [
       "| num_factors                    | Factor Dimension                                 | 8        |"
      ]
     },
     "metadata": {},
     "output_type": "display_data"
    },
    {
     "data": {
      "text/html": [
       "<pre>| regularization                 | L2 Regularization on Factors                     | 1e-006   |</pre>"
      ],
      "text/plain": [
       "| regularization                 | L2 Regularization on Factors                     | 1e-006   |"
      ]
     },
     "metadata": {},
     "output_type": "display_data"
    },
    {
     "data": {
      "text/html": [
       "<pre>| solver                         | Solver used for training                         | sgd      |</pre>"
      ],
      "text/plain": [
       "| solver                         | Solver used for training                         | sgd      |"
      ]
     },
     "metadata": {},
     "output_type": "display_data"
    },
    {
     "data": {
      "text/html": [
       "<pre>| linear_regularization          | L2 Regularization on Linear Coefficients         | 1e-010   |</pre>"
      ],
      "text/plain": [
       "| linear_regularization          | L2 Regularization on Linear Coefficients         | 1e-010   |"
      ]
     },
     "metadata": {},
     "output_type": "display_data"
    },
    {
     "data": {
      "text/html": [
       "<pre>| max_iterations                 | Maximum Number of Iterations                     | 500      |</pre>"
      ],
      "text/plain": [
       "| max_iterations                 | Maximum Number of Iterations                     | 500      |"
      ]
     },
     "metadata": {},
     "output_type": "display_data"
    },
    {
     "data": {
      "text/html": [
       "<pre>+--------------------------------+--------------------------------------------------+----------+</pre>"
      ],
      "text/plain": [
       "+--------------------------------+--------------------------------------------------+----------+"
      ]
     },
     "metadata": {},
     "output_type": "display_data"
    },
    {
     "data": {
      "text/html": [
       "<pre>  Optimizing model using SGD; tuning step size.</pre>"
      ],
      "text/plain": [
       "  Optimizing model using SGD; tuning step size."
      ]
     },
     "metadata": {},
     "output_type": "display_data"
    },
    {
     "data": {
      "text/html": [
       "<pre>  Using 136536 / 1092291 points for tuning the step size.</pre>"
      ],
      "text/plain": [
       "  Using 136536 / 1092291 points for tuning the step size."
      ]
     },
     "metadata": {},
     "output_type": "display_data"
    },
    {
     "data": {
      "text/html": [
       "<pre>+---------+-------------------+------------------------------------------+</pre>"
      ],
      "text/plain": [
       "+---------+-------------------+------------------------------------------+"
      ]
     },
     "metadata": {},
     "output_type": "display_data"
    },
    {
     "data": {
      "text/html": [
       "<pre>| Attempt | Initial Step Size | Estimated Objective Value                |</pre>"
      ],
      "text/plain": [
       "| Attempt | Initial Step Size | Estimated Objective Value                |"
      ]
     },
     "metadata": {},
     "output_type": "display_data"
    },
    {
     "data": {
      "text/html": [
       "<pre>+---------+-------------------+------------------------------------------+</pre>"
      ],
      "text/plain": [
       "+---------+-------------------+------------------------------------------+"
      ]
     },
     "metadata": {},
     "output_type": "display_data"
    },
    {
     "data": {
      "text/html": [
       "<pre>| 0       | 25                | No Decrease (62.7398 >= 14.8356)         |</pre>"
      ],
      "text/plain": [
       "| 0       | 25                | No Decrease (62.7398 >= 14.8356)         |"
      ]
     },
     "metadata": {},
     "output_type": "display_data"
    },
    {
     "data": {
      "text/html": [
       "<pre>| 1       | 6.25              | No Decrease (65.6024 >= 14.8356)         |</pre>"
      ],
      "text/plain": [
       "| 1       | 6.25              | No Decrease (65.6024 >= 14.8356)         |"
      ]
     },
     "metadata": {},
     "output_type": "display_data"
    },
    {
     "data": {
      "text/html": [
       "<pre>| 2       | 1.5625            | No Decrease (58.1537 >= 14.8356)         |</pre>"
      ],
      "text/plain": [
       "| 2       | 1.5625            | No Decrease (58.1537 >= 14.8356)         |"
      ]
     },
     "metadata": {},
     "output_type": "display_data"
    },
    {
     "data": {
      "text/html": [
       "<pre>| 3       | 0.390625          | No Decrease (27.6335 >= 14.8356)         |</pre>"
      ],
      "text/plain": [
       "| 3       | 0.390625          | No Decrease (27.6335 >= 14.8356)         |"
      ]
     },
     "metadata": {},
     "output_type": "display_data"
    },
    {
     "data": {
      "text/html": [
       "<pre>| 4       | 0.0976562         | 0.923907                                 |</pre>"
      ],
      "text/plain": [
       "| 4       | 0.0976562         | 0.923907                                 |"
      ]
     },
     "metadata": {},
     "output_type": "display_data"
    },
    {
     "data": {
      "text/html": [
       "<pre>| 5       | 0.0488281         | 6.3842                                   |</pre>"
      ],
      "text/plain": [
       "| 5       | 0.0488281         | 6.3842                                   |"
      ]
     },
     "metadata": {},
     "output_type": "display_data"
    },
    {
     "data": {
      "text/html": [
       "<pre>+---------+-------------------+------------------------------------------+</pre>"
      ],
      "text/plain": [
       "+---------+-------------------+------------------------------------------+"
      ]
     },
     "metadata": {},
     "output_type": "display_data"
    },
    {
     "data": {
      "text/html": [
       "<pre>| Final   | 0.0976562         | 0.923907                                 |</pre>"
      ],
      "text/plain": [
       "| Final   | 0.0976562         | 0.923907                                 |"
      ]
     },
     "metadata": {},
     "output_type": "display_data"
    },
    {
     "data": {
      "text/html": [
       "<pre>+---------+-------------------+------------------------------------------+</pre>"
      ],
      "text/plain": [
       "+---------+-------------------+------------------------------------------+"
      ]
     },
     "metadata": {},
     "output_type": "display_data"
    },
    {
     "data": {
      "text/html": [
       "<pre>Starting Optimization.</pre>"
      ],
      "text/plain": [
       "Starting Optimization."
      ]
     },
     "metadata": {},
     "output_type": "display_data"
    },
    {
     "data": {
      "text/html": [
       "<pre>+---------+--------------+-------------------+-----------------------+-------------+</pre>"
      ],
      "text/plain": [
       "+---------+--------------+-------------------+-----------------------+-------------+"
      ]
     },
     "metadata": {},
     "output_type": "display_data"
    },
    {
     "data": {
      "text/html": [
       "<pre>| Iter.   | Elapsed Time | Approx. Objective | Approx. Training RMSE | Step Size   |</pre>"
      ],
      "text/plain": [
       "| Iter.   | Elapsed Time | Approx. Objective | Approx. Training RMSE | Step Size   |"
      ]
     },
     "metadata": {},
     "output_type": "display_data"
    },
    {
     "data": {
      "text/html": [
       "<pre>+---------+--------------+-------------------+-----------------------+-------------+</pre>"
      ],
      "text/plain": [
       "+---------+--------------+-------------------+-----------------------+-------------+"
      ]
     },
     "metadata": {},
     "output_type": "display_data"
    },
    {
     "data": {
      "text/html": [
       "<pre>| Initial | 5.013ms      | 14.8563           | 3.85439               |             |</pre>"
      ],
      "text/plain": [
       "| Initial | 5.013ms      | 14.8563           | 3.85439               |             |"
      ]
     },
     "metadata": {},
     "output_type": "display_data"
    },
    {
     "data": {
      "text/html": [
       "<pre>+---------+--------------+-------------------+-----------------------+-------------+</pre>"
      ],
      "text/plain": [
       "+---------+--------------+-------------------+-----------------------+-------------+"
      ]
     },
     "metadata": {},
     "output_type": "display_data"
    },
    {
     "data": {
      "text/html": [
       "<pre>| 1       | 269.323ms    | 25.2161           | 4.8682                | 0.0976562   |</pre>"
      ],
      "text/plain": [
       "| 1       | 269.323ms    | 25.2161           | 4.8682                | 0.0976562   |"
      ]
     },
     "metadata": {},
     "output_type": "display_data"
    },
    {
     "data": {
      "text/html": [
       "<pre>| 2       | 561.028ms    | 19.2428           | 4.21399               | 0.0580668   |</pre>"
      ],
      "text/plain": [
       "| 2       | 561.028ms    | 19.2428           | 4.21399               | 0.0580668   |"
      ]
     },
     "metadata": {},
     "output_type": "display_data"
    },
    {
     "data": {
      "text/html": [
       "<pre>| 3       | 778.604ms    | 12.8849           | 3.40055               | 0.042841    |</pre>"
      ],
      "text/plain": [
       "| 3       | 778.604ms    | 12.8849           | 3.40055               | 0.042841    |"
      ]
     },
     "metadata": {},
     "output_type": "display_data"
    },
    {
     "data": {
      "text/html": [
       "<pre>| 4       | 1.03s        | 8.87575           | 2.76633               | 0.0290334   |</pre>"
      ],
      "text/plain": [
       "| 4       | 1.03s        | 8.87575           | 2.76633               | 0.0290334   |"
      ]
     },
     "metadata": {},
     "output_type": "display_data"
    },
    {
     "data": {
      "text/html": [
       "<pre>| 5       | 1.27s        | 6.98182           | 2.40467               | 0.0245592   |</pre>"
      ],
      "text/plain": [
       "| 5       | 1.27s        | 6.98182           | 2.40467               | 0.0245592   |"
      ]
     },
     "metadata": {},
     "output_type": "display_data"
    },
    {
     "data": {
      "text/html": [
       "<pre>| 6       | 1.54s        | 6.01277           | 2.19747               | 0.0214205   |</pre>"
      ],
      "text/plain": [
       "| 6       | 1.54s        | 6.01277           | 2.19747               | 0.0214205   |"
      ]
     },
     "metadata": {},
     "output_type": "display_data"
    },
    {
     "data": {
      "text/html": [
       "<pre>| 10      | 2.33s        | 4.40128           | 1.80303               | 0.014603    |</pre>"
      ],
      "text/plain": [
       "| 10      | 2.33s        | 4.40128           | 1.80303               | 0.014603    |"
      ]
     },
     "metadata": {},
     "output_type": "display_data"
    },
    {
     "data": {
      "text/html": [
       "<pre>| 11      | 2.66s        | 4.22173           | 1.75394               | 0.0135956   |</pre>"
      ],
      "text/plain": [
       "| 11      | 2.66s        | 4.22173           | 1.75394               | 0.0135956   |"
      ]
     },
     "metadata": {},
     "output_type": "display_data"
    },
    {
     "data": {
      "text/html": [
       "<pre>| 15      | 3.51s        | 3.75562           | 1.62098               | 0.0107739   |</pre>"
      ],
      "text/plain": [
       "| 15      | 3.51s        | 3.75562           | 1.62098               | 0.0107739   |"
      ]
     },
     "metadata": {},
     "output_type": "display_data"
    },
    {
     "data": {
      "text/html": [
       "<pre>| 20      | 4.42s        | 3.45361           | 1.53091               | 0.008683    |</pre>"
      ],
      "text/plain": [
       "| 20      | 4.42s        | 3.45361           | 1.53091               | 0.008683    |"
      ]
     },
     "metadata": {},
     "output_type": "display_data"
    },
    {
     "data": {
      "text/html": [
       "<pre>| 25      | 5.35s        | 3.27705           | 1.47666               | 0.00734493  |</pre>"
      ],
      "text/plain": [
       "| 25      | 5.35s        | 3.27705           | 1.47666               | 0.00734493  |"
      ]
     },
     "metadata": {},
     "output_type": "display_data"
    },
    {
     "data": {
      "text/html": [
       "<pre>| 30      | 6.31s        | 3.13993           | 1.43381               | 0.00640622  |</pre>"
      ],
      "text/plain": [
       "| 30      | 6.31s        | 3.13993           | 1.43381               | 0.00640622  |"
      ]
     },
     "metadata": {},
     "output_type": "display_data"
    },
    {
     "data": {
      "text/html": [
       "<pre>| 35      | 7.30s        | 3.04788           | 1.40488               | 0.00570679  |</pre>"
      ],
      "text/plain": [
       "| 35      | 7.30s        | 3.04788           | 1.40488               | 0.00570679  |"
      ]
     },
     "metadata": {},
     "output_type": "display_data"
    },
    {
     "data": {
      "text/html": [
       "<pre>| 40      | 8.29s        | 2.97842           | 1.38319               | 0.00516295  |</pre>"
      ],
      "text/plain": [
       "| 40      | 8.29s        | 2.97842           | 1.38319               | 0.00516295  |"
      ]
     },
     "metadata": {},
     "output_type": "display_data"
    },
    {
     "data": {
      "text/html": [
       "<pre>| 45      | 9.22s        | 2.92098           | 1.36532               | 0.00472643  |</pre>"
      ],
      "text/plain": [
       "| 45      | 9.22s        | 2.92098           | 1.36532               | 0.00472643  |"
      ]
     },
     "metadata": {},
     "output_type": "display_data"
    },
    {
     "data": {
      "text/html": [
       "<pre>| 50      | 10.14s       | 2.87083           | 1.34961               | 0.00436732  |</pre>"
      ],
      "text/plain": [
       "| 50      | 10.14s       | 2.87083           | 1.34961               | 0.00436732  |"
      ]
     },
     "metadata": {},
     "output_type": "display_data"
    },
    {
     "data": {
      "text/html": [
       "<pre>| 51      | 10.37s       | 2.8639            | 1.34754               | 0.00430294  |</pre>"
      ],
      "text/plain": [
       "| 51      | 10.37s       | 2.8639            | 1.34754               | 0.00430294  |"
      ]
     },
     "metadata": {},
     "output_type": "display_data"
    },
    {
     "data": {
      "text/html": [
       "<pre>| 55      | 11.30s       | 2.82912           | 1.3365                | 0.00406603  |</pre>"
      ],
      "text/plain": [
       "| 55      | 11.30s       | 2.82912           | 1.3365                | 0.00406603  |"
      ]
     },
     "metadata": {},
     "output_type": "display_data"
    },
    {
     "data": {
      "text/html": [
       "<pre>| 60      | 12.42s       | 2.79553           | 1.32622               | 0.00380916  |</pre>"
      ],
      "text/plain": [
       "| 60      | 12.42s       | 2.79553           | 1.32622               | 0.00380916  |"
      ]
     },
     "metadata": {},
     "output_type": "display_data"
    },
    {
     "data": {
      "text/html": [
       "<pre>| 65      | 13.43s       | 2.76362           | 1.31636               | 0.00358722  |</pre>"
      ],
      "text/plain": [
       "| 65      | 13.43s       | 2.76362           | 1.31636               | 0.00358722  |"
      ]
     },
     "metadata": {},
     "output_type": "display_data"
    },
    {
     "data": {
      "text/html": [
       "<pre>| 70      | 14.67s       | 2.73734           | 1.3083                | 0.00339327  |</pre>"
      ],
      "text/plain": [
       "| 70      | 14.67s       | 2.73734           | 1.3083                | 0.00339327  |"
      ]
     },
     "metadata": {},
     "output_type": "display_data"
    },
    {
     "data": {
      "text/html": [
       "<pre>| 75      | 15.66s       | 2.71249           | 1.3007                | 0.00322216  |</pre>"
      ],
      "text/plain": [
       "| 75      | 15.66s       | 2.71249           | 1.3007                | 0.00322216  |"
      ]
     },
     "metadata": {},
     "output_type": "display_data"
    },
    {
     "data": {
      "text/html": [
       "<pre>| 80      | 16.57s       | 2.69051           | 1.29397               | 0.00306991  |</pre>"
      ],
      "text/plain": [
       "| 80      | 16.57s       | 2.69051           | 1.29397               | 0.00306991  |"
      ]
     },
     "metadata": {},
     "output_type": "display_data"
    },
    {
     "data": {
      "text/html": [
       "<pre>| 85      | 17.50s       | 2.67032           | 1.28778               | 0.00293345  |</pre>"
      ],
      "text/plain": [
       "| 85      | 17.50s       | 2.67032           | 1.28778               | 0.00293345  |"
      ]
     },
     "metadata": {},
     "output_type": "display_data"
    },
    {
     "data": {
      "text/html": [
       "<pre>| 90      | 18.49s       | 2.65301           | 1.28264               | 0.00281035  |</pre>"
      ],
      "text/plain": [
       "| 90      | 18.49s       | 2.65301           | 1.28264               | 0.00281035  |"
      ]
     },
     "metadata": {},
     "output_type": "display_data"
    },
    {
     "data": {
      "text/html": [
       "<pre>| 95      | 19.42s       | 2.63589           | 1.2775                | 0.00269867  |</pre>"
      ],
      "text/plain": [
       "| 95      | 19.42s       | 2.63589           | 1.2775                | 0.00269867  |"
      ]
     },
     "metadata": {},
     "output_type": "display_data"
    },
    {
     "data": {
      "text/html": [
       "<pre>| 100     | 20.35s       | 2.61984           | 1.27261               | 0.00259682  |</pre>"
      ],
      "text/plain": [
       "| 100     | 20.35s       | 2.61984           | 1.27261               | 0.00259682  |"
      ]
     },
     "metadata": {},
     "output_type": "display_data"
    },
    {
     "data": {
      "text/html": [
       "<pre>| 101     | 20.57s       | 2.61689           | 1.2717                | 0.00257752  |</pre>"
      ],
      "text/plain": [
       "| 101     | 20.57s       | 2.61689           | 1.2717                | 0.00257752  |"
      ]
     },
     "metadata": {},
     "output_type": "display_data"
    },
    {
     "data": {
      "text/html": [
       "<pre>| 105     | 21.36s       | 2.60532           | 1.26826               | 0.00250352  |</pre>"
      ],
      "text/plain": [
       "| 105     | 21.36s       | 2.60532           | 1.26826               | 0.00250352  |"
      ]
     },
     "metadata": {},
     "output_type": "display_data"
    },
    {
     "data": {
      "text/html": [
       "<pre>| 110     | 22.34s       | 2.59196           | 1.26428               | 0.00241768  |</pre>"
      ],
      "text/plain": [
       "| 110     | 22.34s       | 2.59196           | 1.26428               | 0.00241768  |"
      ]
     },
     "metadata": {},
     "output_type": "display_data"
    },
    {
     "data": {
      "text/html": [
       "<pre>| 115     | 23.27s       | 2.58595           | 1.26311               | 0.0023384   |</pre>"
      ],
      "text/plain": [
       "| 115     | 23.27s       | 2.58595           | 1.26311               | 0.0023384   |"
      ]
     },
     "metadata": {},
     "output_type": "display_data"
    },
    {
     "data": {
      "text/html": [
       "<pre>| 120     | 24.20s       | 2.52658           | 1.24017               | 0.00134674  |</pre>"
      ],
      "text/plain": [
       "| 120     | 24.20s       | 2.52658           | 1.24017               | 0.00134674  |"
      ]
     },
     "metadata": {},
     "output_type": "display_data"
    },
    {
     "data": {
      "text/html": [
       "<pre>| 125     | 25.12s       | 2.49454           | 1.22769               | 0.000776632 |</pre>"
      ],
      "text/plain": [
       "| 125     | 25.12s       | 2.49454           | 1.22769               | 0.000776632 |"
      ]
     },
     "metadata": {},
     "output_type": "display_data"
    },
    {
     "data": {
      "text/html": [
       "<pre>| 130     | 26.07s       | 2.47645           | 1.2206                | 0.000448402 |</pre>"
      ],
      "text/plain": [
       "| 130     | 26.07s       | 2.47645           | 1.2206                | 0.000448402 |"
      ]
     },
     "metadata": {},
     "output_type": "display_data"
    },
    {
     "data": {
      "text/html": [
       "<pre>| 135     | 27.04s       | 2.47313           | 1.21948               | 0.000435888 |</pre>"
      ],
      "text/plain": [
       "| 135     | 27.04s       | 2.47313           | 1.21948               | 0.000435888 |"
      ]
     },
     "metadata": {},
     "output_type": "display_data"
    },
    {
     "data": {
      "text/html": [
       "<pre>| 140     | 28.00s       | 2.46361           | 1.21575               | 0.000252207 |</pre>"
      ],
      "text/plain": [
       "| 140     | 28.00s       | 2.46361           | 1.21575               | 0.000252207 |"
      ]
     },
     "metadata": {},
     "output_type": "display_data"
    },
    {
     "data": {
      "text/html": [
       "<pre>| 145     | 29.12s       | 2.4569            | 1.2131                | 0.000146068 |</pre>"
      ],
      "text/plain": [
       "| 145     | 29.12s       | 2.4569            | 1.2131                | 0.000146068 |"
      ]
     },
     "metadata": {},
     "output_type": "display_data"
    },
    {
     "data": {
      "text/html": [
       "<pre>| 150     | 30.12s       | 2.45369           | 1.21184               |             |</pre>"
      ],
      "text/plain": [
       "| 150     | 30.12s       | 2.45369           | 1.21184               |             |"
      ]
     },
     "metadata": {},
     "output_type": "display_data"
    },
    {
     "data": {
      "text/html": [
       "<pre>| 155     | 31.19s       | 2.45185           | 1.21112               |             |</pre>"
      ],
      "text/plain": [
       "| 155     | 31.19s       | 2.45185           | 1.21112               |             |"
      ]
     },
     "metadata": {},
     "output_type": "display_data"
    },
    {
     "data": {
      "text/html": [
       "<pre>| 160     | 32.11s       | 2.45042           | 1.21056               | 3.3918e-005 |</pre>"
      ],
      "text/plain": [
       "| 160     | 32.11s       | 2.45042           | 1.21056               | 3.3918e-005 |"
      ]
     },
     "metadata": {},
     "output_type": "display_data"
    },
    {
     "data": {
      "text/html": [
       "<pre>| 165     | 33.02s       | 2.45              | 1.2104                |             |</pre>"
      ],
      "text/plain": [
       "| 165     | 33.02s       | 2.45              | 1.2104                |             |"
      ]
     },
     "metadata": {},
     "output_type": "display_data"
    },
    {
     "data": {
      "text/html": [
       "<pre>| 170     | 33.95s       | 2.44983           | 1.21035               |             |</pre>"
      ],
      "text/plain": [
       "| 170     | 33.95s       | 2.44983           | 1.21035               |             |"
      ]
     },
     "metadata": {},
     "output_type": "display_data"
    },
    {
     "data": {
      "text/html": [
       "<pre>| 175     | 34.94s       | 2.44971           | 1.21031               |             |</pre>"
      ],
      "text/plain": [
       "| 175     | 34.94s       | 2.44971           | 1.21031               |             |"
      ]
     },
     "metadata": {},
     "output_type": "display_data"
    },
    {
     "data": {
      "text/html": [
       "<pre>| 180     | 35.86s       | 2.44954           | 1.21025               |             |</pre>"
      ],
      "text/plain": [
       "| 180     | 35.86s       | 2.44954           | 1.21025               |             |"
      ]
     },
     "metadata": {},
     "output_type": "display_data"
    },
    {
     "data": {
      "text/html": [
       "<pre>| 185     | 36.86s       | 2.44943           | 1.21022               | 2.5579e-005 |</pre>"
      ],
      "text/plain": [
       "| 185     | 36.86s       | 2.44943           | 1.21022               | 2.5579e-005 |"
      ]
     },
     "metadata": {},
     "output_type": "display_data"
    },
    {
     "data": {
      "text/html": [
       "<pre>| 190     | 37.82s       | 2.44927           | 1.21017               |             |</pre>"
      ],
      "text/plain": [
       "| 190     | 37.82s       | 2.44927           | 1.21017               |             |"
      ]
     },
     "metadata": {},
     "output_type": "display_data"
    },
    {
     "data": {
      "text/html": [
       "<pre>| 195     | 38.80s       | 2.44914           | 1.21013               |             |</pre>"
      ],
      "text/plain": [
       "| 195     | 38.80s       | 2.44914           | 1.21013               |             |"
      ]
     },
     "metadata": {},
     "output_type": "display_data"
    },
    {
     "data": {
      "text/html": [
       "<pre>| 200     | 39.72s       | 2.44901           | 1.21009               |             |</pre>"
      ],
      "text/plain": [
       "| 200     | 39.72s       | 2.44901           | 1.21009               |             |"
      ]
     },
     "metadata": {},
     "output_type": "display_data"
    },
    {
     "data": {
      "text/html": [
       "<pre>| 205     | 40.66s       | 2.44889           | 1.21006               |             |</pre>"
      ],
      "text/plain": [
       "| 205     | 40.66s       | 2.44889           | 1.21006               |             |"
      ]
     },
     "metadata": {},
     "output_type": "display_data"
    },
    {
     "data": {
      "text/html": [
       "<pre>| 210     | 41.55s       | 2.44858           | 1.20994               |             |</pre>"
      ],
      "text/plain": [
       "| 210     | 41.55s       | 2.44858           | 1.20994               |             |"
      ]
     },
     "metadata": {},
     "output_type": "display_data"
    },
    {
     "data": {
      "text/html": [
       "<pre>| 215     | 42.59s       | 2.44818           | 1.20978               |             |</pre>"
      ],
      "text/plain": [
       "| 215     | 42.59s       | 2.44818           | 1.20978               |             |"
      ]
     },
     "metadata": {},
     "output_type": "display_data"
    },
    {
     "data": {
      "text/html": [
       "<pre>| 220     | 43.51s       | 2.44812           | 1.20977               |             |</pre>"
      ],
      "text/plain": [
       "| 220     | 43.51s       | 2.44812           | 1.20977               |             |"
      ]
     },
     "metadata": {},
     "output_type": "display_data"
    },
    {
     "data": {
      "text/html": [
       "<pre>| 225     | 44.41s       | 2.44804           | 1.20974               |             |</pre>"
      ],
      "text/plain": [
       "| 225     | 44.41s       | 2.44804           | 1.20974               |             |"
      ]
     },
     "metadata": {},
     "output_type": "display_data"
    },
    {
     "data": {
      "text/html": [
       "<pre>| 230     | 45.42s       | 2.44798           | 1.20972               | 1.2918e-005 |</pre>"
      ],
      "text/plain": [
       "| 230     | 45.42s       | 2.44798           | 1.20972               | 1.2918e-005 |"
      ]
     },
     "metadata": {},
     "output_type": "display_data"
    },
    {
     "data": {
      "text/html": [
       "<pre>| 235     | 46.36s       | 2.44791           | 1.2097                |             |</pre>"
      ],
      "text/plain": [
       "| 235     | 46.36s       | 2.44791           | 1.2097                |             |"
      ]
     },
     "metadata": {},
     "output_type": "display_data"
    },
    {
     "data": {
      "text/html": [
       "<pre>| 240     | 47.26s       | 2.44785           | 1.20968               |             |</pre>"
      ],
      "text/plain": [
       "| 240     | 47.26s       | 2.44785           | 1.20968               |             |"
      ]
     },
     "metadata": {},
     "output_type": "display_data"
    },
    {
     "data": {
      "text/html": [
       "<pre>| 245     | 48.33s       | 2.44779           | 1.20966               |             |</pre>"
      ],
      "text/plain": [
       "| 245     | 48.33s       | 2.44779           | 1.20966               |             |"
      ]
     },
     "metadata": {},
     "output_type": "display_data"
    },
    {
     "data": {
      "text/html": [
       "<pre>| 250     | 49.28s       | 2.44773           | 1.20965               |             |</pre>"
      ],
      "text/plain": [
       "| 250     | 49.28s       | 2.44773           | 1.20965               |             |"
      ]
     },
     "metadata": {},
     "output_type": "display_data"
    },
    {
     "data": {
      "text/html": [
       "<pre>| 255     | 50.25s       | 2.44767           | 1.20963               | 1.1956e-005 |</pre>"
      ],
      "text/plain": [
       "| 255     | 50.25s       | 2.44767           | 1.20963               | 1.1956e-005 |"
      ]
     },
     "metadata": {},
     "output_type": "display_data"
    },
    {
     "data": {
      "text/html": [
       "<pre>| 260     | 51.20s       | 2.44761           | 1.20961               |             |</pre>"
      ],
      "text/plain": [
       "| 260     | 51.20s       | 2.44761           | 1.20961               |             |"
      ]
     },
     "metadata": {},
     "output_type": "display_data"
    },
    {
     "data": {
      "text/html": [
       "<pre>| 265     | 52.20s       | 2.44755           | 1.20959               | 1.1616e-005 |</pre>"
      ],
      "text/plain": [
       "| 265     | 52.20s       | 2.44755           | 1.20959               | 1.1616e-005 |"
      ]
     },
     "metadata": {},
     "output_type": "display_data"
    },
    {
     "data": {
      "text/html": [
       "<pre>| 270     | 53.13s       | 2.44749           | 1.20958               |             |</pre>"
      ],
      "text/plain": [
       "| 270     | 53.13s       | 2.44749           | 1.20958               |             |"
      ]
     },
     "metadata": {},
     "output_type": "display_data"
    },
    {
     "data": {
      "text/html": [
       "<pre>| 275     | 54.13s       | 2.44744           | 1.20956               |             |</pre>"
      ],
      "text/plain": [
       "| 275     | 54.13s       | 2.44744           | 1.20956               |             |"
      ]
     },
     "metadata": {},
     "output_type": "display_data"
    },
    {
     "data": {
      "text/html": [
       "<pre>| 280     | 55.09s       | 2.44738           | 1.20954               |             |</pre>"
      ],
      "text/plain": [
       "| 280     | 55.09s       | 2.44738           | 1.20954               |             |"
      ]
     },
     "metadata": {},
     "output_type": "display_data"
    },
    {
     "data": {
      "text/html": [
       "<pre>| 285     | 56.05s       | 2.44732           | 1.20953               |             |</pre>"
      ],
      "text/plain": [
       "| 285     | 56.05s       | 2.44732           | 1.20953               |             |"
      ]
     },
     "metadata": {},
     "output_type": "display_data"
    },
    {
     "data": {
      "text/html": [
       "<pre>| 290     | 57.01s       | 2.44727           | 1.20951               |             |</pre>"
      ],
      "text/plain": [
       "| 290     | 57.01s       | 2.44727           | 1.20951               |             |"
      ]
     },
     "metadata": {},
     "output_type": "display_data"
    },
    {
     "data": {
      "text/html": [
       "<pre>| 295     | 57.94s       | 2.44722           | 1.2095                |             |</pre>"
      ],
      "text/plain": [
       "| 295     | 57.94s       | 2.44722           | 1.2095                |             |"
      ]
     },
     "metadata": {},
     "output_type": "display_data"
    },
    {
     "data": {
      "text/html": [
       "<pre>| 300     | 58.82s       | 2.44716           | 1.20948               | 1.0584e-005 |</pre>"
      ],
      "text/plain": [
       "| 300     | 58.82s       | 2.44716           | 1.20948               | 1.0584e-005 |"
      ]
     },
     "metadata": {},
     "output_type": "display_data"
    },
    {
     "data": {
      "text/html": [
       "<pre>| 305     | 59.83s       | 2.44711           | 1.20947               |             |</pre>"
      ],
      "text/plain": [
       "| 305     | 59.83s       | 2.44711           | 1.20947               |             |"
      ]
     },
     "metadata": {},
     "output_type": "display_data"
    },
    {
     "data": {
      "text/html": [
       "<pre>| 310     | 1m 0s        | 2.44706           | 1.20945               |             |</pre>"
      ],
      "text/plain": [
       "| 310     | 1m 0s        | 2.44706           | 1.20945               |             |"
      ]
     },
     "metadata": {},
     "output_type": "display_data"
    },
    {
     "data": {
      "text/html": [
       "<pre>| 315     | 1m 1s        | 2.44701           | 1.20944               |             |</pre>"
      ],
      "text/plain": [
       "| 315     | 1m 1s        | 2.44701           | 1.20944               |             |"
      ]
     },
     "metadata": {},
     "output_type": "display_data"
    },
    {
     "data": {
      "text/html": [
       "<pre>| 320     | 1m 2s        | 2.44697           | 1.20942               |             |</pre>"
      ],
      "text/plain": [
       "| 320     | 1m 2s        | 2.44697           | 1.20942               |             |"
      ]
     },
     "metadata": {},
     "output_type": "display_data"
    },
    {
     "data": {
      "text/html": [
       "<pre>+---------+--------------+-------------------+-----------------------+-------------+</pre>"
      ],
      "text/plain": [
       "+---------+--------------+-------------------+-----------------------+-------------+"
      ]
     },
     "metadata": {},
     "output_type": "display_data"
    },
    {
     "data": {
      "text/html": [
       "<pre>Optimization Complete: Convergence on objective within bounds.</pre>"
      ],
      "text/plain": [
       "Optimization Complete: Convergence on objective within bounds."
      ]
     },
     "metadata": {},
     "output_type": "display_data"
    },
    {
     "data": {
      "text/html": [
       "<pre>Computing final objective value and training RMSE.</pre>"
      ],
      "text/plain": [
       "Computing final objective value and training RMSE."
      ]
     },
     "metadata": {},
     "output_type": "display_data"
    },
    {
     "data": {
      "text/html": [
       "<pre>       Final objective value: 2.44638</pre>"
      ],
      "text/plain": [
       "       Final objective value: 2.44638"
      ]
     },
     "metadata": {},
     "output_type": "display_data"
    },
    {
     "data": {
      "text/html": [
       "<pre>       Final training RMSE: 1.20918</pre>"
      ],
      "text/plain": [
       "       Final training RMSE: 1.20918"
      ]
     },
     "metadata": {},
     "output_type": "display_data"
    }
   ],
   "source": [
    "matrix_factor_model = graphlab.factorization_recommender.create(sf, user_id='User-ID', item_id='ISBN', target='Book-Rating', \n",
    "                                                                regularization=1e-6, max_iterations=500)"
   ]
  },
  {
   "cell_type": "code",
   "execution_count": 49,
   "metadata": {
    "collapsed": false
   },
   "outputs": [
    {
     "name": "stdout",
     "output_type": "stream",
     "text": [
      "+---------+------------+---------------+------+\n",
      "| User-ID |    ISBN    |     score     | rank |\n",
      "+---------+------------+---------------+------+\n",
      "|  69188  | 0671734563 | 31.7740267971 |  1   |\n",
      "|  69188  | 0394800389 | 31.5581492641 |  2   |\n",
      "|  69188  | 0553057758 | 28.8189067104 |  3   |\n",
      "|  69188  | 0152047379 | 28.4868544796 |  4   |\n",
      "|  69188  | 0380799502 |  28.193433688 |  5   |\n",
      "+---------+------------+---------------+------+\n",
      "[5 rows x 4 columns]\n",
      "\n"
     ]
    }
   ],
   "source": [
    "#Make Recommendations:\n",
    "matrix_factor_recomm = matrix_factor_model.recommend(users=[69188],k=5)\n",
    "matrix_factor_recomm.print_rows(num_rows=5)"
   ]
  },
  {
   "cell_type": "code",
   "execution_count": 50,
   "metadata": {
    "collapsed": false
   },
   "outputs": [
    {
     "data": {
      "text/plain": [
       "{'rmse_by_item': Columns:\n",
       " \tISBN\tstr\n",
       " \tcount\tint\n",
       " \trmse\tfloat\n",
       " \n",
       " Rows: 40456\n",
       " \n",
       " Data:\n",
       " +------------+-------+----------------+\n",
       " |    ISBN    | count |      rmse      |\n",
       " +------------+-------+----------------+\n",
       " | 0263737330 |   1   | 0.133969233303 |\n",
       " | 037312189X |   1   | 0.256416325525 |\n",
       " | 0345274563 |   1   | 4.99950559524  |\n",
       " | 0333387287 |   1   | 0.834043906002 |\n",
       " | 050552239X |   1   | 0.700068726272 |\n",
       " | 0743410602 |   1   | 0.906036569805 |\n",
       " | 0590212877 |   1   | 1.04643426922  |\n",
       " | 043957742X |   1   | 0.384221271544 |\n",
       " | 0743417844 |   1   | 4.03500670853  |\n",
       " | 0312929994 |   1   | 7.76407335785  |\n",
       " +------------+-------+----------------+\n",
       " [40456 rows x 3 columns]\n",
       " Note: Only the head of the SFrame is printed.\n",
       " You can use print_rows(num_rows=m, num_columns=n) to print more rows and columns.,\n",
       " 'rmse_by_user': Columns:\n",
       " \tUser-ID\tint\n",
       " \tcount\tint\n",
       " \trmse\tfloat\n",
       " \n",
       " Rows: 17780\n",
       " \n",
       " Data:\n",
       " +---------+-------+----------------+\n",
       " | User-ID | count |      rmse      |\n",
       " +---------+-------+----------------+\n",
       " |  237313 |   1   | 2.23872773436  |\n",
       " |  43116  |   1   | 0.585648565621 |\n",
       " |  115341 |   1   |  6.0998668513  |\n",
       " |  69188  |   1   | 1.13800565985  |\n",
       " |  118012 |   1   | 3.63738138887  |\n",
       " |  66750  |   1   | 2.53537179616  |\n",
       " |  97741  |   1   | 2.83883710119  |\n",
       " |  230692 |   1   |  1.108466939   |\n",
       " |  135535 |   1   | 9.15111968753  |\n",
       " |  36992  |   2   | 12.6012445133  |\n",
       " +---------+-------+----------------+\n",
       " [17780 rows x 3 columns]\n",
       " Note: Only the head of the SFrame is printed.\n",
       " You can use print_rows(num_rows=m, num_columns=n) to print more rows and columns.,\n",
       " 'rmse_overall': 4.254394701094985}"
      ]
     },
     "execution_count": 50,
     "metadata": {},
     "output_type": "execute_result"
    }
   ],
   "source": [
    "matrix_factor_model.evaluate_rmse(sfTest, target='Book-Rating')"
   ]
  },
  {
   "cell_type": "code",
   "execution_count": 54,
   "metadata": {
    "collapsed": false
   },
   "outputs": [
    {
     "data": {
      "text/html": [
       "<pre>Recsys training: model = ranking_factorization_recommender</pre>"
      ],
      "text/plain": [
       "Recsys training: model = ranking_factorization_recommender"
      ]
     },
     "metadata": {},
     "output_type": "display_data"
    },
    {
     "data": {
      "text/html": [
       "<pre>Preparing data set.</pre>"
      ],
      "text/plain": [
       "Preparing data set."
      ]
     },
     "metadata": {},
     "output_type": "display_data"
    },
    {
     "data": {
      "text/html": [
       "<pre>    Data has 1092291 observations with 102300 users and 330476 items.</pre>"
      ],
      "text/plain": [
       "    Data has 1092291 observations with 102300 users and 330476 items."
      ]
     },
     "metadata": {},
     "output_type": "display_data"
    },
    {
     "data": {
      "text/html": [
       "<pre>    Data prepared in: 1.45786s</pre>"
      ],
      "text/plain": [
       "    Data prepared in: 1.45786s"
      ]
     },
     "metadata": {},
     "output_type": "display_data"
    },
    {
     "data": {
      "text/html": [
       "<pre>Training ranking_factorization_recommender for recommendations.</pre>"
      ],
      "text/plain": [
       "Training ranking_factorization_recommender for recommendations."
      ]
     },
     "metadata": {},
     "output_type": "display_data"
    },
    {
     "data": {
      "text/html": [
       "<pre>+--------------------------------+--------------------------------------------------+----------+</pre>"
      ],
      "text/plain": [
       "+--------------------------------+--------------------------------------------------+----------+"
      ]
     },
     "metadata": {},
     "output_type": "display_data"
    },
    {
     "data": {
      "text/html": [
       "<pre>| Parameter                      | Description                                      | Value    |</pre>"
      ],
      "text/plain": [
       "| Parameter                      | Description                                      | Value    |"
      ]
     },
     "metadata": {},
     "output_type": "display_data"
    },
    {
     "data": {
      "text/html": [
       "<pre>+--------------------------------+--------------------------------------------------+----------+</pre>"
      ],
      "text/plain": [
       "+--------------------------------+--------------------------------------------------+----------+"
      ]
     },
     "metadata": {},
     "output_type": "display_data"
    },
    {
     "data": {
      "text/html": [
       "<pre>| num_factors                    | Factor Dimension                                 | 32       |</pre>"
      ],
      "text/plain": [
       "| num_factors                    | Factor Dimension                                 | 32       |"
      ]
     },
     "metadata": {},
     "output_type": "display_data"
    },
    {
     "data": {
      "text/html": [
       "<pre>| regularization                 | L2 Regularization on Factors                     | 1e-009   |</pre>"
      ],
      "text/plain": [
       "| regularization                 | L2 Regularization on Factors                     | 1e-009   |"
      ]
     },
     "metadata": {},
     "output_type": "display_data"
    },
    {
     "data": {
      "text/html": [
       "<pre>| solver                         | Solver used for training                         | sgd      |</pre>"
      ],
      "text/plain": [
       "| solver                         | Solver used for training                         | sgd      |"
      ]
     },
     "metadata": {},
     "output_type": "display_data"
    },
    {
     "data": {
      "text/html": [
       "<pre>| linear_regularization          | L2 Regularization on Linear Coefficients         | 1e-009   |</pre>"
      ],
      "text/plain": [
       "| linear_regularization          | L2 Regularization on Linear Coefficients         | 1e-009   |"
      ]
     },
     "metadata": {},
     "output_type": "display_data"
    },
    {
     "data": {
      "text/html": [
       "<pre>| ranking_regularization         | Rank-based Regularization Weight                 | 0.25     |</pre>"
      ],
      "text/plain": [
       "| ranking_regularization         | Rank-based Regularization Weight                 | 0.25     |"
      ]
     },
     "metadata": {},
     "output_type": "display_data"
    },
    {
     "data": {
      "text/html": [
       "<pre>| max_iterations                 | Maximum Number of Iterations                     | 50       |</pre>"
      ],
      "text/plain": [
       "| max_iterations                 | Maximum Number of Iterations                     | 50       |"
      ]
     },
     "metadata": {},
     "output_type": "display_data"
    },
    {
     "data": {
      "text/html": [
       "<pre>+--------------------------------+--------------------------------------------------+----------+</pre>"
      ],
      "text/plain": [
       "+--------------------------------+--------------------------------------------------+----------+"
      ]
     },
     "metadata": {},
     "output_type": "display_data"
    },
    {
     "data": {
      "text/html": [
       "<pre>  Optimizing model using SGD; tuning step size.</pre>"
      ],
      "text/plain": [
       "  Optimizing model using SGD; tuning step size."
      ]
     },
     "metadata": {},
     "output_type": "display_data"
    },
    {
     "data": {
      "text/html": [
       "<pre>  Using 136536 / 1092291 points for tuning the step size.</pre>"
      ],
      "text/plain": [
       "  Using 136536 / 1092291 points for tuning the step size."
      ]
     },
     "metadata": {},
     "output_type": "display_data"
    },
    {
     "data": {
      "text/html": [
       "<pre>+---------+-------------------+------------------------------------------+</pre>"
      ],
      "text/plain": [
       "+---------+-------------------+------------------------------------------+"
      ]
     },
     "metadata": {},
     "output_type": "display_data"
    },
    {
     "data": {
      "text/html": [
       "<pre>| Attempt | Initial Step Size | Estimated Objective Value                |</pre>"
      ],
      "text/plain": [
       "| Attempt | Initial Step Size | Estimated Objective Value                |"
      ]
     },
     "metadata": {},
     "output_type": "display_data"
    },
    {
     "data": {
      "text/html": [
       "<pre>+---------+-------------------+------------------------------------------+</pre>"
      ],
      "text/plain": [
       "+---------+-------------------+------------------------------------------+"
      ]
     },
     "metadata": {},
     "output_type": "display_data"
    },
    {
     "data": {
      "text/html": [
       "<pre>| 0       | 25                | Not Viable                               |</pre>"
      ],
      "text/plain": [
       "| 0       | 25                | Not Viable                               |"
      ]
     },
     "metadata": {},
     "output_type": "display_data"
    },
    {
     "data": {
      "text/html": [
       "<pre>| 1       | 6.25              | Not Viable                               |</pre>"
      ],
      "text/plain": [
       "| 1       | 6.25              | Not Viable                               |"
      ]
     },
     "metadata": {},
     "output_type": "display_data"
    },
    {
     "data": {
      "text/html": [
       "<pre>| 2       | 1.5625            | Not Viable                               |</pre>"
      ],
      "text/plain": [
       "| 2       | 1.5625            | Not Viable                               |"
      ]
     },
     "metadata": {},
     "output_type": "display_data"
    },
    {
     "data": {
      "text/html": [
       "<pre>| 3       | 0.390625          | Not Viable                               |</pre>"
      ],
      "text/plain": [
       "| 3       | 0.390625          | Not Viable                               |"
      ]
     },
     "metadata": {},
     "output_type": "display_data"
    },
    {
     "data": {
      "text/html": [
       "<pre>| 4       | 0.0976562         | No Decrease (118.188 >= 29.0736)         |</pre>"
      ],
      "text/plain": [
       "| 4       | 0.0976562         | No Decrease (118.188 >= 29.0736)         |"
      ]
     },
     "metadata": {},
     "output_type": "display_data"
    },
    {
     "data": {
      "text/html": [
       "<pre>| 5       | 0.0244141         | 20.2593                                  |</pre>"
      ],
      "text/plain": [
       "| 5       | 0.0244141         | 20.2593                                  |"
      ]
     },
     "metadata": {},
     "output_type": "display_data"
    },
    {
     "data": {
      "text/html": [
       "<pre>| 6       | 0.012207          | 21.8816                                  |</pre>"
      ],
      "text/plain": [
       "| 6       | 0.012207          | 21.8816                                  |"
      ]
     },
     "metadata": {},
     "output_type": "display_data"
    },
    {
     "data": {
      "text/html": [
       "<pre>| 7       | 0.00610352        | 23.0865                                  |</pre>"
      ],
      "text/plain": [
       "| 7       | 0.00610352        | 23.0865                                  |"
      ]
     },
     "metadata": {},
     "output_type": "display_data"
    },
    {
     "data": {
      "text/html": [
       "<pre>| 8       | 0.00305176        | 24.1301                                  |</pre>"
      ],
      "text/plain": [
       "| 8       | 0.00305176        | 24.1301                                  |"
      ]
     },
     "metadata": {},
     "output_type": "display_data"
    },
    {
     "data": {
      "text/html": [
       "<pre>+---------+-------------------+------------------------------------------+</pre>"
      ],
      "text/plain": [
       "+---------+-------------------+------------------------------------------+"
      ]
     },
     "metadata": {},
     "output_type": "display_data"
    },
    {
     "data": {
      "text/html": [
       "<pre>| Final   | 0.0244141         | 20.2593                                  |</pre>"
      ],
      "text/plain": [
       "| Final   | 0.0244141         | 20.2593                                  |"
      ]
     },
     "metadata": {},
     "output_type": "display_data"
    },
    {
     "data": {
      "text/html": [
       "<pre>+---------+-------------------+------------------------------------------+</pre>"
      ],
      "text/plain": [
       "+---------+-------------------+------------------------------------------+"
      ]
     },
     "metadata": {},
     "output_type": "display_data"
    },
    {
     "data": {
      "text/html": [
       "<pre>Starting Optimization.</pre>"
      ],
      "text/plain": [
       "Starting Optimization."
      ]
     },
     "metadata": {},
     "output_type": "display_data"
    },
    {
     "data": {
      "text/html": [
       "<pre>+---------+--------------+-------------------+-----------------------+-------------+</pre>"
      ],
      "text/plain": [
       "+---------+--------------+-------------------+-----------------------+-------------+"
      ]
     },
     "metadata": {},
     "output_type": "display_data"
    },
    {
     "data": {
      "text/html": [
       "<pre>| Iter.   | Elapsed Time | Approx. Objective | Approx. Training RMSE | Step Size   |</pre>"
      ],
      "text/plain": [
       "| Iter.   | Elapsed Time | Approx. Objective | Approx. Training RMSE | Step Size   |"
      ]
     },
     "metadata": {},
     "output_type": "display_data"
    },
    {
     "data": {
      "text/html": [
       "<pre>+---------+--------------+-------------------+-----------------------+-------------+</pre>"
      ],
      "text/plain": [
       "+---------+--------------+-------------------+-----------------------+-------------+"
      ]
     },
     "metadata": {},
     "output_type": "display_data"
    },
    {
     "data": {
      "text/html": [
       "<pre>| Initial | 0us          | 29.1255           | 3.85439               |             |</pre>"
      ],
      "text/plain": [
       "| Initial | 0us          | 29.1255           | 3.85439               |             |"
      ]
     },
     "metadata": {},
     "output_type": "display_data"
    },
    {
     "data": {
      "text/html": [
       "<pre>+---------+--------------+-------------------+-----------------------+-------------+</pre>"
      ],
      "text/plain": [
       "+---------+--------------+-------------------+-----------------------+-------------+"
      ]
     },
     "metadata": {},
     "output_type": "display_data"
    },
    {
     "data": {
      "text/html": [
       "<pre>| 1       | 1.22s        | 23.8308           | 3.67647               | 0.0244141   |</pre>"
      ],
      "text/plain": [
       "| 1       | 1.22s        | 23.8308           | 3.67647               | 0.0244141   |"
      ]
     },
     "metadata": {},
     "output_type": "display_data"
    },
    {
     "data": {
      "text/html": [
       "<pre>| 2       | 2.27s        | 22.5723           | 3.58656               | 0.0145167   |</pre>"
      ],
      "text/plain": [
       "| 2       | 2.27s        | 22.5723           | 3.58656               | 0.0145167   |"
      ]
     },
     "metadata": {},
     "output_type": "display_data"
    },
    {
     "data": {
      "text/html": [
       "<pre>| 3       | 3.25s        | 21.6437           | 3.49804               | 0.0107102   |</pre>"
      ],
      "text/plain": [
       "| 3       | 3.25s        | 21.6437           | 3.49804               | 0.0107102   |"
      ]
     },
     "metadata": {},
     "output_type": "display_data"
    },
    {
     "data": {
      "text/html": [
       "<pre>| 4       | 4.22s        | 20.4307           | 3.36114               | 0.00863167  |</pre>"
      ],
      "text/plain": [
       "| 4       | 4.22s        | 20.4307           | 3.36114               | 0.00863167  |"
      ]
     },
     "metadata": {},
     "output_type": "display_data"
    },
    {
     "data": {
      "text/html": [
       "<pre>| 5       | 5.20s        | 18.9328           | 3.17794               | 0.00730151  |</pre>"
      ],
      "text/plain": [
       "| 5       | 5.20s        | 18.9328           | 3.17794               | 0.00730151  |"
      ]
     },
     "metadata": {},
     "output_type": "display_data"
    },
    {
     "data": {
      "text/html": [
       "<pre>| 6       | 6.17s        | 17.3876           | 2.97577               | 0.00636835  |</pre>"
      ],
      "text/plain": [
       "| 6       | 6.17s        | 17.3876           | 2.97577               | 0.00636835  |"
      ]
     },
     "metadata": {},
     "output_type": "display_data"
    },
    {
     "data": {
      "text/html": [
       "<pre>| 10      | 10.04s       | 12.8017           | 2.32913               | 0.0043415   |</pre>"
      ],
      "text/plain": [
       "| 10      | 10.04s       | 12.8017           | 2.32913               | 0.0043415   |"
      ]
     },
     "metadata": {},
     "output_type": "display_data"
    },
    {
     "data": {
      "text/html": [
       "<pre>| 11      | 11.01s       | 12.0613           | 2.2169                | 0.00404199  |</pre>"
      ],
      "text/plain": [
       "| 11      | 11.01s       | 12.0613           | 2.2169                | 0.00404199  |"
      ]
     },
     "metadata": {},
     "output_type": "display_data"
    },
    {
     "data": {
      "text/html": [
       "<pre>| 15      | 14.78s       | 10.0048           | 1.88625               | 0.00320311  |</pre>"
      ],
      "text/plain": [
       "| 15      | 14.78s       | 10.0048           | 1.88625               | 0.00320311  |"
      ]
     },
     "metadata": {},
     "output_type": "display_data"
    },
    {
     "data": {
      "text/html": [
       "<pre>| 20      | 19.36s       | 8.54348           | 1.6416                | 0.00258147  |</pre>"
      ],
      "text/plain": [
       "| 20      | 19.36s       | 8.54348           | 1.6416                | 0.00258147  |"
      ]
     },
     "metadata": {},
     "output_type": "display_data"
    },
    {
     "data": {
      "text/html": [
       "<pre>| 25      | 23.88s       | 7.64791           | 1.48445               | 0.00218366  |</pre>"
      ],
      "text/plain": [
       "| 25      | 23.88s       | 7.64791           | 1.48445               | 0.00218366  |"
      ]
     },
     "metadata": {},
     "output_type": "display_data"
    },
    {
     "data": {
      "text/html": [
       "<pre>| 30      | 28.38s       | 7.01902           | 1.37335               | 0.00190458  |</pre>"
      ],
      "text/plain": [
       "| 30      | 28.38s       | 7.01902           | 1.37335               | 0.00190458  |"
      ]
     },
     "metadata": {},
     "output_type": "display_data"
    },
    {
     "data": {
      "text/html": [
       "<pre>| 35      | 32.82s       | 6.5621            | 1.28996               | 0.00169664  |</pre>"
      ],
      "text/plain": [
       "| 35      | 32.82s       | 6.5621            | 1.28996               | 0.00169664  |"
      ]
     },
     "metadata": {},
     "output_type": "display_data"
    },
    {
     "data": {
      "text/html": [
       "<pre>| 40      | 37.31s       | 6.21423           | 1.22521               | 0.00153495  |</pre>"
      ],
      "text/plain": [
       "| 40      | 37.31s       | 6.21423           | 1.22521               | 0.00153495  |"
      ]
     },
     "metadata": {},
     "output_type": "display_data"
    },
    {
     "data": {
      "text/html": [
       "<pre>| 45      | 41.82s       | 5.92714           | 1.17354               | 0.00140518  |</pre>"
      ],
      "text/plain": [
       "| 45      | 41.82s       | 5.92714           | 1.17354               | 0.00140518  |"
      ]
     },
     "metadata": {},
     "output_type": "display_data"
    },
    {
     "data": {
      "text/html": [
       "<pre>| 50      | 46.36s       | 5.68119           | 1.12973               | 0.00129841  |</pre>"
      ],
      "text/plain": [
       "| 50      | 46.36s       | 5.68119           | 1.12973               | 0.00129841  |"
      ]
     },
     "metadata": {},
     "output_type": "display_data"
    },
    {
     "data": {
      "text/html": [
       "<pre>+---------+--------------+-------------------+-----------------------+-------------+</pre>"
      ],
      "text/plain": [
       "+---------+--------------+-------------------+-----------------------+-------------+"
      ]
     },
     "metadata": {},
     "output_type": "display_data"
    },
    {
     "data": {
      "text/html": [
       "<pre>Optimization Complete: Maximum number of passes through the data reached.</pre>"
      ],
      "text/plain": [
       "Optimization Complete: Maximum number of passes through the data reached."
      ]
     },
     "metadata": {},
     "output_type": "display_data"
    },
    {
     "data": {
      "text/html": [
       "<pre>Computing final objective value and training RMSE.</pre>"
      ],
      "text/plain": [
       "Computing final objective value and training RMSE."
      ]
     },
     "metadata": {},
     "output_type": "display_data"
    },
    {
     "data": {
      "text/html": [
       "<pre>       Final objective value: 5.57345</pre>"
      ],
      "text/plain": [
       "       Final objective value: 5.57345"
      ]
     },
     "metadata": {},
     "output_type": "display_data"
    },
    {
     "data": {
      "text/html": [
       "<pre>       Final training RMSE: 1.08339</pre>"
      ],
      "text/plain": [
       "       Final training RMSE: 1.08339"
      ]
     },
     "metadata": {},
     "output_type": "display_data"
    }
   ],
   "source": [
    "rank_factor_model = graphlab.ranking_factorization_recommender.create(sf, user_id='User-ID', item_id='ISBN', target='Book-Rating', \n",
    "                                                                max_iterations=50)"
   ]
  },
  {
   "cell_type": "code",
   "execution_count": 55,
   "metadata": {
    "collapsed": false
   },
   "outputs": [
    {
     "name": "stdout",
     "output_type": "stream",
     "text": [
      "+---------+------------+---------------+------+\n",
      "| User-ID |    ISBN    |     score     | rank |\n",
      "+---------+------------+---------------+------+\n",
      "|  69188  | 0811825558 | 14.8589946487 |  1   |\n",
      "|  69188  | 0345315715 | 14.6149875381 |  2   |\n",
      "|  69188  | 0553380958 | 14.2803146103 |  3   |\n",
      "|  69188  | 0060976241 | 13.6427222946 |  4   |\n",
      "|  69188  | 0812550706 | 13.5892755249 |  5   |\n",
      "+---------+------------+---------------+------+\n",
      "[5 rows x 4 columns]\n",
      "\n"
     ]
    }
   ],
   "source": [
    "#Make Recommendations:\n",
    "rank_factor_recomm = rank_factor_model.recommend(users=[69188],k=5)\n",
    "rank_factor_recomm.print_rows(num_rows=5)"
   ]
  },
  {
   "cell_type": "code",
   "execution_count": 56,
   "metadata": {
    "collapsed": false
   },
   "outputs": [
    {
     "data": {
      "text/plain": [
       "{'rmse_by_item': Columns:\n",
       " \tISBN\tstr\n",
       " \tcount\tint\n",
       " \trmse\tfloat\n",
       " \n",
       " Rows: 40456\n",
       " \n",
       " Data:\n",
       " +------------+-------+---------------+\n",
       " |    ISBN    | count |      rmse     |\n",
       " +------------+-------+---------------+\n",
       " | 0263737330 |   1   | 5.34130151484 |\n",
       " | 037312189X |   1   | 4.46604509565 |\n",
       " | 0345274563 |   1   |  1.4633745617 |\n",
       " | 0333387287 |   1   | 5.31082303736 |\n",
       " | 050552239X |   1   | 4.30599315378 |\n",
       " | 0743410602 |   1   | 1.65934709001 |\n",
       " | 0590212877 |   1   | 3.46737320635 |\n",
       " | 043957742X |   1   | 3.38589246485 |\n",
       " | 0743417844 |   1   | 8.80384717795 |\n",
       " | 0312929994 |   1   | 2.51979693857 |\n",
       " +------------+-------+---------------+\n",
       " [40456 rows x 3 columns]\n",
       " Note: Only the head of the SFrame is printed.\n",
       " You can use print_rows(num_rows=m, num_columns=n) to print more rows and columns.,\n",
       " 'rmse_by_user': Columns:\n",
       " \tUser-ID\tint\n",
       " \tcount\tint\n",
       " \trmse\tfloat\n",
       " \n",
       " Rows: 17780\n",
       " \n",
       " Data:\n",
       " +---------+-------+----------------+\n",
       " | User-ID | count |      rmse      |\n",
       " +---------+-------+----------------+\n",
       " |  237313 |   1   | 1.49798698637  |\n",
       " |  43116  |   1   | 2.84383349207  |\n",
       " |  115341 |   1   | 5.26586948249  |\n",
       " |  69188  |   1   | 3.36552937242  |\n",
       " |  118012 |   1   | 5.01669451508  |\n",
       " |  66750  |   1   | 3.62250982311  |\n",
       " |  97741  |   1   | 2.89033086512  |\n",
       " |  230692 |   1   | 0.797411755591 |\n",
       " |  135535 |   1   | 2.65705485728  |\n",
       " |  36992  |   2   | 3.30571380721  |\n",
       " +---------+-------+----------------+\n",
       " [17780 rows x 3 columns]\n",
       " Note: Only the head of the SFrame is printed.\n",
       " You can use print_rows(num_rows=m, num_columns=n) to print more rows and columns.,\n",
       " 'rmse_overall': 7.080758290955872}"
      ]
     },
     "execution_count": 56,
     "metadata": {},
     "output_type": "execute_result"
    }
   ],
   "source": [
    "rank_factor_model.evaluate_rmse(sfTest, target='Book-Rating')"
   ]
  },
  {
   "cell_type": "code",
   "execution_count": 26,
   "metadata": {
    "collapsed": false
   },
   "outputs": [
    {
     "data": {
      "text/html": [
       "<div>\n",
       "<table border=\"1\" class=\"dataframe\">\n",
       "  <thead>\n",
       "    <tr style=\"text-align: right;\">\n",
       "      <th></th>\n",
       "      <th>ISBN</th>\n",
       "      <th>Book-Title</th>\n",
       "      <th>Book-Author</th>\n",
       "      <th>Year-Of-Publication</th>\n",
       "      <th>Publisher</th>\n",
       "    </tr>\n",
       "  </thead>\n",
       "  <tbody>\n",
       "    <tr>\n",
       "      <th>0</th>\n",
       "      <td>0195153448</td>\n",
       "      <td>Classical Mythology</td>\n",
       "      <td>Mark P. O. Morford</td>\n",
       "      <td>2002</td>\n",
       "      <td>Oxford University Press</td>\n",
       "    </tr>\n",
       "    <tr>\n",
       "      <th>1</th>\n",
       "      <td>0002005018</td>\n",
       "      <td>Clara Callan</td>\n",
       "      <td>Richard Bruce Wright</td>\n",
       "      <td>2001</td>\n",
       "      <td>HarperFlamingo Canada</td>\n",
       "    </tr>\n",
       "    <tr>\n",
       "      <th>2</th>\n",
       "      <td>0060973129</td>\n",
       "      <td>Decision in Normandy</td>\n",
       "      <td>Carlo D'Este</td>\n",
       "      <td>1991</td>\n",
       "      <td>HarperPerennial</td>\n",
       "    </tr>\n",
       "    <tr>\n",
       "      <th>3</th>\n",
       "      <td>0374157065</td>\n",
       "      <td>Flu: The Story of the Great Influenza Pandemic...</td>\n",
       "      <td>Gina Bari Kolata</td>\n",
       "      <td>1999</td>\n",
       "      <td>Farrar Straus Giroux</td>\n",
       "    </tr>\n",
       "    <tr>\n",
       "      <th>4</th>\n",
       "      <td>0393045218</td>\n",
       "      <td>The Mummies of Urumchi</td>\n",
       "      <td>E. J. W. Barber</td>\n",
       "      <td>1999</td>\n",
       "      <td>W. W. Norton &amp;amp; Company</td>\n",
       "    </tr>\n",
       "  </tbody>\n",
       "</table>\n",
       "</div>"
      ],
      "text/plain": [
       "         ISBN                                         Book-Title  \\\n",
       "0  0195153448                                Classical Mythology   \n",
       "1  0002005018                                       Clara Callan   \n",
       "2  0060973129                               Decision in Normandy   \n",
       "3  0374157065  Flu: The Story of the Great Influenza Pandemic...   \n",
       "4  0393045218                             The Mummies of Urumchi   \n",
       "\n",
       "            Book-Author  Year-Of-Publication                   Publisher  \n",
       "0    Mark P. O. Morford                 2002     Oxford University Press  \n",
       "1  Richard Bruce Wright                 2001       HarperFlamingo Canada  \n",
       "2          Carlo D'Este                 1991             HarperPerennial  \n",
       "3      Gina Bari Kolata                 1999        Farrar Straus Giroux  \n",
       "4       E. J. W. Barber                 1999  W. W. Norton &amp; Company  "
      ]
     },
     "execution_count": 26,
     "metadata": {},
     "output_type": "execute_result"
    }
   ],
   "source": [
    "books[['ISBN','Book-Title','Book-Author','Year-Of-Publication','Publisher']].head()"
   ]
  },
  {
   "cell_type": "code",
   "execution_count": 43,
   "metadata": {
    "collapsed": false
   },
   "outputs": [
    {
     "data": {
      "text/html": [
       "<pre>Unable to parse line \"078946697X|\"DK Readers: Creating the X-Men, How It All Began (Level 4: Proficient Readers)\\\"\"\"|Michael Teitelbaum|2000|DK Publishing Inc\"</pre>"
      ],
      "text/plain": [
       "Unable to parse line \"078946697X|\"DK Readers: Creating the X-Men, How It All Began (Level 4: Proficient Readers)\\\"\"\"|Michael Teitelbaum|2000|DK Publishing Inc\""
      ]
     },
     "metadata": {},
     "output_type": "display_data"
    },
    {
     "data": {
      "text/html": [
       "<pre>Unable to parse line \"2070426769|\"Peuple du ciel, suivi de 'Les Bergers\\\"\"\"|Jean-Marie Gustave Le ClÃ?Â©zio|2003|Gallimard\"</pre>"
      ],
      "text/plain": [
       "Unable to parse line \"2070426769|\"Peuple du ciel, suivi de 'Les Bergers\\\"\"\"|Jean-Marie Gustave Le ClÃ?Â©zio|2003|Gallimard\""
      ]
     },
     "metadata": {},
     "output_type": "display_data"
    },
    {
     "data": {
      "text/html": [
       "<pre>Unable to parse line \"0789466953|\"DK Readers: Creating the X-Men, How Comic Books Come to Life (Level 4: Proficient Readers)\\\"\"\"|James Buckley|2000|DK Publishing Inc\"</pre>"
      ],
      "text/plain": [
       "Unable to parse line \"0789466953|\"DK Readers: Creating the X-Men, How Comic Books Come to Life (Level 4: Proficient Readers)\\\"\"\"|James Buckley|2000|DK Publishing Inc\""
      ]
     },
     "metadata": {},
     "output_type": "display_data"
    },
    {
     "data": {
      "text/html": [
       "<pre>3 lines failed to parse correctly</pre>"
      ],
      "text/plain": [
       "3 lines failed to parse correctly"
      ]
     },
     "metadata": {},
     "output_type": "display_data"
    },
    {
     "data": {
      "text/html": [
       "<pre>Finished parsing file C:\\Users\\Sahil Gupta\\Google Drive\\Winter Project\\items_data.csv</pre>"
      ],
      "text/plain": [
       "Finished parsing file C:\\Users\\Sahil Gupta\\Google Drive\\Winter Project\\items_data.csv"
      ]
     },
     "metadata": {},
     "output_type": "display_data"
    },
    {
     "data": {
      "text/html": [
       "<pre>Parsing completed. Parsed 100 lines in 0.746783 secs.</pre>"
      ],
      "text/plain": [
       "Parsing completed. Parsed 100 lines in 0.746783 secs."
      ]
     },
     "metadata": {},
     "output_type": "display_data"
    },
    {
     "name": "stdout",
     "output_type": "stream",
     "text": [
      "------------------------------------------------------\n",
      "Inferred types from first 100 line(s) of file as \n",
      "column_type_hints=[str,str,str,long,str]\n",
      "If parsing fails due to incorrect types, you can correct\n",
      "the inferred type list above and pass it to read_csv in\n",
      "the column_type_hints argument\n",
      "------------------------------------------------------\n"
     ]
    },
    {
     "data": {
      "text/html": [
       "<pre>Unable to parse line \"078946697X|\"DK Readers: Creating the X-Men, How It All Began (Level 4: Proficient Readers)\\\"\"\"|Michael Teitelbaum|2000|DK Publishing Inc\"</pre>"
      ],
      "text/plain": [
       "Unable to parse line \"078946697X|\"DK Readers: Creating the X-Men, How It All Began (Level 4: Proficient Readers)\\\"\"\"|Michael Teitelbaum|2000|DK Publishing Inc\""
      ]
     },
     "metadata": {},
     "output_type": "display_data"
    },
    {
     "data": {
      "text/html": [
       "<pre>Unable to parse line \"2070426769|\"Peuple du ciel, suivi de 'Les Bergers\\\"\"\"|Jean-Marie Gustave Le ClÃ?Â©zio|2003|Gallimard\"</pre>"
      ],
      "text/plain": [
       "Unable to parse line \"2070426769|\"Peuple du ciel, suivi de 'Les Bergers\\\"\"\"|Jean-Marie Gustave Le ClÃ?Â©zio|2003|Gallimard\""
      ]
     },
     "metadata": {},
     "output_type": "display_data"
    },
    {
     "data": {
      "text/html": [
       "<pre>Unable to parse line \"0789466953|\"DK Readers: Creating the X-Men, How Comic Books Come to Life (Level 4: Proficient Readers)\\\"\"\"|James Buckley|2000|DK Publishing Inc\"</pre>"
      ],
      "text/plain": [
       "Unable to parse line \"0789466953|\"DK Readers: Creating the X-Men, How Comic Books Come to Life (Level 4: Proficient Readers)\\\"\"\"|James Buckley|2000|DK Publishing Inc\""
      ]
     },
     "metadata": {},
     "output_type": "display_data"
    },
    {
     "data": {
      "text/html": [
       "<pre>3 lines failed to parse correctly</pre>"
      ],
      "text/plain": [
       "3 lines failed to parse correctly"
      ]
     },
     "metadata": {},
     "output_type": "display_data"
    },
    {
     "data": {
      "text/html": [
       "<pre>Finished parsing file C:\\Users\\Sahil Gupta\\Google Drive\\Winter Project\\items_data.csv</pre>"
      ],
      "text/plain": [
       "Finished parsing file C:\\Users\\Sahil Gupta\\Google Drive\\Winter Project\\items_data.csv"
      ]
     },
     "metadata": {},
     "output_type": "display_data"
    },
    {
     "data": {
      "text/html": [
       "<pre>Parsing completed. Parsed 271376 lines in 0.615655 secs.</pre>"
      ],
      "text/plain": [
       "Parsing completed. Parsed 271376 lines in 0.615655 secs."
      ]
     },
     "metadata": {},
     "output_type": "display_data"
    }
   ],
   "source": [
    "items_data = books[['ISBN','Book-Title','Book-Author','Year-Of-Publication','Publisher']]\n",
    "items_data.to_csv('items_data.csv', sep=\"|\",index=False)\n",
    "\n",
    "items_sf = graphlab.SFrame.read_csv('items_data.csv', sep=\"|\")"
   ]
  },
  {
   "cell_type": "code",
   "execution_count": 45,
   "metadata": {
    "collapsed": false
   },
   "outputs": [
    {
     "data": {
      "text/html": [
       "<div style=\"max-height:1000px;max-width:1500px;overflow:auto;\"><table frame=\"box\" rules=\"cols\">\n",
       "    <tr>\n",
       "        <th style=\"padding-left: 1em; padding-right: 1em; text-align: center\">ISBN</th>\n",
       "        <th style=\"padding-left: 1em; padding-right: 1em; text-align: center\">Book-Title</th>\n",
       "        <th style=\"padding-left: 1em; padding-right: 1em; text-align: center\">Book-Author</th>\n",
       "        <th style=\"padding-left: 1em; padding-right: 1em; text-align: center\">Year-Of-Publication</th>\n",
       "        <th style=\"padding-left: 1em; padding-right: 1em; text-align: center\">Publisher</th>\n",
       "    </tr>\n",
       "    <tr>\n",
       "        <td style=\"padding-left: 1em; padding-right: 1em; text-align: center; vertical-align: top\">0195153448</td>\n",
       "        <td style=\"padding-left: 1em; padding-right: 1em; text-align: center; vertical-align: top\">Classical Mythology</td>\n",
       "        <td style=\"padding-left: 1em; padding-right: 1em; text-align: center; vertical-align: top\">Mark P. O. Morford</td>\n",
       "        <td style=\"padding-left: 1em; padding-right: 1em; text-align: center; vertical-align: top\">2002</td>\n",
       "        <td style=\"padding-left: 1em; padding-right: 1em; text-align: center; vertical-align: top\">Oxford University Press</td>\n",
       "    </tr>\n",
       "    <tr>\n",
       "        <td style=\"padding-left: 1em; padding-right: 1em; text-align: center; vertical-align: top\">0002005018</td>\n",
       "        <td style=\"padding-left: 1em; padding-right: 1em; text-align: center; vertical-align: top\">Clara Callan</td>\n",
       "        <td style=\"padding-left: 1em; padding-right: 1em; text-align: center; vertical-align: top\">Richard Bruce Wright</td>\n",
       "        <td style=\"padding-left: 1em; padding-right: 1em; text-align: center; vertical-align: top\">2001</td>\n",
       "        <td style=\"padding-left: 1em; padding-right: 1em; text-align: center; vertical-align: top\">HarperFlamingo Canada</td>\n",
       "    </tr>\n",
       "</table>\n",
       "[2 rows x 5 columns]<br/>\n",
       "</div>"
      ],
      "text/plain": [
       "Columns:\n",
       "\tISBN\tstr\n",
       "\tBook-Title\tstr\n",
       "\tBook-Author\tstr\n",
       "\tYear-Of-Publication\tint\n",
       "\tPublisher\tstr\n",
       "\n",
       "Rows: 2\n",
       "\n",
       "Data:\n",
       "+------------+---------------------+----------------------+---------------------+\n",
       "|    ISBN    |      Book-Title     |     Book-Author      | Year-Of-Publication |\n",
       "+------------+---------------------+----------------------+---------------------+\n",
       "| 0195153448 | Classical Mythology |  Mark P. O. Morford  |         2002        |\n",
       "| 0002005018 |     Clara Callan    | Richard Bruce Wright |         2001        |\n",
       "+------------+---------------------+----------------------+---------------------+\n",
       "+-------------------------+\n",
       "|        Publisher        |\n",
       "+-------------------------+\n",
       "| Oxford University Press |\n",
       "|  HarperFlamingo Canada  |\n",
       "+-------------------------+\n",
       "[2 rows x 5 columns]"
      ]
     },
     "execution_count": 45,
     "metadata": {},
     "output_type": "execute_result"
    }
   ],
   "source": [
    "items_sf.head(2)"
   ]
  },
  {
   "cell_type": "code",
   "execution_count": null,
   "metadata": {
    "collapsed": false
   },
   "outputs": [
    {
     "name": "stdout",
     "output_type": "stream",
     "text": [
      "WARNING: The ItemContentRecommender model is still in beta.\n",
      "WARNING: This feature transformer is still in beta, and some interpretation rules may change in the future.\n",
      "('Applying transform:\\n', Class             : AutoVectorizer\n",
      "\n",
      "Model Fields\n",
      "------------\n",
      "Features          : ['Book-Title', 'Book-Author', 'Year-Of-Publication', 'Publisher']\n",
      "Excluded Features : ['ISBN']\n",
      "\n",
      "Column               Type  Interpretation  Transforms                         Output Type\n",
      "-------------------  ----  --------------  ---------------------------------  -----------\n",
      "Book-Title           str   short_text      3-Character NGram Counts -> TFIDF  dict       \n",
      "Book-Author          str   categorical     None                               str        \n",
      "Year-Of-Publication  int   numerical       None                               int        \n",
      "Publisher            str   categorical     None                               str        \n",
      "\n",
      ")\n"
     ]
    },
    {
     "data": {
      "text/html": [
       "<pre>Recsys training: model = item_content_recommender</pre>"
      ],
      "text/plain": [
       "Recsys training: model = item_content_recommender"
      ]
     },
     "metadata": {},
     "output_type": "display_data"
    },
    {
     "name": "stdout",
     "output_type": "stream",
     "text": [
      "Defaulting to brute force instead of ball tree because there are multiple distance components.\n"
     ]
    },
    {
     "data": {
      "text/html": [
       "<pre>Starting brute force nearest neighbors model training.</pre>"
      ],
      "text/plain": [
       "Starting brute force nearest neighbors model training."
      ]
     },
     "metadata": {},
     "output_type": "display_data"
    },
    {
     "data": {
      "text/html": [
       "<pre>Starting pairwise querying.</pre>"
      ],
      "text/plain": [
       "Starting pairwise querying."
      ]
     },
     "metadata": {},
     "output_type": "display_data"
    },
    {
     "data": {
      "text/html": [
       "<pre>+--------------+---------+-------------+--------------+</pre>"
      ],
      "text/plain": [
       "+--------------+---------+-------------+--------------+"
      ]
     },
     "metadata": {},
     "output_type": "display_data"
    },
    {
     "data": {
      "text/html": [
       "<pre>| Query points | # Pairs | % Complete. | Elapsed Time |</pre>"
      ],
      "text/plain": [
       "| Query points | # Pairs | % Complete. | Elapsed Time |"
      ]
     },
     "metadata": {},
     "output_type": "display_data"
    },
    {
     "data": {
      "text/html": [
       "<pre>+--------------+---------+-------------+--------------+</pre>"
      ],
      "text/plain": [
       "+--------------+---------+-------------+--------------+"
      ]
     },
     "metadata": {},
     "output_type": "display_data"
    },
    {
     "data": {
      "text/html": [
       "<pre>| 0            | 67844   |             | 198.834ms    |</pre>"
      ],
      "text/plain": [
       "| 0            | 67844   |             | 198.834ms    |"
      ]
     },
     "metadata": {},
     "output_type": "display_data"
    },
    {
     "data": {
      "text/html": [
       "<pre>| 17           | 4681236 | 0.00635649  | 1.24s        |</pre>"
      ],
      "text/plain": [
       "| 17           | 4681236 | 0.00635649  | 1.24s        |"
      ]
     },
     "metadata": {},
     "output_type": "display_data"
    },
    {
     "data": {
      "text/html": [
       "<pre>| 30           | 8344812 | 0.0113311   | 2.20s        |</pre>"
      ],
      "text/plain": [
       "| 30           | 8344812 | 0.0113311   | 2.20s        |"
      ]
     },
     "metadata": {},
     "output_type": "display_data"
    },
    {
     "data": {
      "text/html": [
       "<pre>| 46           | 1e+007  | 0.0170428   | 3.22s        |</pre>"
      ],
      "text/plain": [
       "| 46           | 1e+007  | 0.0170428   | 3.22s        |"
      ]
     },
     "metadata": {},
     "output_type": "display_data"
    },
    {
     "data": {
      "text/html": [
       "<pre>| 61           | 2e+007  | 0.0227544   | 4.20s        |</pre>"
      ],
      "text/plain": [
       "| 61           | 2e+007  | 0.0227544   | 4.20s        |"
      ]
     },
     "metadata": {},
     "output_type": "display_data"
    },
    {
     "data": {
      "text/html": [
       "<pre>| 78           | 2e+007  | 0.0287424   | 5.17s        |</pre>"
      ],
      "text/plain": [
       "| 78           | 2e+007  | 0.0287424   | 5.17s        |"
      ]
     },
     "metadata": {},
     "output_type": "display_data"
    },
    {
     "data": {
      "text/html": [
       "<pre>| 95           | 3e+007  | 0.0352831   | 6.18s        |</pre>"
      ],
      "text/plain": [
       "| 95           | 3e+007  | 0.0352831   | 6.18s        |"
      ]
     },
     "metadata": {},
     "output_type": "display_data"
    },
    {
     "data": {
      "text/html": [
       "<pre>| 112          | 3e+007  | 0.0414554   | 7.15s        |</pre>"
      ],
      "text/plain": [
       "| 112          | 3e+007  | 0.0414554   | 7.15s        |"
      ]
     },
     "metadata": {},
     "output_type": "display_data"
    },
    {
     "data": {
      "text/html": [
       "<pre>| 130          | 4e+007  | 0.0479961   | 8.15s        |</pre>"
      ],
      "text/plain": [
       "| 130          | 4e+007  | 0.0479961   | 8.15s        |"
      ]
     },
     "metadata": {},
     "output_type": "display_data"
    },
    {
     "data": {
      "text/html": [
       "<pre>| 149          | 4e+007  | 0.0549054   | 9.14s        |</pre>"
      ],
      "text/plain": [
       "| 149          | 4e+007  | 0.0549054   | 9.14s        |"
      ]
     },
     "metadata": {},
     "output_type": "display_data"
    },
    {
     "data": {
      "text/html": [
       "<pre>| 167          | 5e+007  | 0.0616304   | 10.13s       |</pre>"
      ],
      "text/plain": [
       "| 167          | 5e+007  | 0.0616304   | 10.13s       |"
      ]
     },
     "metadata": {},
     "output_type": "display_data"
    },
    {
     "data": {
      "text/html": [
       "<pre>| 186          | 5e+007  | 0.0686317   | 11.13s       |</pre>"
      ],
      "text/plain": [
       "| 186          | 5e+007  | 0.0686317   | 11.13s       |"
      ]
     },
     "metadata": {},
     "output_type": "display_data"
    },
    {
     "data": {
      "text/html": [
       "<pre>| 204          | 6e+007  | 0.0753567   | 12.12s       |</pre>"
      ],
      "text/plain": [
       "| 204          | 6e+007  | 0.0753567   | 12.12s       |"
      ]
     },
     "metadata": {},
     "output_type": "display_data"
    },
    {
     "data": {
      "text/html": [
       "<pre>| 223          | 6e+007  | 0.0824502   | 13.13s       |</pre>"
      ],
      "text/plain": [
       "| 223          | 6e+007  | 0.0824502   | 13.13s       |"
      ]
     },
     "metadata": {},
     "output_type": "display_data"
    },
    {
     "data": {
      "text/html": [
       "<pre>| 243          | 7e+007  | 0.0895437   | 14.12s       |</pre>"
      ],
      "text/plain": [
       "| 243          | 7e+007  | 0.0895437   | 14.12s       |"
      ]
     },
     "metadata": {},
     "output_type": "display_data"
    },
    {
     "data": {
      "text/html": [
       "<pre>| 262          | 7e+007  | 0.0966371   | 15.13s       |</pre>"
      ],
      "text/plain": [
       "| 262          | 7e+007  | 0.0966371   | 15.13s       |"
      ]
     },
     "metadata": {},
     "output_type": "display_data"
    },
    {
     "data": {
      "text/html": [
       "<pre>| 280          | 8e+007  | 0.103454    | 16.12s       |</pre>"
      ],
      "text/plain": [
       "| 280          | 8e+007  | 0.103454    | 16.12s       |"
      ]
     },
     "metadata": {},
     "output_type": "display_data"
    },
    {
     "data": {
      "text/html": [
       "<pre>| 299          | 8e+007  | 0.110179    | 17.10s       |</pre>"
      ],
      "text/plain": [
       "| 299          | 8e+007  | 0.110179    | 17.10s       |"
      ]
     },
     "metadata": {},
     "output_type": "display_data"
    },
    {
     "data": {
      "text/html": [
       "<pre>| 315          | 9e+007  | 0.116351    | 18.11s       |</pre>"
      ],
      "text/plain": [
       "| 315          | 9e+007  | 0.116351    | 18.11s       |"
      ]
     },
     "metadata": {},
     "output_type": "display_data"
    },
    {
     "data": {
      "text/html": [
       "<pre>| 334          | 9e+007  | 0.123353    | 19.09s       |</pre>"
      ],
      "text/plain": [
       "| 334          | 9e+007  | 0.123353    | 19.09s       |"
      ]
     },
     "metadata": {},
     "output_type": "display_data"
    },
    {
     "data": {
      "text/html": [
       "<pre>| 353          | 1e+008  | 0.13017     | 20.08s       |</pre>"
      ],
      "text/plain": [
       "| 353          | 1e+008  | 0.13017     | 20.08s       |"
      ]
     },
     "metadata": {},
     "output_type": "display_data"
    },
    {
     "data": {
      "text/html": [
       "<pre>| 372          | 1e+008  | 0.137079    | 21.08s       |</pre>"
      ],
      "text/plain": [
       "| 372          | 1e+008  | 0.137079    | 21.08s       |"
      ]
     },
     "metadata": {},
     "output_type": "display_data"
    },
    {
     "data": {
      "text/html": [
       "<pre>| 390          | 1e+008  | 0.143712    | 22.08s       |</pre>"
      ],
      "text/plain": [
       "| 390          | 1e+008  | 0.143712    | 22.08s       |"
      ]
     },
     "metadata": {},
     "output_type": "display_data"
    },
    {
     "data": {
      "text/html": [
       "<pre>| 409          | 1e+008  | 0.150713    | 23.06s       |</pre>"
      ],
      "text/plain": [
       "| 409          | 1e+008  | 0.150713    | 23.06s       |"
      ]
     },
     "metadata": {},
     "output_type": "display_data"
    },
    {
     "data": {
      "text/html": [
       "<pre>| 427          | 1e+008  | 0.157438    | 24.06s       |</pre>"
      ],
      "text/plain": [
       "| 427          | 1e+008  | 0.157438    | 24.06s       |"
      ]
     },
     "metadata": {},
     "output_type": "display_data"
    },
    {
     "data": {
      "text/html": [
       "<pre>| 444          | 1e+008  | 0.163887    | 25.05s       |</pre>"
      ],
      "text/plain": [
       "| 444          | 1e+008  | 0.163887    | 25.05s       |"
      ]
     },
     "metadata": {},
     "output_type": "display_data"
    },
    {
     "data": {
      "text/html": [
       "<pre>| 463          | 1e+008  | 0.170796    | 26.04s       |</pre>"
      ],
      "text/plain": [
       "| 463          | 1e+008  | 0.170796    | 26.04s       |"
      ]
     },
     "metadata": {},
     "output_type": "display_data"
    },
    {
     "data": {
      "text/html": [
       "<pre>| 479          | 1e+008  | 0.176784    | 27.04s       |</pre>"
      ],
      "text/plain": [
       "| 479          | 1e+008  | 0.176784    | 27.04s       |"
      ]
     },
     "metadata": {},
     "output_type": "display_data"
    },
    {
     "data": {
      "text/html": [
       "<pre>| 498          | 1e+008  | 0.183693    | 28.04s       |</pre>"
      ],
      "text/plain": [
       "| 498          | 1e+008  | 0.183693    | 28.04s       |"
      ]
     },
     "metadata": {},
     "output_type": "display_data"
    },
    {
     "data": {
      "text/html": [
       "<pre>| 517          | 1e+008  | 0.190695    | 29.03s       |</pre>"
      ],
      "text/plain": [
       "| 517          | 1e+008  | 0.190695    | 29.03s       |"
      ]
     },
     "metadata": {},
     "output_type": "display_data"
    },
    {
     "data": {
      "text/html": [
       "<pre>| 537          | 1e+008  | 0.19788     | 30.02s       |</pre>"
      ],
      "text/plain": [
       "| 537          | 1e+008  | 0.19788     | 30.02s       |"
      ]
     },
     "metadata": {},
     "output_type": "display_data"
    },
    {
     "data": {
      "text/html": [
       "<pre>| 557          | 2e+008  | 0.205342    | 31.01s       |</pre>"
      ],
      "text/plain": [
       "| 557          | 2e+008  | 0.205342    | 31.01s       |"
      ]
     },
     "metadata": {},
     "output_type": "display_data"
    },
    {
     "data": {
      "text/html": [
       "<pre>| 577          | 2e+008  | 0.212712    | 32.00s       |</pre>"
      ],
      "text/plain": [
       "| 577          | 2e+008  | 0.212712    | 32.00s       |"
      ]
     },
     "metadata": {},
     "output_type": "display_data"
    },
    {
     "data": {
      "text/html": [
       "<pre>| 590          | 2e+008  | 0.217503    | 33.02s       |</pre>"
      ],
      "text/plain": [
       "| 590          | 2e+008  | 0.217503    | 33.02s       |"
      ]
     },
     "metadata": {},
     "output_type": "display_data"
    },
    {
     "data": {
      "text/html": [
       "<pre>| 605          | 2e+008  | 0.222938    | 34.01s       |</pre>"
      ],
      "text/plain": [
       "| 605          | 2e+008  | 0.222938    | 34.01s       |"
      ]
     },
     "metadata": {},
     "output_type": "display_data"
    },
    {
     "data": {
      "text/html": [
       "<pre>| 621          | 2e+008  | 0.229018    | 34.99s       |</pre>"
      ],
      "text/plain": [
       "| 621          | 2e+008  | 0.229018    | 34.99s       |"
      ]
     },
     "metadata": {},
     "output_type": "display_data"
    },
    {
     "data": {
      "text/html": [
       "<pre>| 638          | 2e+008  | 0.235375    | 35.99s       |</pre>"
      ],
      "text/plain": [
       "| 638          | 2e+008  | 0.235375    | 35.99s       |"
      ]
     },
     "metadata": {},
     "output_type": "display_data"
    },
    {
     "data": {
      "text/html": [
       "<pre>| 654          | 2e+008  | 0.241086    | 36.97s       |</pre>"
      ],
      "text/plain": [
       "| 654          | 2e+008  | 0.241086    | 36.97s       |"
      ]
     },
     "metadata": {},
     "output_type": "display_data"
    },
    {
     "data": {
      "text/html": [
       "<pre>| 671          | 2e+008  | 0.247535    | 37.97s       |</pre>"
      ],
      "text/plain": [
       "| 671          | 2e+008  | 0.247535    | 37.97s       |"
      ]
     },
     "metadata": {},
     "output_type": "display_data"
    },
    {
     "data": {
      "text/html": [
       "<pre>| 688          | 2e+008  | 0.253799    | 38.97s       |</pre>"
      ],
      "text/plain": [
       "| 688          | 2e+008  | 0.253799    | 38.97s       |"
      ]
     },
     "metadata": {},
     "output_type": "display_data"
    },
    {
     "data": {
      "text/html": [
       "<pre>| 707          | 2e+008  | 0.260524    | 39.97s       |</pre>"
      ],
      "text/plain": [
       "| 707          | 2e+008  | 0.260524    | 39.97s       |"
      ]
     },
     "metadata": {},
     "output_type": "display_data"
    },
    {
     "data": {
      "text/html": [
       "<pre>| 723          | 2e+008  | 0.266696    | 40.95s       |</pre>"
      ],
      "text/plain": [
       "| 723          | 2e+008  | 0.266696    | 40.95s       |"
      ]
     },
     "metadata": {},
     "output_type": "display_data"
    },
    {
     "data": {
      "text/html": [
       "<pre>| 740          | 2e+008  | 0.272684    | 41.95s       |</pre>"
      ],
      "text/plain": [
       "| 740          | 2e+008  | 0.272684    | 41.95s       |"
      ]
     },
     "metadata": {},
     "output_type": "display_data"
    },
    {
     "data": {
      "text/html": [
       "<pre>| 758          | 2e+008  | 0.279502    | 42.95s       |</pre>"
      ],
      "text/plain": [
       "| 758          | 2e+008  | 0.279502    | 42.95s       |"
      ]
     },
     "metadata": {},
     "output_type": "display_data"
    },
    {
     "data": {
      "text/html": [
       "<pre>| 775          | 2e+008  | 0.285858    | 43.93s       |</pre>"
      ],
      "text/plain": [
       "| 775          | 2e+008  | 0.285858    | 43.93s       |"
      ]
     },
     "metadata": {},
     "output_type": "display_data"
    },
    {
     "data": {
      "text/html": [
       "<pre>| 792          | 2e+008  | 0.291938    | 44.95s       |</pre>"
      ],
      "text/plain": [
       "| 792          | 2e+008  | 0.291938    | 44.95s       |"
      ]
     },
     "metadata": {},
     "output_type": "display_data"
    },
    {
     "data": {
      "text/html": [
       "<pre>| 807          | 2e+008  | 0.297558    | 45.94s       |</pre>"
      ],
      "text/plain": [
       "| 807          | 2e+008  | 0.297558    | 45.94s       |"
      ]
     },
     "metadata": {},
     "output_type": "display_data"
    },
    {
     "data": {
      "text/html": [
       "<pre>| 827          | 2e+008  | 0.304835    | 46.94s       |</pre>"
      ],
      "text/plain": [
       "| 827          | 2e+008  | 0.304835    | 46.94s       |"
      ]
     },
     "metadata": {},
     "output_type": "display_data"
    },
    {
     "data": {
      "text/html": [
       "<pre>| 845          | 2e+008  | 0.311652    | 47.91s       |</pre>"
      ],
      "text/plain": [
       "| 845          | 2e+008  | 0.311652    | 47.91s       |"
      ]
     },
     "metadata": {},
     "output_type": "display_data"
    },
    {
     "data": {
      "text/html": [
       "<pre>| 865          | 2e+008  | 0.318746    | 48.91s       |</pre>"
      ],
      "text/plain": [
       "| 865          | 2e+008  | 0.318746    | 48.91s       |"
      ]
     },
     "metadata": {},
     "output_type": "display_data"
    },
    {
     "data": {
      "text/html": [
       "<pre>| 882          | 2e+008  | 0.325195    | 49.91s       |</pre>"
      ],
      "text/plain": [
       "| 882          | 2e+008  | 0.325195    | 49.91s       |"
      ]
     },
     "metadata": {},
     "output_type": "display_data"
    },
    {
     "data": {
      "text/html": [
       "<pre>| 901          | 2e+008  | 0.332288    | 50.92s       |</pre>"
      ],
      "text/plain": [
       "| 901          | 2e+008  | 0.332288    | 50.92s       |"
      ]
     },
     "metadata": {},
     "output_type": "display_data"
    },
    {
     "data": {
      "text/html": [
       "<pre>| 918          | 2e+008  | 0.338368    | 51.89s       |</pre>"
      ],
      "text/plain": [
       "| 918          | 2e+008  | 0.338368    | 51.89s       |"
      ]
     },
     "metadata": {},
     "output_type": "display_data"
    },
    {
     "data": {
      "text/html": [
       "<pre>| 936          | 3e+008  | 0.345093    | 52.89s       |</pre>"
      ],
      "text/plain": [
       "| 936          | 3e+008  | 0.345093    | 52.89s       |"
      ]
     },
     "metadata": {},
     "output_type": "display_data"
    },
    {
     "data": {
      "text/html": [
       "<pre>| 954          | 3e+008  | 0.351818    | 53.89s       |</pre>"
      ],
      "text/plain": [
       "| 954          | 3e+008  | 0.351818    | 53.89s       |"
      ]
     },
     "metadata": {},
     "output_type": "display_data"
    },
    {
     "data": {
      "text/html": [
       "<pre>| 973          | 3e+008  | 0.358819    | 54.88s       |</pre>"
      ],
      "text/plain": [
       "| 973          | 3e+008  | 0.358819    | 54.88s       |"
      ]
     },
     "metadata": {},
     "output_type": "display_data"
    },
    {
     "data": {
      "text/html": [
       "<pre>| 991          | 3e+008  | 0.36536     | 55.87s       |</pre>"
      ],
      "text/plain": [
       "| 991          | 3e+008  | 0.36536     | 55.87s       |"
      ]
     },
     "metadata": {},
     "output_type": "display_data"
    },
    {
     "data": {
      "text/html": [
       "<pre>| 1011         | 3e+008  | 0.372822    | 56.88s       |</pre>"
      ],
      "text/plain": [
       "| 1011         | 3e+008  | 0.372822    | 56.88s       |"
      ]
     },
     "metadata": {},
     "output_type": "display_data"
    },
    {
     "data": {
      "text/html": [
       "<pre>| 1030         | 3e+008  | 0.379547    | 57.86s       |</pre>"
      ],
      "text/plain": [
       "| 1030         | 3e+008  | 0.379547    | 57.86s       |"
      ]
     },
     "metadata": {},
     "output_type": "display_data"
    },
    {
     "data": {
      "text/html": [
       "<pre>| 1048         | 3e+008  | 0.386272    | 58.88s       |</pre>"
      ],
      "text/plain": [
       "| 1048         | 3e+008  | 0.386272    | 58.88s       |"
      ]
     },
     "metadata": {},
     "output_type": "display_data"
    },
    {
     "data": {
      "text/html": [
       "<pre>| 1066         | 3e+008  | 0.393089    | 59.84s       |</pre>"
      ],
      "text/plain": [
       "| 1066         | 3e+008  | 0.393089    | 59.84s       |"
      ]
     },
     "metadata": {},
     "output_type": "display_data"
    },
    {
     "data": {
      "text/html": [
       "<pre>| 1085         | 3e+008  | 0.399999    | 1m 0s        |</pre>"
      ],
      "text/plain": [
       "| 1085         | 3e+008  | 0.399999    | 1m 0s        |"
      ]
     },
     "metadata": {},
     "output_type": "display_data"
    },
    {
     "data": {
      "text/html": [
       "<pre>| 1104         | 3e+008  | 0.407       | 1m 1s        |</pre>"
      ],
      "text/plain": [
       "| 1104         | 3e+008  | 0.407       | 1m 1s        |"
      ]
     },
     "metadata": {},
     "output_type": "display_data"
    },
    {
     "data": {
      "text/html": [
       "<pre>| 1123         | 3e+008  | 0.414001    | 1m 2s        |</pre>"
      ],
      "text/plain": [
       "| 1123         | 3e+008  | 0.414001    | 1m 2s        |"
      ]
     },
     "metadata": {},
     "output_type": "display_data"
    },
    {
     "data": {
      "text/html": [
       "<pre>| 1141         | 3e+008  | 0.420542    | 1m 3s        |</pre>"
      ],
      "text/plain": [
       "| 1141         | 3e+008  | 0.420542    | 1m 3s        |"
      ]
     },
     "metadata": {},
     "output_type": "display_data"
    },
    {
     "data": {
      "text/html": [
       "<pre>| 1161         | 3e+008  | 0.42782     | 1m 4s        |</pre>"
      ],
      "text/plain": [
       "| 1161         | 3e+008  | 0.42782     | 1m 4s        |"
      ]
     },
     "metadata": {},
     "output_type": "display_data"
    },
    {
     "data": {
      "text/html": [
       "<pre>| 1177         | 3e+008  | 0.433992    | 1m 5s        |</pre>"
      ],
      "text/plain": [
       "| 1177         | 3e+008  | 0.433992    | 1m 5s        |"
      ]
     },
     "metadata": {},
     "output_type": "display_data"
    },
    {
     "data": {
      "text/html": [
       "<pre>| 1195         | 3e+008  | 0.440533    | 1m 6s        |</pre>"
      ],
      "text/plain": [
       "| 1195         | 3e+008  | 0.440533    | 1m 6s        |"
      ]
     },
     "metadata": {},
     "output_type": "display_data"
    },
    {
     "data": {
      "text/html": [
       "<pre>| 1214         | 3e+008  | 0.44735     | 1m 7s        |</pre>"
      ],
      "text/plain": [
       "| 1214         | 3e+008  | 0.44735     | 1m 7s        |"
      ]
     },
     "metadata": {},
     "output_type": "display_data"
    },
    {
     "data": {
      "text/html": [
       "<pre>| 1227         | 3e+008  | 0.452232    | 1m 8s        |</pre>"
      ],
      "text/plain": [
       "| 1227         | 3e+008  | 0.452232    | 1m 8s        |"
      ]
     },
     "metadata": {},
     "output_type": "display_data"
    },
    {
     "data": {
      "text/html": [
       "<pre>| 1246         | 3e+008  | 0.459326    | 1m 9s        |</pre>"
      ],
      "text/plain": [
       "| 1246         | 3e+008  | 0.459326    | 1m 9s        |"
      ]
     },
     "metadata": {},
     "output_type": "display_data"
    },
    {
     "data": {
      "text/html": [
       "<pre>| 1264         | 3e+008  | 0.466051    | 1m 10s       |</pre>"
      ],
      "text/plain": [
       "| 1264         | 3e+008  | 0.466051    | 1m 10s       |"
      ]
     },
     "metadata": {},
     "output_type": "display_data"
    },
    {
     "data": {
      "text/html": [
       "<pre>| 1283         | 3e+008  | 0.47296     | 1m 11s       |</pre>"
      ],
      "text/plain": [
       "| 1283         | 3e+008  | 0.47296     | 1m 11s       |"
      ]
     },
     "metadata": {},
     "output_type": "display_data"
    },
    {
     "data": {
      "text/html": [
       "<pre>| 1301         | 4e+008  | 0.479593    | 1m 12s       |</pre>"
      ],
      "text/plain": [
       "| 1301         | 4e+008  | 0.479593    | 1m 12s       |"
      ]
     },
     "metadata": {},
     "output_type": "display_data"
    },
    {
     "data": {
      "text/html": [
       "<pre>| 1320         | 4e+008  | 0.48641     | 1m 13s       |</pre>"
      ],
      "text/plain": [
       "| 1320         | 4e+008  | 0.48641     | 1m 13s       |"
      ]
     },
     "metadata": {},
     "output_type": "display_data"
    },
    {
     "data": {
      "text/html": [
       "<pre>| 1339         | 4e+008  | 0.493596    | 1m 14s       |</pre>"
      ],
      "text/plain": [
       "| 1339         | 4e+008  | 0.493596    | 1m 14s       |"
      ]
     },
     "metadata": {},
     "output_type": "display_data"
    },
    {
     "data": {
      "text/html": [
       "<pre>| 1354         | 4e+008  | 0.499215    | 1m 15s       |</pre>"
      ],
      "text/plain": [
       "| 1354         | 4e+008  | 0.499215    | 1m 15s       |"
      ]
     },
     "metadata": {},
     "output_type": "display_data"
    },
    {
     "data": {
      "text/html": [
       "<pre>| 1373         | 4e+008  | 0.50594     | 1m 16s       |</pre>"
      ],
      "text/plain": [
       "| 1373         | 4e+008  | 0.50594     | 1m 16s       |"
      ]
     },
     "metadata": {},
     "output_type": "display_data"
    },
    {
     "data": {
      "text/html": [
       "<pre>| 1391         | 4e+008  | 0.512665    | 1m 17s       |</pre>"
      ],
      "text/plain": [
       "| 1391         | 4e+008  | 0.512665    | 1m 17s       |"
      ]
     },
     "metadata": {},
     "output_type": "display_data"
    },
    {
     "data": {
      "text/html": [
       "<pre>| 1409         | 4e+008  | 0.51939     | 1m 18s       |</pre>"
      ],
      "text/plain": [
       "| 1409         | 4e+008  | 0.51939     | 1m 18s       |"
      ]
     },
     "metadata": {},
     "output_type": "display_data"
    },
    {
     "data": {
      "text/html": [
       "<pre>| 1425         | 4e+008  | 0.525194    | 1m 19s       |</pre>"
      ],
      "text/plain": [
       "| 1425         | 4e+008  | 0.525194    | 1m 19s       |"
      ]
     },
     "metadata": {},
     "output_type": "display_data"
    },
    {
     "data": {
      "text/html": [
       "<pre>| 1444         | 4e+008  | 0.532195    | 1m 20s       |</pre>"
      ],
      "text/plain": [
       "| 1444         | 4e+008  | 0.532195    | 1m 20s       |"
      ]
     },
     "metadata": {},
     "output_type": "display_data"
    },
    {
     "data": {
      "text/html": [
       "<pre>| 1463         | 4e+008  | 0.539197    | 1m 21s       |</pre>"
      ],
      "text/plain": [
       "| 1463         | 4e+008  | 0.539197    | 1m 21s       |"
      ]
     },
     "metadata": {},
     "output_type": "display_data"
    },
    {
     "data": {
      "text/html": [
       "<pre>| 1482         | 4e+008  | 0.546382    | 1m 22s       |</pre>"
      ],
      "text/plain": [
       "| 1482         | 4e+008  | 0.546382    | 1m 22s       |"
      ]
     },
     "metadata": {},
     "output_type": "display_data"
    },
    {
     "data": {
      "text/html": [
       "<pre>| 1502         | 4e+008  | 0.553752    | 1m 23s       |</pre>"
      ],
      "text/plain": [
       "| 1502         | 4e+008  | 0.553752    | 1m 23s       |"
      ]
     },
     "metadata": {},
     "output_type": "display_data"
    },
    {
     "data": {
      "text/html": [
       "<pre>| 1519         | 4e+008  | 0.559924    | 1m 24s       |</pre>"
      ],
      "text/plain": [
       "| 1519         | 4e+008  | 0.559924    | 1m 24s       |"
      ]
     },
     "metadata": {},
     "output_type": "display_data"
    },
    {
     "data": {
      "text/html": [
       "<pre>| 1536         | 4e+008  | 0.566189    | 1m 25s       |</pre>"
      ],
      "text/plain": [
       "| 1536         | 4e+008  | 0.566189    | 1m 25s       |"
      ]
     },
     "metadata": {},
     "output_type": "display_data"
    },
    {
     "data": {
      "text/html": [
       "<pre>| 1554         | 4e+008  | 0.572821    | 1m 26s       |</pre>"
      ],
      "text/plain": [
       "| 1554         | 4e+008  | 0.572821    | 1m 26s       |"
      ]
     },
     "metadata": {},
     "output_type": "display_data"
    },
    {
     "data": {
      "text/html": [
       "<pre>| 1574         | 4e+008  | 0.580283    | 1m 27s       |</pre>"
      ],
      "text/plain": [
       "| 1574         | 4e+008  | 0.580283    | 1m 27s       |"
      ]
     },
     "metadata": {},
     "output_type": "display_data"
    },
    {
     "data": {
      "text/html": [
       "<pre>| 1593         | 4e+008  | 0.587193    | 1m 28s       |</pre>"
      ],
      "text/plain": [
       "| 1593         | 4e+008  | 0.587193    | 1m 28s       |"
      ]
     },
     "metadata": {},
     "output_type": "display_data"
    },
    {
     "data": {
      "text/html": [
       "<pre>| 1612         | 4e+008  | 0.59401     | 1m 29s       |</pre>"
      ],
      "text/plain": [
       "| 1612         | 4e+008  | 0.59401     | 1m 29s       |"
      ]
     },
     "metadata": {},
     "output_type": "display_data"
    },
    {
     "data": {
      "text/html": [
       "<pre>| 1631         | 4e+008  | 0.601011    | 1m 30s       |</pre>"
      ],
      "text/plain": [
       "| 1631         | 4e+008  | 0.601011    | 1m 30s       |"
      ]
     },
     "metadata": {},
     "output_type": "display_data"
    },
    {
     "data": {
      "text/html": [
       "<pre>| 1647         | 4e+008  | 0.607183    | 1m 31s       |</pre>"
      ],
      "text/plain": [
       "| 1647         | 4e+008  | 0.607183    | 1m 31s       |"
      ]
     },
     "metadata": {},
     "output_type": "display_data"
    },
    {
     "data": {
      "text/html": [
       "<pre>| 1665         | 5e+008  | 0.613816    | 1m 32s       |</pre>"
      ],
      "text/plain": [
       "| 1665         | 5e+008  | 0.613816    | 1m 32s       |"
      ]
     },
     "metadata": {},
     "output_type": "display_data"
    },
    {
     "data": {
      "text/html": [
       "<pre>| 1683         | 5e+008  | 0.620357    | 1m 33s       |</pre>"
      ],
      "text/plain": [
       "| 1683         | 5e+008  | 0.620357    | 1m 33s       |"
      ]
     },
     "metadata": {},
     "output_type": "display_data"
    },
    {
     "data": {
      "text/html": [
       "<pre>| 1702         | 5e+008  | 0.627266    | 1m 34s       |</pre>"
      ],
      "text/plain": [
       "| 1702         | 5e+008  | 0.627266    | 1m 34s       |"
      ]
     },
     "metadata": {},
     "output_type": "display_data"
    },
    {
     "data": {
      "text/html": [
       "<pre>| 1722         | 5e+008  | 0.634636    | 1m 35s       |</pre>"
      ],
      "text/plain": [
       "| 1722         | 5e+008  | 0.634636    | 1m 35s       |"
      ]
     },
     "metadata": {},
     "output_type": "display_data"
    },
    {
     "data": {
      "text/html": [
       "<pre>| 1741         | 5e+008  | 0.641637    | 1m 36s       |</pre>"
      ],
      "text/plain": [
       "| 1741         | 5e+008  | 0.641637    | 1m 36s       |"
      ]
     },
     "metadata": {},
     "output_type": "display_data"
    },
    {
     "data": {
      "text/html": [
       "<pre>| 1759         | 5e+008  | 0.648362    | 1m 37s       |</pre>"
      ],
      "text/plain": [
       "| 1759         | 5e+008  | 0.648362    | 1m 37s       |"
      ]
     },
     "metadata": {},
     "output_type": "display_data"
    },
    {
     "data": {
      "text/html": [
       "<pre>| 1779         | 5e+008  | 0.65564     | 1m 38s       |</pre>"
      ],
      "text/plain": [
       "| 1779         | 5e+008  | 0.65564     | 1m 38s       |"
      ]
     },
     "metadata": {},
     "output_type": "display_data"
    },
    {
     "data": {
      "text/html": [
       "<pre>| 1797         | 5e+008  | 0.662457    | 1m 39s       |</pre>"
      ],
      "text/plain": [
       "| 1797         | 5e+008  | 0.662457    | 1m 39s       |"
      ]
     },
     "metadata": {},
     "output_type": "display_data"
    },
    {
     "data": {
      "text/html": [
       "<pre>| 1816         | 5e+008  | 0.669274    | 1m 40s       |</pre>"
      ],
      "text/plain": [
       "| 1816         | 5e+008  | 0.669274    | 1m 40s       |"
      ]
     },
     "metadata": {},
     "output_type": "display_data"
    },
    {
     "data": {
      "text/html": [
       "<pre>| 1835         | 5e+008  | 0.676368    | 1m 41s       |</pre>"
      ],
      "text/plain": [
       "| 1835         | 5e+008  | 0.676368    | 1m 41s       |"
      ]
     },
     "metadata": {},
     "output_type": "display_data"
    },
    {
     "data": {
      "text/html": [
       "<pre>| 1851         | 5e+008  | 0.682356    | 1m 42s       |</pre>"
      ],
      "text/plain": [
       "| 1851         | 5e+008  | 0.682356    | 1m 42s       |"
      ]
     },
     "metadata": {},
     "output_type": "display_data"
    },
    {
     "data": {
      "text/html": [
       "<pre>| 1871         | 5e+008  | 0.689634    | 1m 43s       |</pre>"
      ],
      "text/plain": [
       "| 1871         | 5e+008  | 0.689634    | 1m 43s       |"
      ]
     },
     "metadata": {},
     "output_type": "display_data"
    },
    {
     "data": {
      "text/html": [
       "<pre>| 1889         | 5e+008  | 0.696359    | 1m 44s       |</pre>"
      ],
      "text/plain": [
       "| 1889         | 5e+008  | 0.696359    | 1m 44s       |"
      ]
     },
     "metadata": {},
     "output_type": "display_data"
    },
    {
     "data": {
      "text/html": [
       "<pre>| 1906         | 5e+008  | 0.702347    | 1m 45s       |</pre>"
      ],
      "text/plain": [
       "| 1906         | 5e+008  | 0.702347    | 1m 45s       |"
      ]
     },
     "metadata": {},
     "output_type": "display_data"
    },
    {
     "data": {
      "text/html": [
       "<pre>| 1925         | 5e+008  | 0.709348    | 1m 46s       |</pre>"
      ],
      "text/plain": [
       "| 1925         | 5e+008  | 0.709348    | 1m 46s       |"
      ]
     },
     "metadata": {},
     "output_type": "display_data"
    },
    {
     "data": {
      "text/html": [
       "<pre>| 1945         | 5e+008  | 0.716718    | 1m 47s       |</pre>"
      ],
      "text/plain": [
       "| 1945         | 5e+008  | 0.716718    | 1m 47s       |"
      ]
     },
     "metadata": {},
     "output_type": "display_data"
    },
    {
     "data": {
      "text/html": [
       "<pre>| 1962         | 5e+008  | 0.723074    | 1m 48s       |</pre>"
      ],
      "text/plain": [
       "| 1962         | 5e+008  | 0.723074    | 1m 48s       |"
      ]
     },
     "metadata": {},
     "output_type": "display_data"
    },
    {
     "data": {
      "text/html": [
       "<pre>| 1981         | 5e+008  | 0.730076    | 1m 49s       |</pre>"
      ],
      "text/plain": [
       "| 1981         | 5e+008  | 0.730076    | 1m 49s       |"
      ]
     },
     "metadata": {},
     "output_type": "display_data"
    },
    {
     "data": {
      "text/html": [
       "<pre>| 2000         | 5e+008  | 0.737261    | 1m 50s       |</pre>"
      ],
      "text/plain": [
       "| 2000         | 5e+008  | 0.737261    | 1m 50s       |"
      ]
     },
     "metadata": {},
     "output_type": "display_data"
    },
    {
     "data": {
      "text/html": [
       "<pre>| 2017         | 5e+008  | 0.743249    | 1m 51s       |</pre>"
      ],
      "text/plain": [
       "| 2017         | 5e+008  | 0.743249    | 1m 51s       |"
      ]
     },
     "metadata": {},
     "output_type": "display_data"
    },
    {
     "data": {
      "text/html": [
       "<pre>| 2034         | 6e+008  | 0.749698    | 1m 52s       |</pre>"
      ],
      "text/plain": [
       "| 2034         | 6e+008  | 0.749698    | 1m 52s       |"
      ]
     },
     "metadata": {},
     "output_type": "display_data"
    }
   ],
   "source": [
    "content_based_model = graphlab.item_content_recommender.create(items_sf, observation_data=graphlab.SFrame(ratings), \n",
    "                                                               user_id='User-ID', item_id='ISBN', target='Book-Rating')"
   ]
  },
  {
   "cell_type": "code",
   "execution_count": null,
   "metadata": {
    "collapsed": true
   },
   "outputs": [],
   "source": []
  }
 ],
 "metadata": {
  "anaconda-cloud": {},
  "kernelspec": {
   "display_name": "Python 2",
   "language": "python",
   "name": "python2"
  },
  "language_info": {
   "codemirror_mode": {
    "name": "ipython",
    "version": 2
   },
   "file_extension": ".py",
   "mimetype": "text/x-python",
   "name": "python",
   "nbconvert_exporter": "python",
   "pygments_lexer": "ipython2",
   "version": "2.7.11"
  }
 },
 "nbformat": 4,
 "nbformat_minor": 1
}
